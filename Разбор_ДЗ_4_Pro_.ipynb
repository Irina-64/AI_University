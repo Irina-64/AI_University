{
  "nbformat": 4,
  "nbformat_minor": 0,
  "metadata": {
    "colab": {
      "name": "Разбор_ДЗ_4_Pro_.ipynb",
      "provenance": [],
      "collapsed_sections": [
        "8b8UCDZkXCAS",
        "fKq66rH4XI-R",
        "yk6B4Q3BXZRn"
      ],
      "include_colab_link": true
    },
    "kernelspec": {
      "name": "python3",
      "display_name": "Python 3"
    },
    "accelerator": "GPU"
  },
  "cells": [
    {
      "cell_type": "markdown",
      "metadata": {
        "id": "view-in-github",
        "colab_type": "text"
      },
      "source": [
        "<a href=\"https://colab.research.google.com/github/Irina-64/AI_University/blob/main/%D0%A0%D0%B0%D0%B7%D0%B1%D0%BE%D1%80_%D0%94%D0%97_4_Pro_.ipynb\" target=\"_parent\"><img src=\"https://colab.research.google.com/assets/colab-badge.svg\" alt=\"Open In Colab\"/></a>"
      ]
    },
    {
      "cell_type": "code",
      "metadata": {
        "id": "c9P3zDcRsYE7"
      },
      "source": [
        "from google.colab import files # Для работы с файлами \n",
        "import numpy as np # Для работы с данными \n",
        "import pandas as pd # Для работы с таблицами\n",
        "import matplotlib.pyplot as plt # Для вывода графиков\n",
        "import os # Для работы с файлами\n",
        "%matplotlib inline\n",
        "\n",
        "from tensorflow.keras import utils # Для работы с категориальными данными\n",
        "from tensorflow.keras.models import Sequential # Полносвязная модель\n",
        "from tensorflow.keras.layers import Dense, Dropout, SpatialDropout1D, BatchNormalization, Embedding, Flatten, Dropout, Conv1D# Слои для сети\n",
        "from tensorflow.python.keras.optimizers import Adam, RMSprop\n",
        "from tensorflow.keras.optimizers import Adam, Adadelta # Алгоритмы оптимизации, для настройки скорости обучения\n",
        "from tensorflow.keras.preprocessing.text import Tokenizer # Методы для работы с текстами и преобразования их в последовательности\n",
        "from tensorflow.keras.preprocessing.sequence import pad_sequences # Метод для работы с последовательностями\n",
        "\n",
        "from sklearn.preprocessing import LabelEncoder # Метод кодирования тестовых лейблов\n",
        "from sklearn.model_selection import train_test_split # Для разделения выборки на тестовую и обучающую\n",
        "from google.colab import drive # Для работы с Google Drive\n",
        "import time # Импортируем библиотеку time\n",
        "\n",
        "import pandas as pd\n",
        "import numpy as np\n"
      ],
      "execution_count": null,
      "outputs": []
    },
    {
      "cell_type": "code",
      "metadata": {
        "id": "LBQ7Bjo2sCp6"
      },
      "source": [
        "!rm -R /content/texts # Проверяем наличие папки texts. Если есть, удаляем ее"
      ],
      "execution_count": null,
      "outputs": []
    },
    {
      "cell_type": "code",
      "metadata": {
        "id": "SDWyHPXqHxr-",
        "colab": {
          "base_uri": "https://localhost:8080/",
          "height": 34
        },
        "outputId": "d5ea6a66-0c47-406b-bb30-91da8b2ab840"
      },
      "source": [
        "from google.colab import drive\n",
        "drive.mount('/content/drive')"
      ],
      "execution_count": null,
      "outputs": [
        {
          "output_type": "stream",
          "text": [
            "Drive already mounted at /content/drive; to attempt to forcibly remount, call drive.mount(\"/content/drive\", force_remount=True).\n"
          ],
          "name": "stdout"
        }
      ]
    },
    {
      "cell_type": "code",
      "metadata": {
        "id": "q3M6nI4hsSG0"
      },
      "source": [
        "# Указываем путь к базе в Google Drive, создаем папку texts и извлекаем туда базу\n",
        "!unzip -q '/content/drive/My Drive/Тексты писателей.zip' -d '/content/texts'"
      ],
      "execution_count": null,
      "outputs": []
    },
    {
      "cell_type": "markdown",
      "metadata": {
        "id": "8b8UCDZkXCAS"
      },
      "source": [
        "# Шаблон с ноута"
      ]
    },
    {
      "cell_type": "code",
      "metadata": {
        "id": "dO0AtmsGs5gq",
        "colab": {
          "base_uri": "https://localhost:8080/"
        },
        "outputId": "77b44924-2aad-464b-cf32-7518c0b5bf74"
      },
      "source": [
        "# Запускаем все необходимые функции\n",
        "\n",
        "def readText(fileName): # Объявляем функции для чтения файла. На вход отправляем путь к файлу\n",
        "  f = open(fileName, 'r')        # Задаем открытие нужного файла в режиме чтения\n",
        "  text = f.read()                # Читаем текст\n",
        "  text = text.replace(\"\\n\", \" \") # Переносы строки переводим в пробелы\n",
        "  \n",
        "  return text                    # Возвращаем текст файла\n",
        "\n",
        "className = [\"О. Генри\", \"Стругацкие\", \"Булгаков\", \"Саймак\", \"Фрай\", \"Брэдберри\"] # Объявляем интересующие нас классы\n",
        "nClasses = len(className) # Считаем количество классов\n",
        "\n",
        "# Формирование обучающей выборки по листу индексов слов\n",
        "# (разделение на короткие векторы)\n",
        "def getSetFromIndexes(wordIndexes, xLen, step): # функция принимает последовательность индексов, размер окна, шаг окна\n",
        "  xSample = [] # Объявляем переменную для векторов\n",
        "  wordsLen = len(wordIndexes) # Считаем количество слов\n",
        "  index = 0 # Задаем начальный индекс \n",
        "\n",
        "  while (index + xLen <= wordsLen):# Идём по всей длине вектора индексов\n",
        "    xSample.append(wordIndexes[index:index+xLen]) # \"Откусываем\" векторы длины xLen\n",
        "    index += step # Смещаеммся вперёд на step\n",
        "    \n",
        "  return xSample\n",
        "\n",
        "# Формирование обучающей и проверочной выборки\n",
        "# Из двух листов индексов от двух классов\n",
        "def createSetsMultiClasses(wordIndexes, xLen, step): # Функция принимает последовательность индексов, размер окна, шаг окна\n",
        "\n",
        "  # Для каждого из 6 классов\n",
        "  # Создаём обучающую/проверочную выборку из индексов\n",
        "  nClasses = len(wordIndexes) # Задаем количество классов выборки\n",
        "  classesXSamples = []        # Здесь будет список размером \"кол-во классов*кол-во окон в тексте*длину окна (например, 6 по 1341*1000)\"\n",
        "  for wI in wordIndexes:      # Для каждого текста выборки из последовательности индексов\n",
        "    classesXSamples.append(getSetFromIndexes(wI, xLen, step)) # Добавляем в список очередной текст индексов, разбитый на \"кол-во окон*длину окна\" \n",
        "\n",
        "  # Формируем один общий xSamples\n",
        "  xSamples = [] # Здесь будет список размером \"суммарное кол-во окон во всех текстах*длину окна (например, 15779*1000)\"\n",
        "  ySamples = [] # Здесь будет список размером \"суммарное кол-во окон во всех текстах*вектор длиной 6\"\n",
        "  \n",
        "  for t in range(nClasses): # В диапазоне кол-ва классов(6)\n",
        "    xT = classesXSamples[t] # Берем очередной текст вида \"кол-во окон в тексте*длину окна\"(например, 1341*1000)\n",
        "    for i in range(len(xT)): # И каждое его окно\n",
        "      xSamples.append(xT[i]) # Добавляем в общий список выборки\n",
        "      ySamples.append(utils.to_categorical(t, nClasses)) # Добавляем соответствующий вектор класса\n",
        "\n",
        "  xSamples = np.array(xSamples) # Переводим в массив numpy для подачи в нейронку\n",
        "  ySamples = np.array(ySamples) # Переводим в массив numpy для подачи в нейронку\n",
        "  \n",
        "  return (xSamples, ySamples) # Функция возвращает выборку и соответствующие векторы классов\n",
        "\n",
        "# Создаем функцию подготовки данных\n",
        "def creat_train_data(maxWordsCount = 15000, xLen = 1000, step = 100):\n",
        "    tokenizer = Tokenizer(num_words=maxWordsCount)\n",
        "    tokenizer.fit_on_texts(trainText) # \"Скармливаем\" наши тексты, т.е. даём в обработку методу, который соберет словарь частотности\n",
        "\n",
        "    # Преобразовываем текст в последовательность индексов согласно частотному словарю\n",
        "    trainWordIndexes = tokenizer.texts_to_sequences(trainText) # Обучающие тесты в индексы\n",
        "    testWordIndexes = tokenizer.texts_to_sequences(testText)  # Проверочные тесты в индексы\n",
        "\n",
        "    #Формируем обучающую и тестовую выборку\n",
        "    xTrain, yTrain = createSetsMultiClasses(trainWordIndexes, xLen, step) #извлекаем обучающую выборку\n",
        "    xTest, yTest = createSetsMultiClasses(testWordIndexes, xLen, step)    #извлекаем тестовую выборку\n",
        "\n",
        "    # Преобразовываем полученные выборки из последовательности индексов в матрицы нулей и единиц по принципу Bag of Words\n",
        "    xTrain01 = tokenizer.sequences_to_matrix(xTrain.tolist()) # Подаем xTrain в виде списка, чтобы метод успешно сработал\n",
        "    xTest01 = tokenizer.sequences_to_matrix(xTest.tolist())   # Подаем xTest в виде списка, чтобы метод успешно сработал\n",
        "\n",
        "    return xTrain, xTrain01, yTrain, xTest, xTest01, yTest\n",
        "\n",
        "#Загружаем обучающие тексты\n",
        "\n",
        "trainText = [] #Формируем обучающие тексты\n",
        "testText = [] #Формируем тестовые тексты\n",
        "\n",
        "#Формирование необходимо произвести следующим образом \n",
        "#Класс каждого i-ого эллемента в обучающей выборке должен соответствовать \n",
        "#классу каждого i-ого эллемента в тестовой выборке\n",
        "\n",
        "for i in className: #Проходим по каждому классу\n",
        "  for j in os.listdir('texts/'): #Проходим по каждому файлу в папке с текстами #\n",
        "    if i in j: #Проверяем, содержит ли файл j в названии имя класса i\n",
        "      \n",
        "      if 'Обучающая' in j: #Если в имени найденного класса есть строка \"Обучающая\" \n",
        "        trainText.append(readText('texts/' + j)) #добавляем в обучающую выборку\n",
        "        print(j, 'добавлен в обучающую выборку') #Выводим информацию\n",
        "      if 'Тестовая' in j: #Если в имени найденного класса есть строка \"Тестовая\"\n",
        "        testText.append(readText('texts/' + j)) #добавляем в обучающую выборку\n",
        "        print(j, 'добавлен в тестовую выборку') #Выводим информацию\n",
        "  print()"
      ],
      "execution_count": null,
      "outputs": [
        {
          "output_type": "stream",
          "text": [
            "(О. Генри) Обучающая_50 вместе.txt добавлен в обучающую выборку\n",
            "(О. Генри) Тестовая_20 вместе.txt добавлен в тестовую выборку\n",
            "\n",
            "(Стругацкие) Обучающая_5 вместе.txt добавлен в обучающую выборку\n",
            "(Стругацкие) Тестовая_2 вместе.txt добавлен в тестовую выборку\n",
            "\n",
            "(Булгаков) Тестовая_2 вместе.txt добавлен в тестовую выборку\n",
            "(Булгаков) Обучающая_5 вместе.txt добавлен в обучающую выборку\n",
            "\n",
            "(Клиффорд_Саймак) Тестовая_2 вместе.txt добавлен в тестовую выборку\n",
            "(Клиффорд_Саймак) Обучающая_5 вместе.txt добавлен в обучающую выборку\n",
            "\n",
            "(Макс Фрай) Тестовая_2 вместе.txt добавлен в тестовую выборку\n",
            "(Макс Фрай) Обучающая_5 вместе.txt добавлен в обучающую выборку\n",
            "\n",
            "(Рэй Брэдберри) Обучающая_22 вместе.txt добавлен в обучающую выборку\n",
            "(Рэй Брэдберри) Тестовая_8 вместе.txt добавлен в тестовую выборку\n",
            "\n"
          ],
          "name": "stdout"
        }
      ]
    },
    {
      "cell_type": "markdown",
      "metadata": {
        "id": "qRCfltvvh1sV"
      },
      "source": [
        "# LIGHT\n",
        "\n",
        "Вариант 1\n",
        "\n",
        "Выполните задания, по каждому варианту напишите точность распознавания на проверочной выборке и сделайте выводы. (тексты писателей)\n",
        "Запустите нейронку c bag of words (01) при разных maxWordsCount\n",
        "\n",
        "* 100\n",
        "* 1000\n",
        "* 10000\n",
        "* 50000\n",
        "\n",
        "Запустите нейронку c bag of words (01) при maxWordsCount = 20000 и разных архитектурах\n",
        "\n",
        "* Поменяйте количество нейронов в слоях\n",
        "* Поменяйте количество слоев\n",
        "* Поменяйте активационные функции слоев\n",
        "\n",
        "Запустите нейронку c Embbedding при maxWordsCount = 50000, поменяйте размер Embedding пространства\n",
        "* 10\n",
        "* 50\n",
        "* 200\n"
      ]
    },
    {
      "cell_type": "code",
      "metadata": {
        "id": "Ujab2d8vvxRO"
      },
      "source": [
        "# Создаем функцию подготовки данных\n",
        "def creat_train_data(maxWordsCount = 15000, xLen = 1000, step = 100):\n",
        "    tokenizer = Tokenizer(num_words=maxWordsCount)\n",
        "    tokenizer.fit_on_texts(trainText) # \"Скармливаем\" наши тексты, т.е. даём в обработку методу, который соберет словарь частотности\n",
        "\n",
        "    # Преобразовываем текст в последовательность индексов согласно частотному словарю\n",
        "    trainWordIndexes = tokenizer.texts_to_sequences(trainText) # Обучающие тесты в индексы\n",
        "    testWordIndexes = tokenizer.texts_to_sequences(testText)  # Проверочные тесты в индексы\n",
        "\n",
        "    #Формируем обучающую и тестовую выборку\n",
        "    xTrain, yTrain = createSetsMultiClasses(trainWordIndexes, xLen, step) #извлекаем обучающую выборку\n",
        "    xTest, yTest = createSetsMultiClasses(testWordIndexes, xLen, step)    #извлекаем тестовую выборку\n",
        "\n",
        "    # Преобразовываем полученные выборки из последовательности индексов в матрицы нулей и единиц по принципу Bag of Words\n",
        "    xTrain01 = tokenizer.sequences_to_matrix(xTrain.tolist()) # Подаем xTrain в виде списка, чтобы метод успешно сработал\n",
        "    xTest01 = tokenizer.sequences_to_matrix(xTest.tolist())   # Подаем xTest в виде списка, чтобы метод успешно сработал\n",
        "\n",
        "    return xTrain, xTrain01, yTrain, xTest, xTest01, yTest"
      ],
      "execution_count": null,
      "outputs": []
    },
    {
      "cell_type": "code",
      "metadata": {
        "id": "9j0EJ24O0qQ5"
      },
      "source": [
        "_, xTrain01, yTrain, _, xTest01, yTest = creat_train_data(maxWordsCount = 15000, xLen = 1000, step = 100)"
      ],
      "execution_count": null,
      "outputs": []
    },
    {
      "cell_type": "code",
      "metadata": {
        "id": "eznF8mCa0q9g",
        "colab": {
          "base_uri": "https://localhost:8080/",
          "height": 619
        },
        "outputId": "dad15f97-3744-43c3-e2dd-0310cbe2af7e"
      },
      "source": [
        "#Создаём полносвязную сеть\n",
        "model01 = Sequential()\n",
        "#Первый полносвязный слой\n",
        "model01.add(Dense(200, input_dim=15000, activation=\"relu\"))\n",
        "#Слой регуляризации Dropout\n",
        "model01.add(Dropout(0.25))\n",
        "#Слой пакетной нормализации\n",
        "model01.add(BatchNormalization())\n",
        "#Выходной полносвязный слой\n",
        "model01.add(Dense(6, activation='softmax'))\n",
        "\n",
        "model01.compile(optimizer='adam', \n",
        "              loss='categorical_crossentropy', \n",
        "              metrics=['accuracy'])\n",
        "\n",
        "#Обучаем сеть на выборке, сформированной по bag of words - xTrain01\n",
        "history = model01.fit(xTrain01, \n",
        "                      yTrain, \n",
        "                      epochs=10,\n",
        "                      batch_size=128,\n",
        "                      validation_data=(xTest01, yTest))\n",
        "\n",
        "plt.plot(history.history['accuracy'], \n",
        "         label='Доля верных ответов на обучающем наборе')\n",
        "plt.plot(history.history['val_accuracy'], \n",
        "         label='Доля верных ответов на проверочном наборе')\n",
        "plt.xlabel('Эпоха обучения')\n",
        "plt.ylabel('Доля верных ответов')\n",
        "plt.legend()\n",
        "plt.show()"
      ],
      "execution_count": null,
      "outputs": [
        {
          "output_type": "stream",
          "text": [
            "Epoch 1/10\n",
            "120/120 [==============================] - 1s 11ms/step - loss: 0.0498 - accuracy: 0.9852 - val_loss: 0.2659 - val_accuracy: 0.9371\n",
            "Epoch 2/10\n",
            "120/120 [==============================] - 1s 9ms/step - loss: 4.7789e-04 - accuracy: 1.0000 - val_loss: 0.2274 - val_accuracy: 0.9356\n",
            "Epoch 3/10\n",
            "120/120 [==============================] - 1s 9ms/step - loss: 2.3994e-04 - accuracy: 1.0000 - val_loss: 0.2213 - val_accuracy: 0.9347\n",
            "Epoch 4/10\n",
            "120/120 [==============================] - 1s 9ms/step - loss: 1.5261e-04 - accuracy: 1.0000 - val_loss: 0.2203 - val_accuracy: 0.9318\n",
            "Epoch 5/10\n",
            "120/120 [==============================] - 1s 9ms/step - loss: 1.1508e-04 - accuracy: 1.0000 - val_loss: 0.2186 - val_accuracy: 0.9309\n",
            "Epoch 6/10\n",
            "120/120 [==============================] - 1s 9ms/step - loss: 9.1850e-05 - accuracy: 1.0000 - val_loss: 0.2170 - val_accuracy: 0.9316\n",
            "Epoch 7/10\n",
            "120/120 [==============================] - 1s 9ms/step - loss: 7.4666e-05 - accuracy: 1.0000 - val_loss: 0.2152 - val_accuracy: 0.9320\n",
            "Epoch 8/10\n",
            "120/120 [==============================] - 1s 9ms/step - loss: 6.2879e-05 - accuracy: 1.0000 - val_loss: 0.2133 - val_accuracy: 0.9325\n",
            "Epoch 9/10\n",
            "120/120 [==============================] - 1s 9ms/step - loss: 5.2761e-05 - accuracy: 1.0000 - val_loss: 0.2153 - val_accuracy: 0.9322\n",
            "Epoch 10/10\n",
            "120/120 [==============================] - 1s 9ms/step - loss: 4.3966e-05 - accuracy: 1.0000 - val_loss: 0.2151 - val_accuracy: 0.9316\n"
          ],
          "name": "stdout"
        },
        {
          "output_type": "display_data",
          "data": {
            "image/png": "[encoded data removed]",
            "text/plain": [
              "<Figure size 432x288 with 1 Axes>"
            ]
          },
          "metadata": {
            "tags": [],
            "needs_background": "light"
          }
        }
      ]
    },
    {
      "cell_type": "code",
      "metadata": {
        "id": "SMukSI8hvxLi",
        "colab": {
          "base_uri": "https://localhost:8080/",
          "height": 34
        },
        "outputId": "2ee6e471-d234-4b8d-aecb-415032180035"
      },
      "source": [
        "data = [[1, 200, 'relu', 15000, None, round(history.history['val_accuracy'][-1], 3)]]\n",
        "data"
      ],
      "execution_count": null,
      "outputs": [
        {
          "output_type": "execute_result",
          "data": {
            "text/plain": [
              "[[1, 200, 'relu', 15000, None, 0.932]]"
            ]
          },
          "metadata": {
            "tags": []
          },
          "execution_count": 9
        }
      ]
    },
    {
      "cell_type": "code",
      "metadata": {
        "id": "_xAzvjS_1Wib",
        "colab": {
          "base_uri": "https://localhost:8080/",
          "height": 34
        },
        "outputId": "a7b18cf6-da49-421d-b92b-b176071b81fe"
      },
      "source": [
        "# чистим оперативную память\n",
        "import gc    \n",
        "gc.collect()"
      ],
      "execution_count": null,
      "outputs": [
        {
          "output_type": "execute_result",
          "data": {
            "text/plain": [
              "4312"
            ]
          },
          "metadata": {
            "tags": []
          },
          "execution_count": 10
        }
      ]
    },
    {
      "cell_type": "code",
      "metadata": {
        "id": "LiqxVht31asn",
        "colab": {
          "base_uri": "https://localhost:8080/",
          "height": 1000
        },
        "outputId": "d399289c-6ca0-41ee-c090-aa260668d5f5"
      },
      "source": [
        "# 1\n",
        "maxWordsCountList = [10,1000,10000,25000]\n",
        "for i in maxWordsCountList:\n",
        "    # чистим оперативную память\n",
        "    gc.collect()\n",
        "    # Подготавливаем данные\n",
        "    _, xTrain01, yTrain, _, xTest01, yTest = creat_train_data(maxWordsCount = i, xLen = 1000, step = 100)\n",
        "    # Создаем сеть\n",
        "    model01 = Sequential()\n",
        "    model01.add(Dense(200, input_dim=i, activation=\"relu\")) # Указываем входной размер \n",
        "    model01.add(Dropout(0.25))\n",
        "    model01.add(BatchNormalization())\n",
        "    model01.add(Dense(6, activation='softmax'))\n",
        "\n",
        "    model01.compile(optimizer='adam', \n",
        "                loss='categorical_crossentropy', \n",
        "                metrics=['accuracy'])\n",
        "\n",
        "    #Обучаем сеть на выборке, сформированной по bag of words - xTrain01\n",
        "    history = model01.fit(xTrain01, \n",
        "                        yTrain, \n",
        "                        epochs=10,\n",
        "                        batch_size=128,\n",
        "                        validation_data=(xTest01, yTest))\n",
        "    data = data + [[1, 200, 'relu', i, None, round(history.history['val_accuracy'][-1], 3)]]\n",
        "\n",
        "# 2.1\n",
        "# Подготавливаем данные\n",
        "_, xTrain01, yTrain, _, xTest01, yTest = creat_train_data(maxWordsCount = 20000, xLen = 1000, step = 100)\n",
        "\n",
        "neurons_list = [10, 50, 100, 500, 1000, 2000]\n",
        "\n",
        "for i in neurons_list:\n",
        "    # чистим оперативную память\n",
        "    gc.collect()\n",
        "    # Создаем сеть\n",
        "    model01 = Sequential()\n",
        "    model01.add(Dense(i, input_dim=20000, activation=\"relu\")) # Указываем кол-во нейронов\n",
        "    model01.add(Dropout(0.25))\n",
        "    model01.add(BatchNormalization())\n",
        "    model01.add(Dense(6, activation='softmax'))\n",
        "\n",
        "    model01.compile(optimizer='adam', \n",
        "                loss='categorical_crossentropy', \n",
        "                metrics=['accuracy'])\n",
        "\n",
        "    #Обучаем сеть на выборке, сформированной по bag of words - xTrain01\n",
        "    history = model01.fit(xTrain01, \n",
        "                        yTrain, \n",
        "                        epochs=10,\n",
        "                        batch_size=128,\n",
        "                        validation_data=(xTest01, yTest))\n",
        "    data = data + [[1, i, 'relu', 20000, None, round(history.history['val_accuracy'][-1], 3)]]\n",
        "\n",
        "# 2.2\n",
        "for i in neurons_list:\n",
        "    # чистим оперативную память\n",
        "    gc.collect()\n",
        "    # Создаем сеть\n",
        "    model01 = Sequential()\n",
        "    model01.add(Dense(i, input_dim=20000, activation=\"relu\")) # Указываем кол-во нейронов\n",
        "    model01.add(Dense(i, activation=\"relu\"))                  # Добавляем еще один слой\n",
        "    model01.add(Dropout(0.25))\n",
        "    model01.add(BatchNormalization())\n",
        "    model01.add(Dense(6, activation='softmax'))\n",
        "\n",
        "    model01.compile(optimizer='adam', \n",
        "                loss='categorical_crossentropy', \n",
        "                metrics=['accuracy'])\n",
        "\n",
        "    #Обучаем сеть на выборке, сформированной по bag of words - xTrain01\n",
        "    history = model01.fit(xTrain01, \n",
        "                        yTrain, \n",
        "                        epochs=10,\n",
        "                        batch_size=128,\n",
        "                        validation_data=(xTest01, yTest))\n",
        "    data = data + [[2, i, 'relu', 20000, None, round(history.history['val_accuracy'][-1], 3)]]\n",
        "\n",
        "# 2.3\n",
        "# чистим оперативную память\n",
        "gc.collect()\n",
        "# Создаем сеть\n",
        "model01 = Sequential()\n",
        "model01.add(Dense(200, input_dim=20000, activation=\"linear\")) # Указываем активационную функцию linear\n",
        "model01.add(Dropout(0.25))\n",
        "model01.add(BatchNormalization())\n",
        "model01.add(Dense(6, activation='softmax'))\n",
        "\n",
        "model01.compile(optimizer='adam', \n",
        "            loss='categorical_crossentropy', \n",
        "            metrics=['accuracy'])\n",
        "\n",
        "#Обучаем сеть на выборке, сформированной по bag of words - xTrain01\n",
        "history = model01.fit(xTrain01, \n",
        "                    yTrain, \n",
        "                    epochs=10,\n",
        "                    batch_size=128,\n",
        "                    validation_data=(xTest01, yTest))\n",
        "data = data + [[1, 200, 'linear', 20000, None, round(history.history['val_accuracy'][-1], 3)]]"
      ],
      "execution_count": null,
      "outputs": [
        {
          "output_type": "stream",
          "text": [
            "Epoch 1/10\n",
            "24/24 [==============================] - 0s 9ms/step - loss: 1.9178 - accuracy: 0.2276 - val_loss: 1.7310 - val_accuracy: 0.3401\n",
            "Epoch 2/10\n",
            "24/24 [==============================] - 0s 4ms/step - loss: 1.7005 - accuracy: 0.2818 - val_loss: 1.6968 - val_accuracy: 0.3401\n",
            "Epoch 3/10\n",
            "24/24 [==============================] - 0s 4ms/step - loss: 1.5897 - accuracy: 0.3297 - val_loss: 1.6876 - val_accuracy: 0.3401\n",
            "Epoch 4/10\n",
            "24/24 [==============================] - 0s 4ms/step - loss: 1.5395 - accuracy: 0.3448 - val_loss: 1.6860 - val_accuracy: 0.3401\n",
            "Epoch 5/10\n",
            "24/24 [==============================] - 0s 4ms/step - loss: 1.4960 - accuracy: 0.3652 - val_loss: 1.6669 - val_accuracy: 0.3401\n",
            "Epoch 6/10\n",
            "24/24 [==============================] - 0s 5ms/step - loss: 1.4886 - accuracy: 0.3576 - val_loss: 1.6586 - val_accuracy: 0.3401\n",
            "Epoch 7/10\n",
            "24/24 [==============================] - 0s 4ms/step - loss: 1.4871 - accuracy: 0.3589 - val_loss: 1.6578 - val_accuracy: 0.3401\n",
            "Epoch 8/10\n",
            "24/24 [==============================] - 0s 4ms/step - loss: 1.4676 - accuracy: 0.3599 - val_loss: 1.6601 - val_accuracy: 0.3401\n",
            "Epoch 9/10\n",
            "24/24 [==============================] - 0s 4ms/step - loss: 1.4594 - accuracy: 0.3727 - val_loss: 1.6399 - val_accuracy: 0.3401\n",
            "Epoch 10/10\n",
            "24/24 [==============================] - 0s 4ms/step - loss: 1.4539 - accuracy: 0.3800 - val_loss: 1.6354 - val_accuracy: 0.3401\n",
            "Epoch 1/10\n",
            "85/85 [==============================] - 0s 5ms/step - loss: 0.2243 - accuracy: 0.9303 - val_loss: 0.3759 - val_accuracy: 0.9027\n",
            "Epoch 2/10\n",
            "85/85 [==============================] - 0s 4ms/step - loss: 0.0092 - accuracy: 0.9997 - val_loss: 0.2964 - val_accuracy: 0.9244\n",
            "Epoch 3/10\n",
            "85/85 [==============================] - 0s 4ms/step - loss: 0.0047 - accuracy: 1.0000 - val_loss: 0.2668 - val_accuracy: 0.9246\n",
            "Epoch 4/10\n",
            "85/85 [==============================] - 0s 4ms/step - loss: 0.0028 - accuracy: 1.0000 - val_loss: 0.2594 - val_accuracy: 0.9249\n",
            "Epoch 5/10\n",
            "85/85 [==============================] - 0s 4ms/step - loss: 0.0018 - accuracy: 1.0000 - val_loss: 0.2489 - val_accuracy: 0.9256\n",
            "Epoch 6/10\n",
            "85/85 [==============================] - 0s 4ms/step - loss: 0.0014 - accuracy: 1.0000 - val_loss: 0.2416 - val_accuracy: 0.9266\n",
            "Epoch 7/10\n",
            "85/85 [==============================] - 0s 4ms/step - loss: 0.0011 - accuracy: 1.0000 - val_loss: 0.2393 - val_accuracy: 0.9287\n",
            "Epoch 8/10\n",
            "85/85 [==============================] - 0s 4ms/step - loss: 9.6322e-04 - accuracy: 1.0000 - val_loss: 0.2356 - val_accuracy: 0.9282\n",
            "Epoch 9/10\n",
            "85/85 [==============================] - 0s 4ms/step - loss: 7.0035e-04 - accuracy: 1.0000 - val_loss: 0.2287 - val_accuracy: 0.9297\n",
            "Epoch 10/10\n",
            "85/85 [==============================] - 0s 4ms/step - loss: 5.7183e-04 - accuracy: 1.0000 - val_loss: 0.2326 - val_accuracy: 0.9289\n",
            "Epoch 1/10\n",
            "115/115 [==============================] - 1s 8ms/step - loss: 0.0581 - accuracy: 0.9827 - val_loss: 0.2787 - val_accuracy: 0.9255\n",
            "Epoch 2/10\n",
            "115/115 [==============================] - 1s 7ms/step - loss: 6.3504e-04 - accuracy: 1.0000 - val_loss: 0.2200 - val_accuracy: 0.9348\n",
            "Epoch 3/10\n",
            "115/115 [==============================] - 1s 7ms/step - loss: 3.3141e-04 - accuracy: 1.0000 - val_loss: 0.2035 - val_accuracy: 0.9372\n",
            "Epoch 4/10\n",
            "115/115 [==============================] - 1s 7ms/step - loss: 2.0775e-04 - accuracy: 1.0000 - val_loss: 0.2055 - val_accuracy: 0.9323\n",
            "Epoch 5/10\n",
            "115/115 [==============================] - 1s 7ms/step - loss: 1.5566e-04 - accuracy: 1.0000 - val_loss: 0.2019 - val_accuracy: 0.9331\n",
            "Epoch 6/10\n",
            "115/115 [==============================] - 1s 7ms/step - loss: 1.0793e-04 - accuracy: 1.0000 - val_loss: 0.1990 - val_accuracy: 0.9327\n",
            "Epoch 7/10\n",
            "115/115 [==============================] - 1s 7ms/step - loss: 8.3802e-05 - accuracy: 1.0000 - val_loss: 0.1978 - val_accuracy: 0.9334\n",
            "Epoch 8/10\n",
            "115/115 [==============================] - 1s 7ms/step - loss: 7.3473e-05 - accuracy: 1.0000 - val_loss: 0.2003 - val_accuracy: 0.9317\n",
            "Epoch 9/10\n",
            "115/115 [==============================] - 1s 7ms/step - loss: 6.0792e-05 - accuracy: 1.0000 - val_loss: 0.1978 - val_accuracy: 0.9329\n",
            "Epoch 10/10\n",
            "115/115 [==============================] - 1s 7ms/step - loss: 5.0076e-05 - accuracy: 1.0000 - val_loss: 0.1976 - val_accuracy: 0.9329\n",
            "Epoch 1/10\n",
            "127/127 [==============================] - 2s 14ms/step - loss: 0.0424 - accuracy: 0.9879 - val_loss: 0.2805 - val_accuracy: 0.9319\n",
            "Epoch 2/10\n",
            "127/127 [==============================] - 2s 12ms/step - loss: 3.2342e-04 - accuracy: 1.0000 - val_loss: 0.2403 - val_accuracy: 0.9338\n",
            "Epoch 3/10\n",
            "127/127 [==============================] - 2s 13ms/step - loss: 4.7625e-04 - accuracy: 0.9999 - val_loss: 0.2303 - val_accuracy: 0.9342\n",
            "Epoch 4/10\n",
            "127/127 [==============================] - 2s 12ms/step - loss: 2.1482e-04 - accuracy: 1.0000 - val_loss: 0.2242 - val_accuracy: 0.9367\n",
            "Epoch 5/10\n",
            "127/127 [==============================] - 2s 12ms/step - loss: 1.4075e-04 - accuracy: 1.0000 - val_loss: 0.2213 - val_accuracy: 0.9371\n",
            "Epoch 6/10\n",
            "127/127 [==============================] - 2s 12ms/step - loss: 9.1248e-05 - accuracy: 1.0000 - val_loss: 0.2146 - val_accuracy: 0.9407\n",
            "Epoch 7/10\n",
            "127/127 [==============================] - 2s 12ms/step - loss: 7.3763e-05 - accuracy: 1.0000 - val_loss: 0.2176 - val_accuracy: 0.9357\n",
            "Epoch 8/10\n",
            "127/127 [==============================] - 2s 12ms/step - loss: 6.2316e-05 - accuracy: 1.0000 - val_loss: 0.2126 - val_accuracy: 0.9397\n",
            "Epoch 9/10\n",
            "127/127 [==============================] - 2s 12ms/step - loss: 2.9377e-04 - accuracy: 0.9999 - val_loss: 0.2198 - val_accuracy: 0.9354\n",
            "Epoch 10/10\n",
            "127/127 [==============================] - 2s 12ms/step - loss: 8.5407e-05 - accuracy: 1.0000 - val_loss: 0.2619 - val_accuracy: 0.9125\n",
            "Epoch 1/10\n",
            "124/124 [==============================] - 2s 13ms/step - loss: 0.5073 - accuracy: 0.8935 - val_loss: 0.6966 - val_accuracy: 0.8310\n",
            "Epoch 2/10\n",
            "124/124 [==============================] - 1s 10ms/step - loss: 0.2429 - accuracy: 0.9610 - val_loss: 0.5568 - val_accuracy: 0.8800\n",
            "Epoch 3/10\n",
            "124/124 [==============================] - 1s 10ms/step - loss: 0.1744 - accuracy: 0.9674 - val_loss: 0.4730 - val_accuracy: 0.8927\n",
            "Epoch 4/10\n",
            "124/124 [==============================] - 1s 10ms/step - loss: 0.1383 - accuracy: 0.9728 - val_loss: 0.4129 - val_accuracy: 0.9039\n",
            "Epoch 5/10\n",
            "124/124 [==============================] - 1s 10ms/step - loss: 0.1201 - accuracy: 0.9735 - val_loss: 0.3856 - val_accuracy: 0.9013\n",
            "Epoch 6/10\n",
            "124/124 [==============================] - 1s 10ms/step - loss: 0.1044 - accuracy: 0.9758 - val_loss: 0.3529 - val_accuracy: 0.9062\n",
            "Epoch 7/10\n",
            "124/124 [==============================] - 1s 10ms/step - loss: 0.0946 - accuracy: 0.9767 - val_loss: 0.3689 - val_accuracy: 0.8793\n",
            "Epoch 8/10\n",
            "124/124 [==============================] - 1s 10ms/step - loss: 0.0875 - accuracy: 0.9778 - val_loss: 0.3469 - val_accuracy: 0.8851\n",
            "Epoch 9/10\n",
            "124/124 [==============================] - 1s 10ms/step - loss: 0.0830 - accuracy: 0.9791 - val_loss: 0.3184 - val_accuracy: 0.8937\n",
            "Epoch 10/10\n",
            "124/124 [==============================] - 1s 10ms/step - loss: 0.0766 - accuracy: 0.9802 - val_loss: 0.3203 - val_accuracy: 0.8816\n",
            "Epoch 1/10\n",
            "124/124 [==============================] - 2s 12ms/step - loss: 0.0934 - accuracy: 0.9786 - val_loss: 0.3217 - val_accuracy: 0.9489\n",
            "Epoch 2/10\n",
            "124/124 [==============================] - 1s 10ms/step - loss: 0.0067 - accuracy: 1.0000 - val_loss: 0.2547 - val_accuracy: 0.9462\n",
            "Epoch 3/10\n",
            "124/124 [==============================] - 1s 10ms/step - loss: 0.0036 - accuracy: 1.0000 - val_loss: 0.2471 - val_accuracy: 0.9367\n",
            "Epoch 4/10\n",
            "124/124 [==============================] - 1s 11ms/step - loss: 0.0023 - accuracy: 1.0000 - val_loss: 0.2444 - val_accuracy: 0.9309\n",
            "Epoch 5/10\n",
            "124/124 [==============================] - 1s 10ms/step - loss: 0.0017 - accuracy: 1.0000 - val_loss: 0.2213 - val_accuracy: 0.9394\n",
            "Epoch 6/10\n",
            "124/124 [==============================] - 1s 10ms/step - loss: 0.0012 - accuracy: 1.0000 - val_loss: 0.2235 - val_accuracy: 0.9364\n",
            "Epoch 7/10\n",
            "124/124 [==============================] - 1s 10ms/step - loss: 8.7764e-04 - accuracy: 1.0000 - val_loss: 0.2181 - val_accuracy: 0.9350\n",
            "Epoch 8/10\n",
            "124/124 [==============================] - 1s 10ms/step - loss: 7.4107e-04 - accuracy: 1.0000 - val_loss: 0.2101 - val_accuracy: 0.9355\n",
            "Epoch 9/10\n",
            "124/124 [==============================] - 1s 10ms/step - loss: 6.8438e-04 - accuracy: 1.0000 - val_loss: 0.2080 - val_accuracy: 0.9380\n",
            "Epoch 10/10\n",
            "124/124 [==============================] - 1s 10ms/step - loss: 6.0289e-04 - accuracy: 1.0000 - val_loss: 0.2017 - val_accuracy: 0.9395\n",
            "Epoch 1/10\n",
            "124/124 [==============================] - 2s 12ms/step - loss: 0.0586 - accuracy: 0.9842 - val_loss: 0.2930 - val_accuracy: 0.9323\n",
            "Epoch 2/10\n",
            "124/124 [==============================] - 1s 10ms/step - loss: 0.0015 - accuracy: 1.0000 - val_loss: 0.2464 - val_accuracy: 0.9323\n",
            "Epoch 3/10\n",
            "124/124 [==============================] - 1s 10ms/step - loss: 7.3408e-04 - accuracy: 1.0000 - val_loss: 0.2374 - val_accuracy: 0.9306\n",
            "Epoch 4/10\n",
            "124/124 [==============================] - 1s 10ms/step - loss: 4.8091e-04 - accuracy: 1.0000 - val_loss: 0.2322 - val_accuracy: 0.9304\n",
            "Epoch 5/10\n",
            "124/124 [==============================] - 1s 10ms/step - loss: 3.8015e-04 - accuracy: 1.0000 - val_loss: 0.2249 - val_accuracy: 0.9336\n",
            "Epoch 6/10\n",
            "124/124 [==============================] - 1s 10ms/step - loss: 2.6719e-04 - accuracy: 1.0000 - val_loss: 0.2254 - val_accuracy: 0.9320\n",
            "Epoch 7/10\n",
            "124/124 [==============================] - 1s 10ms/step - loss: 2.1378e-04 - accuracy: 1.0000 - val_loss: 0.2236 - val_accuracy: 0.9306\n",
            "Epoch 8/10\n",
            "124/124 [==============================] - 1s 10ms/step - loss: 1.7446e-04 - accuracy: 1.0000 - val_loss: 0.2242 - val_accuracy: 0.9300\n",
            "Epoch 9/10\n",
            "124/124 [==============================] - 1s 10ms/step - loss: 1.5232e-04 - accuracy: 1.0000 - val_loss: 0.2218 - val_accuracy: 0.9306\n",
            "Epoch 10/10\n",
            "124/124 [==============================] - 1s 10ms/step - loss: 1.2190e-04 - accuracy: 1.0000 - val_loss: 0.2163 - val_accuracy: 0.9320\n",
            "Epoch 1/10\n",
            "124/124 [==============================] - 2s 13ms/step - loss: 0.0337 - accuracy: 0.9895 - val_loss: 0.3350 - val_accuracy: 0.8891\n",
            "Epoch 2/10\n",
            "124/124 [==============================] - 1s 11ms/step - loss: 6.2456e-05 - accuracy: 1.0000 - val_loss: 0.2898 - val_accuracy: 0.8971\n",
            "Epoch 3/10\n",
            "124/124 [==============================] - 1s 11ms/step - loss: 3.2664e-05 - accuracy: 1.0000 - val_loss: 0.2883 - val_accuracy: 0.8958\n",
            "Epoch 4/10\n",
            "124/124 [==============================] - 1s 11ms/step - loss: 1.8433e-05 - accuracy: 1.0000 - val_loss: 0.2925 - val_accuracy: 0.8950\n",
            "Epoch 5/10\n",
            "124/124 [==============================] - 1s 11ms/step - loss: 1.3574e-05 - accuracy: 1.0000 - val_loss: 0.2934 - val_accuracy: 0.8955\n",
            "Epoch 6/10\n",
            "124/124 [==============================] - 1s 11ms/step - loss: 9.1887e-06 - accuracy: 1.0000 - val_loss: 0.2929 - val_accuracy: 0.8958\n",
            "Epoch 7/10\n",
            "124/124 [==============================] - 1s 11ms/step - loss: 7.8362e-06 - accuracy: 1.0000 - val_loss: 0.2930 - val_accuracy: 0.8960\n",
            "Epoch 8/10\n",
            "124/124 [==============================] - 1s 12ms/step - loss: 6.3516e-06 - accuracy: 1.0000 - val_loss: 0.2930 - val_accuracy: 0.8976\n",
            "Epoch 9/10\n",
            "124/124 [==============================] - 1s 11ms/step - loss: 5.6979e-06 - accuracy: 1.0000 - val_loss: 0.2936 - val_accuracy: 0.8973\n",
            "Epoch 10/10\n",
            "124/124 [==============================] - 1s 11ms/step - loss: 4.4652e-06 - accuracy: 1.0000 - val_loss: 0.2943 - val_accuracy: 0.8978\n",
            "Epoch 1/10\n",
            "124/124 [==============================] - 2s 15ms/step - loss: 0.0309 - accuracy: 0.9899 - val_loss: 0.3114 - val_accuracy: 0.8973\n",
            "Epoch 2/10\n",
            "124/124 [==============================] - 2s 12ms/step - loss: 3.2891e-05 - accuracy: 1.0000 - val_loss: 0.2873 - val_accuracy: 0.9002\n",
            "Epoch 3/10\n",
            "124/124 [==============================] - 2s 13ms/step - loss: 1.8301e-05 - accuracy: 1.0000 - val_loss: 0.2937 - val_accuracy: 0.8988\n",
            "Epoch 4/10\n",
            "124/124 [==============================] - 2s 12ms/step - loss: 1.2112e-05 - accuracy: 1.0000 - val_loss: 0.2970 - val_accuracy: 0.8987\n",
            "Epoch 5/10\n",
            "124/124 [==============================] - 2s 12ms/step - loss: 7.3547e-06 - accuracy: 1.0000 - val_loss: 0.3009 - val_accuracy: 0.8995\n",
            "Epoch 6/10\n",
            "124/124 [==============================] - 2s 12ms/step - loss: 5.8031e-06 - accuracy: 1.0000 - val_loss: 0.3034 - val_accuracy: 0.8997\n",
            "Epoch 7/10\n",
            "124/124 [==============================] - 2s 13ms/step - loss: 4.9558e-06 - accuracy: 1.0000 - val_loss: 0.3034 - val_accuracy: 0.9001\n",
            "Epoch 8/10\n",
            "124/124 [==============================] - 2s 13ms/step - loss: 4.1633e-06 - accuracy: 1.0000 - val_loss: 0.3042 - val_accuracy: 0.8997\n",
            "Epoch 9/10\n",
            "124/124 [==============================] - 2s 13ms/step - loss: 3.3993e-06 - accuracy: 1.0000 - val_loss: 0.3033 - val_accuracy: 0.9002\n",
            "Epoch 10/10\n",
            "124/124 [==============================] - 2s 13ms/step - loss: 3.0486e-06 - accuracy: 1.0000 - val_loss: 0.3010 - val_accuracy: 0.9008\n",
            "Epoch 1/10\n",
            "124/124 [==============================] - 2s 18ms/step - loss: 0.0322 - accuracy: 0.9901 - val_loss: 0.3338 - val_accuracy: 0.8992\n",
            "Epoch 2/10\n",
            "124/124 [==============================] - 2s 16ms/step - loss: 3.1056e-05 - accuracy: 1.0000 - val_loss: 0.3303 - val_accuracy: 0.8994\n",
            "Epoch 3/10\n",
            "124/124 [==============================] - 2s 16ms/step - loss: 1.0497e-05 - accuracy: 1.0000 - val_loss: 0.3750 - val_accuracy: 0.8906\n",
            "Epoch 4/10\n",
            "124/124 [==============================] - 2s 16ms/step - loss: 7.3543e-06 - accuracy: 1.0000 - val_loss: 0.3900 - val_accuracy: 0.8874\n",
            "Epoch 5/10\n",
            "124/124 [==============================] - 2s 16ms/step - loss: 6.6395e-06 - accuracy: 1.0000 - val_loss: 0.3923 - val_accuracy: 0.8897\n",
            "Epoch 6/10\n",
            "124/124 [==============================] - 2s 16ms/step - loss: 3.8673e-06 - accuracy: 1.0000 - val_loss: 0.3823 - val_accuracy: 0.8914\n",
            "Epoch 7/10\n",
            "124/124 [==============================] - 2s 16ms/step - loss: 3.1079e-06 - accuracy: 1.0000 - val_loss: 0.3836 - val_accuracy: 0.8911\n",
            "Epoch 8/10\n",
            "124/124 [==============================] - 2s 16ms/step - loss: 2.7737e-06 - accuracy: 1.0000 - val_loss: 0.3820 - val_accuracy: 0.8921\n",
            "Epoch 9/10\n",
            "124/124 [==============================] - 2s 16ms/step - loss: 2.7749e-06 - accuracy: 1.0000 - val_loss: 0.3850 - val_accuracy: 0.8925\n",
            "Epoch 10/10\n",
            "124/124 [==============================] - 2s 16ms/step - loss: 1.8664e-06 - accuracy: 1.0000 - val_loss: 0.3854 - val_accuracy: 0.8930\n",
            "Epoch 1/10\n",
            "124/124 [==============================] - 2s 12ms/step - loss: 0.7880 - accuracy: 0.7758 - val_loss: 1.0373 - val_accuracy: 0.7751\n",
            "Epoch 2/10\n",
            "124/124 [==============================] - 1s 10ms/step - loss: 0.3772 - accuracy: 0.9205 - val_loss: 0.7557 - val_accuracy: 0.8225\n",
            "Epoch 3/10\n",
            "124/124 [==============================] - 1s 10ms/step - loss: 0.2764 - accuracy: 0.9325 - val_loss: 0.6090 - val_accuracy: 0.8542\n",
            "Epoch 4/10\n",
            "124/124 [==============================] - 1s 10ms/step - loss: 0.2135 - accuracy: 0.9522 - val_loss: 0.5689 - val_accuracy: 0.8194\n",
            "Epoch 5/10\n",
            "124/124 [==============================] - 1s 10ms/step - loss: 0.1762 - accuracy: 0.9593 - val_loss: 0.4773 - val_accuracy: 0.8574\n",
            "Epoch 6/10\n",
            "124/124 [==============================] - 1s 10ms/step - loss: 0.1459 - accuracy: 0.9629 - val_loss: 0.4248 - val_accuracy: 0.8706\n",
            "Epoch 7/10\n",
            "124/124 [==============================] - 1s 10ms/step - loss: 0.1297 - accuracy: 0.9643 - val_loss: 0.3825 - val_accuracy: 0.8839\n",
            "Epoch 8/10\n",
            "124/124 [==============================] - 1s 10ms/step - loss: 0.1172 - accuracy: 0.9667 - val_loss: 0.3986 - val_accuracy: 0.8657\n",
            "Epoch 9/10\n",
            "124/124 [==============================] - 1s 10ms/step - loss: 0.1140 - accuracy: 0.9669 - val_loss: 0.3408 - val_accuracy: 0.9027\n",
            "Epoch 10/10\n",
            "124/124 [==============================] - 1s 10ms/step - loss: 0.1046 - accuracy: 0.9703 - val_loss: 0.3509 - val_accuracy: 0.8872\n",
            "Epoch 1/10\n",
            "124/124 [==============================] - 2s 12ms/step - loss: 0.1517 - accuracy: 0.9650 - val_loss: 0.3818 - val_accuracy: 0.9205\n",
            "Epoch 2/10\n",
            "124/124 [==============================] - 1s 10ms/step - loss: 0.0108 - accuracy: 0.9999 - val_loss: 0.3014 - val_accuracy: 0.9232\n",
            "Epoch 3/10\n",
            "124/124 [==============================] - 1s 10ms/step - loss: 0.0053 - accuracy: 1.0000 - val_loss: 0.2706 - val_accuracy: 0.9235\n",
            "Epoch 4/10\n",
            "124/124 [==============================] - 1s 10ms/step - loss: 0.0036 - accuracy: 1.0000 - val_loss: 0.2616 - val_accuracy: 0.9210\n",
            "Epoch 5/10\n",
            "124/124 [==============================] - 1s 10ms/step - loss: 0.0025 - accuracy: 1.0000 - val_loss: 0.2409 - val_accuracy: 0.9256\n",
            "Epoch 6/10\n",
            "124/124 [==============================] - 1s 10ms/step - loss: 0.0018 - accuracy: 1.0000 - val_loss: 0.2496 - val_accuracy: 0.9202\n",
            "Epoch 7/10\n",
            "124/124 [==============================] - 1s 10ms/step - loss: 0.0014 - accuracy: 1.0000 - val_loss: 0.2411 - val_accuracy: 0.9242\n",
            "Epoch 8/10\n",
            "124/124 [==============================] - 1s 10ms/step - loss: 0.0012 - accuracy: 1.0000 - val_loss: 0.2421 - val_accuracy: 0.9217\n",
            "Epoch 9/10\n",
            "124/124 [==============================] - 1s 10ms/step - loss: 0.0011 - accuracy: 1.0000 - val_loss: 0.2389 - val_accuracy: 0.9186\n",
            "Epoch 10/10\n",
            "124/124 [==============================] - 1s 10ms/step - loss: 8.0803e-04 - accuracy: 1.0000 - val_loss: 0.2249 - val_accuracy: 0.9256\n",
            "Epoch 1/10\n",
            "124/124 [==============================] - 2s 12ms/step - loss: 0.0912 - accuracy: 0.9754 - val_loss: 0.3576 - val_accuracy: 0.8955\n",
            "Epoch 2/10\n",
            "124/124 [==============================] - 1s 10ms/step - loss: 0.0022 - accuracy: 1.0000 - val_loss: 0.2723 - val_accuracy: 0.9209\n",
            "Epoch 3/10\n",
            "124/124 [==============================] - 1s 10ms/step - loss: 0.0011 - accuracy: 1.0000 - val_loss: 0.2446 - val_accuracy: 0.9265\n",
            "Epoch 4/10\n",
            "124/124 [==============================] - 1s 10ms/step - loss: 7.0204e-04 - accuracy: 1.0000 - val_loss: 0.2347 - val_accuracy: 0.9270\n",
            "Epoch 5/10\n",
            "124/124 [==============================] - 1s 10ms/step - loss: 4.7479e-04 - accuracy: 1.0000 - val_loss: 0.2323 - val_accuracy: 0.9270\n",
            "Epoch 6/10\n",
            "124/124 [==============================] - 1s 11ms/step - loss: 3.6248e-04 - accuracy: 1.0000 - val_loss: 0.2268 - val_accuracy: 0.9293\n",
            "Epoch 7/10\n",
            "124/124 [==============================] - 1s 10ms/step - loss: 2.7205e-04 - accuracy: 1.0000 - val_loss: 0.2257 - val_accuracy: 0.9283\n",
            "Epoch 8/10\n",
            "124/124 [==============================] - 1s 10ms/step - loss: 2.1409e-04 - accuracy: 1.0000 - val_loss: 0.2202 - val_accuracy: 0.9297\n",
            "Epoch 9/10\n",
            "124/124 [==============================] - 1s 10ms/step - loss: 1.8210e-04 - accuracy: 1.0000 - val_loss: 0.2156 - val_accuracy: 0.9313\n",
            "Epoch 10/10\n",
            "124/124 [==============================] - 1s 10ms/step - loss: 1.5341e-04 - accuracy: 1.0000 - val_loss: 0.2154 - val_accuracy: 0.9304\n",
            "Epoch 1/10\n",
            "124/124 [==============================] - 2s 14ms/step - loss: 0.0417 - accuracy: 0.9865 - val_loss: 0.2664 - val_accuracy: 0.9151\n",
            "Epoch 2/10\n",
            "124/124 [==============================] - 1s 12ms/step - loss: 9.8504e-05 - accuracy: 1.0000 - val_loss: 0.2206 - val_accuracy: 0.9239\n",
            "Epoch 3/10\n",
            "124/124 [==============================] - 1s 12ms/step - loss: 5.4177e-05 - accuracy: 1.0000 - val_loss: 0.2029 - val_accuracy: 0.9307\n",
            "Epoch 4/10\n",
            "124/124 [==============================] - 1s 11ms/step - loss: 3.6370e-05 - accuracy: 1.0000 - val_loss: 0.2003 - val_accuracy: 0.9300\n",
            "Epoch 5/10\n",
            "124/124 [==============================] - 1s 11ms/step - loss: 2.4632e-05 - accuracy: 1.0000 - val_loss: 0.2000 - val_accuracy: 0.9306\n",
            "Epoch 6/10\n",
            "124/124 [==============================] - 1s 11ms/step - loss: 1.9480e-05 - accuracy: 1.0000 - val_loss: 0.1975 - val_accuracy: 0.9320\n",
            "Epoch 7/10\n",
            "124/124 [==============================] - 1s 11ms/step - loss: 1.5993e-05 - accuracy: 1.0000 - val_loss: 0.1977 - val_accuracy: 0.9318\n",
            "Epoch 8/10\n",
            "124/124 [==============================] - 1s 12ms/step - loss: 1.2979e-05 - accuracy: 1.0000 - val_loss: 0.1979 - val_accuracy: 0.9325\n",
            "Epoch 9/10\n",
            "124/124 [==============================] - 1s 11ms/step - loss: 1.1014e-05 - accuracy: 1.0000 - val_loss: 0.1976 - val_accuracy: 0.9327\n",
            "Epoch 10/10\n",
            "124/124 [==============================] - 1s 12ms/step - loss: 9.8430e-06 - accuracy: 1.0000 - val_loss: 0.1967 - val_accuracy: 0.9329\n",
            "Epoch 1/10\n",
            "124/124 [==============================] - 2s 15ms/step - loss: 0.0340 - accuracy: 0.9888 - val_loss: 0.2930 - val_accuracy: 0.8948\n",
            "Epoch 2/10\n",
            "124/124 [==============================] - 2s 13ms/step - loss: 3.8024e-05 - accuracy: 1.0000 - val_loss: 0.2983 - val_accuracy: 0.8932\n",
            "Epoch 3/10\n",
            "124/124 [==============================] - 2s 13ms/step - loss: 1.9162e-05 - accuracy: 1.0000 - val_loss: 0.3041 - val_accuracy: 0.8930\n",
            "Epoch 4/10\n",
            "124/124 [==============================] - 2s 13ms/step - loss: 1.1802e-05 - accuracy: 1.0000 - val_loss: 0.3063 - val_accuracy: 0.8923\n",
            "Epoch 5/10\n",
            "124/124 [==============================] - 2s 13ms/step - loss: 1.0202e-05 - accuracy: 1.0000 - val_loss: 0.2852 - val_accuracy: 0.9032\n",
            "Epoch 6/10\n",
            "124/124 [==============================] - 2s 13ms/step - loss: 6.7123e-06 - accuracy: 1.0000 - val_loss: 0.2984 - val_accuracy: 0.8980\n",
            "Epoch 7/10\n",
            "124/124 [==============================] - 2s 13ms/step - loss: 5.1093e-06 - accuracy: 1.0000 - val_loss: 0.3099 - val_accuracy: 0.8932\n",
            "Epoch 8/10\n",
            "124/124 [==============================] - 2s 13ms/step - loss: 4.5242e-06 - accuracy: 1.0000 - val_loss: 0.3034 - val_accuracy: 0.8964\n",
            "Epoch 9/10\n",
            "124/124 [==============================] - 2s 13ms/step - loss: 3.6062e-06 - accuracy: 1.0000 - val_loss: 0.3039 - val_accuracy: 0.8967\n",
            "Epoch 10/10\n",
            "124/124 [==============================] - 2s 13ms/step - loss: 2.8543e-06 - accuracy: 1.0000 - val_loss: 0.3051 - val_accuracy: 0.8973\n",
            "Epoch 1/10\n",
            "124/124 [==============================] - 2s 19ms/step - loss: 0.0276 - accuracy: 0.9918 - val_loss: 0.4766 - val_accuracy: 0.8447\n",
            "Epoch 2/10\n",
            "124/124 [==============================] - 2s 17ms/step - loss: 2.1971e-05 - accuracy: 1.0000 - val_loss: 0.4715 - val_accuracy: 0.8594\n",
            "Epoch 3/10\n",
            "124/124 [==============================] - 2s 17ms/step - loss: 1.2129e-05 - accuracy: 1.0000 - val_loss: 0.4851 - val_accuracy: 0.8604\n",
            "Epoch 4/10\n",
            "124/124 [==============================] - 2s 17ms/step - loss: 7.7934e-06 - accuracy: 1.0000 - val_loss: 0.4817 - val_accuracy: 0.8638\n",
            "Epoch 5/10\n",
            "124/124 [==============================] - 2s 17ms/step - loss: 8.5874e-06 - accuracy: 1.0000 - val_loss: 0.4634 - val_accuracy: 0.8675\n",
            "Epoch 6/10\n",
            "124/124 [==============================] - 2s 17ms/step - loss: 1.9122e-05 - accuracy: 1.0000 - val_loss: 0.4565 - val_accuracy: 0.8655\n",
            "Epoch 7/10\n",
            "124/124 [==============================] - 2s 17ms/step - loss: 4.2828e-06 - accuracy: 1.0000 - val_loss: 0.4614 - val_accuracy: 0.8629\n",
            "Epoch 8/10\n",
            "124/124 [==============================] - 2s 17ms/step - loss: 2.8006e-06 - accuracy: 1.0000 - val_loss: 0.4661 - val_accuracy: 0.8629\n",
            "Epoch 9/10\n",
            "124/124 [==============================] - 2s 17ms/step - loss: 2.3964e-06 - accuracy: 1.0000 - val_loss: 0.4704 - val_accuracy: 0.8625\n",
            "Epoch 10/10\n",
            "124/124 [==============================] - 2s 17ms/step - loss: 1.8039e-06 - accuracy: 1.0000 - val_loss: 0.4691 - val_accuracy: 0.8631\n",
            "Epoch 1/10\n",
            "124/124 [==============================] - 2s 13ms/step - loss: 0.0367 - accuracy: 0.9878 - val_loss: 0.2997 - val_accuracy: 0.9059\n",
            "Epoch 2/10\n",
            "124/124 [==============================] - 1s 11ms/step - loss: 3.3877e-04 - accuracy: 1.0000 - val_loss: 0.2595 - val_accuracy: 0.9193\n",
            "Epoch 3/10\n",
            "124/124 [==============================] - 1s 11ms/step - loss: 1.5931e-04 - accuracy: 1.0000 - val_loss: 0.2521 - val_accuracy: 0.9212\n",
            "Epoch 4/10\n",
            "124/124 [==============================] - 1s 11ms/step - loss: 1.1113e-04 - accuracy: 1.0000 - val_loss: 0.2500 - val_accuracy: 0.9217\n",
            "Epoch 5/10\n",
            "124/124 [==============================] - 1s 11ms/step - loss: 7.9595e-05 - accuracy: 1.0000 - val_loss: 0.2494 - val_accuracy: 0.9221\n",
            "Epoch 6/10\n",
            "124/124 [==============================] - 1s 10ms/step - loss: 6.3509e-05 - accuracy: 1.0000 - val_loss: 0.2479 - val_accuracy: 0.9230\n",
            "Epoch 7/10\n",
            "124/124 [==============================] - 1s 10ms/step - loss: 4.8016e-05 - accuracy: 1.0000 - val_loss: 0.2499 - val_accuracy: 0.9223\n",
            "Epoch 8/10\n",
            "124/124 [==============================] - 1s 10ms/step - loss: 3.5139e-05 - accuracy: 1.0000 - val_loss: 0.2493 - val_accuracy: 0.9225\n",
            "Epoch 9/10\n",
            "124/124 [==============================] - 1s 11ms/step - loss: 3.1026e-05 - accuracy: 1.0000 - val_loss: 0.2492 - val_accuracy: 0.9232\n",
            "Epoch 10/10\n",
            "124/124 [==============================] - 1s 11ms/step - loss: 2.4558e-05 - accuracy: 1.0000 - val_loss: 0.2485 - val_accuracy: 0.9228\n"
          ],
          "name": "stdout"
        }
      ]
    },
    {
      "cell_type": "code",
      "metadata": {
        "id": "e9rVl4IkJpnF",
        "colab": {
          "base_uri": "https://localhost:8080/",
          "height": 607
        },
        "outputId": "a4dfe2de-35a5-49a4-bd28-15d080bd7f1d"
      },
      "source": [
        "df = pd.DataFrame(data, columns = ['Layers', 'Neurons', 'Activation','MaxWordCount', 'Emb_size', 'val_accuracy'])\n",
        "df"
      ],
      "execution_count": null,
      "outputs": [
        {
          "output_type": "execute_result",
          "data": {
            "text/html": [
              "<div>\n",
              "<style scoped>\n",
              "    .dataframe tbody tr th:only-of-type {\n",
              "        vertical-align: middle;\n",
              "    }\n",
              "\n",
              "    .dataframe tbody tr th {\n",
              "        vertical-align: top;\n",
              "    }\n",
              "\n",
              "    .dataframe thead th {\n",
              "        text-align: right;\n",
              "    }\n",
              "</style>\n",
              "<table border=\"1\" class=\"dataframe\">\n",
              "  <thead>\n",
              "    <tr style=\"text-align: right;\">\n",
              "      <th></th>\n",
              "      <th>Layers</th>\n",
              "      <th>Neurons</th>\n",
              "      <th>Activation</th>\n",
              "      <th>MaxWordCount</th>\n",
              "      <th>Emb_size</th>\n",
              "      <th>val_accuracy</th>\n",
              "    </tr>\n",
              "  </thead>\n",
              "  <tbody>\n",
              "    <tr>\n",
              "      <th>0</th>\n",
              "      <td>1</td>\n",
              "      <td>200</td>\n",
              "      <td>relu</td>\n",
              "      <td>15000</td>\n",
              "      <td>None</td>\n",
              "      <td>0.932</td>\n",
              "    </tr>\n",
              "    <tr>\n",
              "      <th>1</th>\n",
              "      <td>1</td>\n",
              "      <td>200</td>\n",
              "      <td>relu</td>\n",
              "      <td>10</td>\n",
              "      <td>None</td>\n",
              "      <td>0.340</td>\n",
              "    </tr>\n",
              "    <tr>\n",
              "      <th>2</th>\n",
              "      <td>1</td>\n",
              "      <td>200</td>\n",
              "      <td>relu</td>\n",
              "      <td>1000</td>\n",
              "      <td>None</td>\n",
              "      <td>0.929</td>\n",
              "    </tr>\n",
              "    <tr>\n",
              "      <th>3</th>\n",
              "      <td>1</td>\n",
              "      <td>200</td>\n",
              "      <td>relu</td>\n",
              "      <td>10000</td>\n",
              "      <td>None</td>\n",
              "      <td>0.933</td>\n",
              "    </tr>\n",
              "    <tr>\n",
              "      <th>4</th>\n",
              "      <td>1</td>\n",
              "      <td>200</td>\n",
              "      <td>relu</td>\n",
              "      <td>25000</td>\n",
              "      <td>None</td>\n",
              "      <td>0.913</td>\n",
              "    </tr>\n",
              "    <tr>\n",
              "      <th>5</th>\n",
              "      <td>1</td>\n",
              "      <td>10</td>\n",
              "      <td>relu</td>\n",
              "      <td>20000</td>\n",
              "      <td>None</td>\n",
              "      <td>0.882</td>\n",
              "    </tr>\n",
              "    <tr>\n",
              "      <th>6</th>\n",
              "      <td>1</td>\n",
              "      <td>50</td>\n",
              "      <td>relu</td>\n",
              "      <td>20000</td>\n",
              "      <td>None</td>\n",
              "      <td>0.940</td>\n",
              "    </tr>\n",
              "    <tr>\n",
              "      <th>7</th>\n",
              "      <td>1</td>\n",
              "      <td>100</td>\n",
              "      <td>relu</td>\n",
              "      <td>20000</td>\n",
              "      <td>None</td>\n",
              "      <td>0.932</td>\n",
              "    </tr>\n",
              "    <tr>\n",
              "      <th>8</th>\n",
              "      <td>1</td>\n",
              "      <td>500</td>\n",
              "      <td>relu</td>\n",
              "      <td>20000</td>\n",
              "      <td>None</td>\n",
              "      <td>0.898</td>\n",
              "    </tr>\n",
              "    <tr>\n",
              "      <th>9</th>\n",
              "      <td>1</td>\n",
              "      <td>1000</td>\n",
              "      <td>relu</td>\n",
              "      <td>20000</td>\n",
              "      <td>None</td>\n",
              "      <td>0.901</td>\n",
              "    </tr>\n",
              "    <tr>\n",
              "      <th>10</th>\n",
              "      <td>1</td>\n",
              "      <td>2000</td>\n",
              "      <td>relu</td>\n",
              "      <td>20000</td>\n",
              "      <td>None</td>\n",
              "      <td>0.893</td>\n",
              "    </tr>\n",
              "    <tr>\n",
              "      <th>11</th>\n",
              "      <td>2</td>\n",
              "      <td>10</td>\n",
              "      <td>relu</td>\n",
              "      <td>20000</td>\n",
              "      <td>None</td>\n",
              "      <td>0.887</td>\n",
              "    </tr>\n",
              "    <tr>\n",
              "      <th>12</th>\n",
              "      <td>2</td>\n",
              "      <td>50</td>\n",
              "      <td>relu</td>\n",
              "      <td>20000</td>\n",
              "      <td>None</td>\n",
              "      <td>0.926</td>\n",
              "    </tr>\n",
              "    <tr>\n",
              "      <th>13</th>\n",
              "      <td>2</td>\n",
              "      <td>100</td>\n",
              "      <td>relu</td>\n",
              "      <td>20000</td>\n",
              "      <td>None</td>\n",
              "      <td>0.930</td>\n",
              "    </tr>\n",
              "    <tr>\n",
              "      <th>14</th>\n",
              "      <td>2</td>\n",
              "      <td>500</td>\n",
              "      <td>relu</td>\n",
              "      <td>20000</td>\n",
              "      <td>None</td>\n",
              "      <td>0.933</td>\n",
              "    </tr>\n",
              "    <tr>\n",
              "      <th>15</th>\n",
              "      <td>2</td>\n",
              "      <td>1000</td>\n",
              "      <td>relu</td>\n",
              "      <td>20000</td>\n",
              "      <td>None</td>\n",
              "      <td>0.897</td>\n",
              "    </tr>\n",
              "    <tr>\n",
              "      <th>16</th>\n",
              "      <td>2</td>\n",
              "      <td>2000</td>\n",
              "      <td>relu</td>\n",
              "      <td>20000</td>\n",
              "      <td>None</td>\n",
              "      <td>0.863</td>\n",
              "    </tr>\n",
              "    <tr>\n",
              "      <th>17</th>\n",
              "      <td>1</td>\n",
              "      <td>200</td>\n",
              "      <td>linear</td>\n",
              "      <td>20000</td>\n",
              "      <td>None</td>\n",
              "      <td>0.923</td>\n",
              "    </tr>\n",
              "  </tbody>\n",
              "</table>\n",
              "</div>"
            ],
            "text/plain": [
              "    Layers  Neurons Activation  MaxWordCount Emb_size  val_accuracy\n",
              "0        1      200       relu         15000     None         0.932\n",
              "1        1      200       relu            10     None         0.340\n",
              "2        1      200       relu          1000     None         0.929\n",
              "3        1      200       relu         10000     None         0.933\n",
              "4        1      200       relu         25000     None         0.913\n",
              "5        1       10       relu         20000     None         0.882\n",
              "6        1       50       relu         20000     None         0.940\n",
              "7        1      100       relu         20000     None         0.932\n",
              "8        1      500       relu         20000     None         0.898\n",
              "9        1     1000       relu         20000     None         0.901\n",
              "10       1     2000       relu         20000     None         0.893\n",
              "11       2       10       relu         20000     None         0.887\n",
              "12       2       50       relu         20000     None         0.926\n",
              "13       2      100       relu         20000     None         0.930\n",
              "14       2      500       relu         20000     None         0.933\n",
              "15       2     1000       relu         20000     None         0.897\n",
              "16       2     2000       relu         20000     None         0.863\n",
              "17       1      200     linear         20000     None         0.923"
            ]
          },
          "metadata": {
            "tags": []
          },
          "execution_count": 12
        }
      ]
    },
    {
      "cell_type": "code",
      "metadata": {
        "id": "46nthN_2z4mq",
        "colab": {
          "base_uri": "https://localhost:8080/",
          "height": 1000
        },
        "outputId": "512392d9-1cea-44e1-c1d9-83a0694f7b56"
      },
      "source": [
        "# 3 \n",
        "# После краша, запускаем отдельно только эту ячейку\n",
        "import gc\n",
        "# Подготавливаем данные\n",
        "maxWordsCount = 50000\n",
        "xLen = 1000\n",
        "step = 100\n",
        "xTrain, _, yTrain, xTest, _, yTest = creat_train_data(maxWordsCount=maxWordsCount, xLen=xLen, step=step)\n",
        "data = []\n",
        "emb_list = [10, 50 ,200]\n",
        "\n",
        "for i in emb_list:\n",
        "    # чистим оперативную память\n",
        "    gc.collect()\n",
        "    #Создаём сеть с Embedding слоем\n",
        "    modelE = Sequential()\n",
        "    modelE.add(Embedding(50000, i, input_length=xLen))\n",
        "    modelE.add(SpatialDropout1D(0.2))\n",
        "    modelE.add(Flatten())\n",
        "    modelE.add(BatchNormalization())\n",
        "    modelE.add(Dense(200, activation=\"relu\"))\n",
        "    modelE.add(Dropout(0.2))\n",
        "    modelE.add(BatchNormalization())\n",
        "    modelE.add(Dense(6, activation='softmax'))\n",
        "\n",
        "    modelE.compile(optimizer='adam', \n",
        "                loss='categorical_crossentropy', \n",
        "                metrics=['accuracy'])\n",
        "    history = modelE.fit(xTrain, \n",
        "                    yTrain, \n",
        "                    epochs=10,\n",
        "                    batch_size=128,\n",
        "                    validation_data=(xTest, yTest))\n",
        "    data = data + [[1, 200, 'relu', 50000, i, round(history.history['val_accuracy'][-1], 3)]]"
      ],
      "execution_count": null,
      "outputs": [
        {
          "output_type": "stream",
          "text": [
            "Epoch 1/10\n",
            "134/134 [==============================] - 6s 42ms/step - loss: 0.6529 - accuracy: 0.7777 - val_loss: 1.5478 - val_accuracy: 0.3233\n",
            "Epoch 2/10\n",
            "134/134 [==============================] - 8s 62ms/step - loss: 0.0249 - accuracy: 0.9955 - val_loss: 1.3228 - val_accuracy: 0.4545\n",
            "Epoch 3/10\n",
            "134/134 [==============================] - 9s 69ms/step - loss: 0.0150 - accuracy: 0.9970 - val_loss: 1.0265 - val_accuracy: 0.6095\n",
            "Epoch 4/10\n",
            "134/134 [==============================] - 9s 70ms/step - loss: 0.0090 - accuracy: 0.9985 - val_loss: 0.7674 - val_accuracy: 0.7174\n",
            "Epoch 5/10\n",
            "134/134 [==============================] - 10s 71ms/step - loss: 0.0081 - accuracy: 0.9981 - val_loss: 0.9707 - val_accuracy: 0.6898\n",
            "Epoch 6/10\n",
            "134/134 [==============================] - 10s 77ms/step - loss: 0.0066 - accuracy: 0.9983 - val_loss: 0.8735 - val_accuracy: 0.7258\n",
            "Epoch 7/10\n",
            "134/134 [==============================] - 12s 91ms/step - loss: 0.0050 - accuracy: 0.9989 - val_loss: 0.9489 - val_accuracy: 0.7166\n",
            "Epoch 8/10\n",
            "134/134 [==============================] - 16s 117ms/step - loss: 0.0044 - accuracy: 0.9989 - val_loss: 0.9377 - val_accuracy: 0.7305\n",
            "Epoch 9/10\n",
            "134/134 [==============================] - 16s 117ms/step - loss: 0.0040 - accuracy: 0.9992 - val_loss: 1.0418 - val_accuracy: 0.7040\n",
            "Epoch 10/10\n",
            "134/134 [==============================] - 16s 120ms/step - loss: 0.0035 - accuracy: 0.9990 - val_loss: 0.9087 - val_accuracy: 0.7236\n",
            "Epoch 1/10\n",
            "134/134 [==============================] - 13s 96ms/step - loss: 0.4326 - accuracy: 0.8655 - val_loss: 1.8253 - val_accuracy: 0.3547\n",
            "Epoch 2/10\n",
            "134/134 [==============================] - 13s 96ms/step - loss: 0.0070 - accuracy: 0.9999 - val_loss: 1.4436 - val_accuracy: 0.3820\n",
            "Epoch 3/10\n",
            "134/134 [==============================] - 14s 106ms/step - loss: 0.0030 - accuracy: 0.9999 - val_loss: 1.0474 - val_accuracy: 0.5735\n",
            "Epoch 4/10\n",
            "134/134 [==============================] - 14s 106ms/step - loss: 0.0017 - accuracy: 0.9999 - val_loss: 0.7968 - val_accuracy: 0.7114\n",
            "Epoch 5/10\n",
            "134/134 [==============================] - 15s 115ms/step - loss: 0.0012 - accuracy: 1.0000 - val_loss: 0.7828 - val_accuracy: 0.7400\n",
            "Epoch 6/10\n",
            "134/134 [==============================] - 15s 114ms/step - loss: 8.2357e-04 - accuracy: 1.0000 - val_loss: 0.8216 - val_accuracy: 0.7410\n",
            "Epoch 7/10\n",
            "134/134 [==============================] - 15s 114ms/step - loss: 6.2952e-04 - accuracy: 1.0000 - val_loss: 0.8272 - val_accuracy: 0.7462\n",
            "Epoch 8/10\n",
            "134/134 [==============================] - 15s 114ms/step - loss: 4.5978e-04 - accuracy: 1.0000 - val_loss: 0.8451 - val_accuracy: 0.7449\n",
            "Epoch 9/10\n",
            "134/134 [==============================] - 15s 116ms/step - loss: 4.4503e-04 - accuracy: 1.0000 - val_loss: 0.8423 - val_accuracy: 0.7480\n",
            "Epoch 10/10\n",
            "134/134 [==============================] - 15s 112ms/step - loss: 3.2021e-04 - accuracy: 1.0000 - val_loss: 0.8535 - val_accuracy: 0.7459\n",
            "Epoch 1/10\n",
            "134/134 [==============================] - 28s 208ms/step - loss: 0.3266 - accuracy: 0.9046 - val_loss: 2.2831 - val_accuracy: 0.3004\n",
            "Epoch 2/10\n",
            "134/134 [==============================] - 27s 205ms/step - loss: 0.0075 - accuracy: 0.9998 - val_loss: 1.4411 - val_accuracy: 0.3542\n",
            "Epoch 3/10\n",
            "134/134 [==============================] - 28s 206ms/step - loss: 0.0023 - accuracy: 1.0000 - val_loss: 0.9311 - val_accuracy: 0.6244\n",
            "Epoch 4/10\n",
            "134/134 [==============================] - 28s 207ms/step - loss: 0.0013 - accuracy: 1.0000 - val_loss: 0.6877 - val_accuracy: 0.7514\n",
            "Epoch 5/10\n",
            "134/134 [==============================] - 28s 207ms/step - loss: 8.6667e-04 - accuracy: 1.0000 - val_loss: 0.6628 - val_accuracy: 0.7733\n",
            "Epoch 6/10\n",
            "134/134 [==============================] - 28s 208ms/step - loss: 5.4700e-04 - accuracy: 1.0000 - val_loss: 0.6782 - val_accuracy: 0.7783\n",
            "Epoch 7/10\n",
            "134/134 [==============================] - 28s 206ms/step - loss: 4.7461e-04 - accuracy: 1.0000 - val_loss: 0.7006 - val_accuracy: 0.7786\n",
            "Epoch 8/10\n",
            "134/134 [==============================] - 28s 207ms/step - loss: 3.6946e-04 - accuracy: 1.0000 - val_loss: 0.6921 - val_accuracy: 0.7804\n",
            "Epoch 9/10\n",
            "134/134 [==============================] - 28s 208ms/step - loss: 2.8564e-04 - accuracy: 1.0000 - val_loss: 0.7036 - val_accuracy: 0.7797\n",
            "Epoch 10/10\n",
            "134/134 [==============================] - 28s 207ms/step - loss: 2.2286e-04 - accuracy: 1.0000 - val_loss: 0.7041 - val_accuracy: 0.7809\n"
          ],
          "name": "stdout"
        }
      ]
    },
    {
      "cell_type": "code",
      "metadata": {
        "id": "q6bD3ePuz4gu",
        "colab": {
          "base_uri": "https://localhost:8080/",
          "height": 142
        },
        "outputId": "dc9f7b8d-1dfe-43f7-a069-dd6d01aa12fe"
      },
      "source": [
        "df = pd.DataFrame(data, columns = ['Layers', 'Neurons', 'Activation','MaxWordCount', 'Emb_size', 'val_accuracy'])\n",
        "df"
      ],
      "execution_count": null,
      "outputs": [
        {
          "output_type": "execute_result",
          "data": {
            "text/html": [
              "<div>\n",
              "<style scoped>\n",
              "    .dataframe tbody tr th:only-of-type {\n",
              "        vertical-align: middle;\n",
              "    }\n",
              "\n",
              "    .dataframe tbody tr th {\n",
              "        vertical-align: top;\n",
              "    }\n",
              "\n",
              "    .dataframe thead th {\n",
              "        text-align: right;\n",
              "    }\n",
              "</style>\n",
              "<table border=\"1\" class=\"dataframe\">\n",
              "  <thead>\n",
              "    <tr style=\"text-align: right;\">\n",
              "      <th></th>\n",
              "      <th>Layers</th>\n",
              "      <th>Neurons</th>\n",
              "      <th>Activation</th>\n",
              "      <th>MaxWordCount</th>\n",
              "      <th>Emb_size</th>\n",
              "      <th>val_accuracy</th>\n",
              "    </tr>\n",
              "  </thead>\n",
              "  <tbody>\n",
              "    <tr>\n",
              "      <th>0</th>\n",
              "      <td>1</td>\n",
              "      <td>200</td>\n",
              "      <td>relu</td>\n",
              "      <td>50000</td>\n",
              "      <td>10</td>\n",
              "      <td>0.724</td>\n",
              "    </tr>\n",
              "    <tr>\n",
              "      <th>1</th>\n",
              "      <td>1</td>\n",
              "      <td>200</td>\n",
              "      <td>relu</td>\n",
              "      <td>50000</td>\n",
              "      <td>50</td>\n",
              "      <td>0.746</td>\n",
              "    </tr>\n",
              "    <tr>\n",
              "      <th>2</th>\n",
              "      <td>1</td>\n",
              "      <td>200</td>\n",
              "      <td>relu</td>\n",
              "      <td>50000</td>\n",
              "      <td>200</td>\n",
              "      <td>0.781</td>\n",
              "    </tr>\n",
              "  </tbody>\n",
              "</table>\n",
              "</div>"
            ],
            "text/plain": [
              "   Layers  Neurons Activation  MaxWordCount  Emb_size  val_accuracy\n",
              "0       1      200       relu         50000        10         0.724\n",
              "1       1      200       relu         50000        50         0.746\n",
              "2       1      200       relu         50000       200         0.781"
            ]
          },
          "metadata": {
            "tags": []
          },
          "execution_count": 7
        }
      ]
    },
    {
      "cell_type": "markdown",
      "metadata": {
        "id": "eqALoUBdsDms"
      },
      "source": [
        "# Pro Вариант 1\n",
        "\n",
        "Добейтесь точности распознавания 97% и верно распознанных всех писателей с помощью любой нейронной сети без фильтрации данных. \n"
      ]
    },
    {
      "cell_type": "code",
      "metadata": {
        "id": "9gDHpnHPwbsn"
      },
      "source": [
        "maxWordsCount = 15000 # Определяем максимальное количество слов/индексов, учитываемое при обучении текстов\n",
        "\n",
        "# Указываем что нет фильтрации\n",
        "tokenizer = Tokenizer(num_words=maxWordsCount, filters = '') \n",
        "tokenizer.fit_on_texts(trainText) # \"Скармливаем\" наши тексты, т.е. даём в обработку методу, который соберет словарь частотности\n",
        "items = list(tokenizer.word_index.items()) # Вытаскиваем индексы слов для просмотра\n",
        "\n",
        "# Преобразовываем текст в последовательность индексов согласно частотному словарю\n",
        "trainWordIndexes = tokenizer.texts_to_sequences(trainText) # Обучающие тесты в индексы\n",
        "testWordIndexes = tokenizer.texts_to_sequences(testText)  # Проверочные тесты в индексы\n",
        "\n",
        "#Задаём базовые параметры\n",
        "xLen = 1000 # Длина отрезка текста, по которой анализируем, в словах\n",
        "step = 100  # Шаг разбиения исходного текста на обучающие векторы\n",
        "\n",
        "#Формируем обучающую и тестовую выборку\n",
        "xTrain, yTrain = createSetsMultiClasses(trainWordIndexes, xLen, step) #извлекаем обучающую выборку\n",
        "xTest, yTest = createSetsMultiClasses(testWordIndexes, xLen, step)    #извлекаем тестовую выборку\n",
        "\n",
        "# Преобразовываем полученные выборки из последовательности индексов в матрицы нулей и единиц по принципу Bag of Words\n",
        "xTrain01 = tokenizer.sequences_to_matrix(xTrain.tolist()) # Подаем xTrain в виде списка, чтобы метод успешно сработал\n",
        "xTest01 = tokenizer.sequences_to_matrix(xTest.tolist())   # Подаем xTest в виде списка, чтобы метод успешно сработал\n",
        "\n",
        "# Выводим формы масивов\n",
        "print(xTrain01.shape)\n",
        "print(yTrain.shape)\n",
        "print(xTest01.shape)\n",
        "print(yTest.shape)"
      ],
      "execution_count": null,
      "outputs": []
    },
    {
      "cell_type": "code",
      "metadata": {
        "id": "0cXxStcawxiB"
      },
      "source": [
        "tokenizer.word_index"
      ],
      "execution_count": null,
      "outputs": []
    },
    {
      "cell_type": "markdown",
      "metadata": {
        "id": "fKq66rH4XI-R"
      },
      "source": [
        "## Проба xLen = 1000. 94% "
      ]
    },
    {
      "cell_type": "code",
      "metadata": {
        "id": "8REdWO-7uWtq"
      },
      "source": [
        "#Задаём базовые параметры\n",
        "xLen = 1000 # Длина отрезка текста, по которой анализируем, в словах\n",
        "step = 100  # Шаг разбиения исходного текста на обучающие векторы"
      ],
      "execution_count": null,
      "outputs": []
    },
    {
      "cell_type": "code",
      "metadata": {
        "id": "edVFlED8ubzp",
        "colab": {
          "base_uri": "https://localhost:8080/",
          "height": 90
        },
        "outputId": "141a1288-ead4-4e83-cc25-0cc2a284b3ed"
      },
      "source": [
        "#Формируем обучающую и тестовую выборку\n",
        "xTrain, yTrain = createSetsMultiClasses(trainWordIndexes, xLen, step) #извлекаем обучающую выборку\n",
        "xTest, yTest = createSetsMultiClasses(testWordIndexes, xLen, step)    #извлекаем тестовую выборку\n",
        "print(xTrain.shape)\n",
        "print(yTrain.shape)\n",
        "print(xTest.shape)\n",
        "print(yTest.shape)"
      ],
      "execution_count": null,
      "outputs": [
        {
          "output_type": "stream",
          "text": [
            "(13531, 1000)\n",
            "(13531, 6)\n",
            "(4819, 1000)\n",
            "(4819, 6)\n"
          ],
          "name": "stdout"
        }
      ]
    },
    {
      "cell_type": "code",
      "metadata": {
        "id": "yqeqTZu4ujLy",
        "colab": {
          "base_uri": "https://localhost:8080/",
          "height": 126
        },
        "outputId": "48745392-6fd8-417c-9932-4b75ab56b10b"
      },
      "source": [
        "# Преобразовываем полученные выборки из последовательности индексов в матрицы нулей и единиц по принципу Bag of Words\n",
        "xTrain01 = tokenizer.sequences_to_matrix(xTrain.tolist()) # Подаем xTrain в виде списка, чтобы метод успешно сработал\n",
        "xTest01 = tokenizer.sequences_to_matrix(xTest.tolist())   # Подаем xTest в виде списка, чтобы метод успешно сработал\n",
        "\n",
        "print(xTrain01.shape)       # Размер обучающей выборки, сформированной по Bag of Words\n",
        "print(xTrain01[0][0:100])   # Фрагмент набора слов в виде Bag of Words"
      ],
      "execution_count": null,
      "outputs": [
        {
          "output_type": "stream",
          "text": [
            "(13531, 15000)\n",
            "[0. 1. 0. 1. 1. 1. 1. 1. 1. 1. 1. 1. 1. 1. 1. 1. 1. 1. 1. 1. 1. 1. 0. 1.\n",
            " 0. 0. 1. 1. 1. 1. 1. 1. 1. 1. 1. 1. 1. 1. 1. 1. 1. 1. 1. 1. 1. 1. 1. 0.\n",
            " 1. 1. 1. 1. 1. 1. 0. 1. 0. 0. 0. 1. 1. 1. 1. 1. 1. 1. 1. 0. 1. 0. 0. 1.\n",
            " 1. 1. 1. 0. 1. 0. 1. 1. 1. 1. 1. 1. 1. 0. 0. 1. 1. 0. 1. 0. 1. 0. 1. 0.\n",
            " 0. 1. 1. 0.]\n"
          ],
          "name": "stdout"
        }
      ]
    },
    {
      "cell_type": "code",
      "metadata": {
        "id": "Pb2llaVkumsp",
        "colab": {
          "base_uri": "https://localhost:8080/",
          "height": 55
        },
        "outputId": "e6daa04a-1b10-4f66-fc73-20b32e639a07"
      },
      "source": [
        "for i in range(100):\n",
        "  print(int(i in xTrain[0]),end=' ')"
      ],
      "execution_count": null,
      "outputs": [
        {
          "output_type": "stream",
          "text": [
            "0 1 0 1 1 1 1 1 1 1 1 1 1 1 1 1 1 1 1 1 1 1 0 1 0 0 1 1 1 1 1 1 1 1 1 1 1 1 1 1 1 1 1 1 1 1 1 0 1 1 1 1 1 1 0 1 0 0 0 1 1 1 1 1 1 1 1 0 1 0 0 1 1 1 1 0 1 0 1 1 1 1 1 1 1 0 0 1 1 0 1 0 1 0 1 0 0 1 1 0 "
          ],
          "name": "stdout"
        }
      ]
    },
    {
      "cell_type": "code",
      "metadata": {
        "id": "9drGHWcduq-q",
        "colab": {
          "base_uri": "https://localhost:8080/",
          "height": 825
        },
        "outputId": "f6b842ee-c170-4141-a5e9-6479a42da4fe"
      },
      "source": [
        "# Полносвязная модель\n",
        "\n",
        "model01 = Sequential()\n",
        "model01.add(Dense(2000, input_dim=maxWordsCount, activation=\"relu\"))\n",
        "model01.add(Dropout(0.2))\n",
        "model01.add(Dense(6, activation='sigmoid'))\n",
        "\n",
        "model01.compile(optimizer=Adam(lr=0.0001), \n",
        "              loss='categorical_crossentropy', \n",
        "              metrics=['accuracy'])\n",
        "\n",
        "# Обучаем сеть на выборке, сформированной по bag of words - xTrain01\n",
        "history = model01.fit(xTrain01, \n",
        "                      yTrain, \n",
        "                      epochs=15,\n",
        "                      batch_size=32,\n",
        "                      validation_data=(xTest01, yTest))\n",
        "\n",
        "plt.plot(history.history['accuracy'], \n",
        "         label='Доля верных ответов на обучающем наборе')\n",
        "plt.plot(history.history['val_accuracy'], \n",
        "         label='Доля верных ответов на проверочном наборе')\n",
        "plt.xlabel('Эпоха обучения')\n",
        "plt.ylabel('Доля верных ответов')\n",
        "plt.legend()\n",
        "plt.show()"
      ],
      "execution_count": null,
      "outputs": [
        {
          "output_type": "stream",
          "text": [
            "Epoch 1/15\n",
            "423/423 [==============================] - 3s 7ms/step - loss: 0.0973 - accuracy: 0.9701 - val_loss: 0.2803 - val_accuracy: 0.9332\n",
            "Epoch 2/15\n",
            "423/423 [==============================] - 3s 7ms/step - loss: 6.6928e-04 - accuracy: 1.0000 - val_loss: 0.2579 - val_accuracy: 0.9336\n",
            "Epoch 3/15\n",
            "423/423 [==============================] - 3s 6ms/step - loss: 2.7398e-04 - accuracy: 1.0000 - val_loss: 0.2424 - val_accuracy: 0.9332\n",
            "Epoch 4/15\n",
            "423/423 [==============================] - 3s 6ms/step - loss: 1.4818e-04 - accuracy: 1.0000 - val_loss: 0.2318 - val_accuracy: 0.9353\n",
            "Epoch 5/15\n",
            "423/423 [==============================] - 3s 6ms/step - loss: 8.9774e-05 - accuracy: 1.0000 - val_loss: 0.2217 - val_accuracy: 0.9359\n",
            "Epoch 6/15\n",
            "423/423 [==============================] - 3s 6ms/step - loss: 5.9243e-05 - accuracy: 1.0000 - val_loss: 0.2190 - val_accuracy: 0.9348\n",
            "Epoch 7/15\n",
            "423/423 [==============================] - 3s 6ms/step - loss: 4.1124e-05 - accuracy: 1.0000 - val_loss: 0.2130 - val_accuracy: 0.9355\n",
            "Epoch 8/15\n",
            "423/423 [==============================] - 3s 6ms/step - loss: 2.9253e-05 - accuracy: 1.0000 - val_loss: 0.2088 - val_accuracy: 0.9353\n",
            "Epoch 9/15\n",
            "423/423 [==============================] - 3s 6ms/step - loss: 2.1219e-05 - accuracy: 1.0000 - val_loss: 0.2054 - val_accuracy: 0.9353\n",
            "Epoch 10/15\n",
            "423/423 [==============================] - 3s 6ms/step - loss: 1.5819e-05 - accuracy: 1.0000 - val_loss: 0.2005 - val_accuracy: 0.9384\n",
            "Epoch 11/15\n",
            "423/423 [==============================] - 3s 6ms/step - loss: 1.2049e-05 - accuracy: 1.0000 - val_loss: 0.1988 - val_accuracy: 0.9373\n",
            "Epoch 12/15\n",
            "423/423 [==============================] - 3s 6ms/step - loss: 9.2383e-06 - accuracy: 1.0000 - val_loss: 0.1940 - val_accuracy: 0.9390\n",
            "Epoch 13/15\n",
            "423/423 [==============================] - 3s 6ms/step - loss: 7.2283e-06 - accuracy: 1.0000 - val_loss: 0.1920 - val_accuracy: 0.9388\n",
            "Epoch 14/15\n",
            "423/423 [==============================] - 3s 6ms/step - loss: 5.6457e-06 - accuracy: 1.0000 - val_loss: 0.1903 - val_accuracy: 0.9390\n",
            "Epoch 15/15\n",
            "423/423 [==============================] - 3s 6ms/step - loss: 4.4051e-06 - accuracy: 1.0000 - val_loss: 0.1899 - val_accuracy: 0.9375\n"
          ],
          "name": "stdout"
        },
        {
          "output_type": "display_data",
          "data": {
            "image/png": "[encoded data removed]",
            "text/plain": [
              "<Figure size 432x288 with 1 Axes>"
            ]
          },
          "metadata": {
            "tags": [],
            "needs_background": "light"
          }
        }
      ]
    },
    {
      "cell_type": "code",
      "metadata": {
        "id": "40DQSqsrOTdE",
        "colab": {
          "base_uri": "https://localhost:8080/",
          "height": 825
        },
        "outputId": "90d94ed6-a87f-4e1c-9b34-42615a494ca1"
      },
      "source": [
        "# Embedding + Conv1D модель\n",
        "\n",
        "model = Sequential()\n",
        "model.add(Embedding(maxWordsCount, 200, input_length = xLen))\n",
        "model.add(Conv1D(256, 5, padding='same', activation=\"relu\"))\n",
        "model.add(Flatten())\n",
        "model.add(Dense(6, activation='sigmoid'))\n",
        "\n",
        "model.compile(optimizer=Adam(lr=0.001), \n",
        "              loss='categorical_crossentropy', \n",
        "              metrics=['accuracy'])\n",
        "\n",
        "history = model.fit(xTrain, \n",
        "                      yTrain, \n",
        "                      epochs=15,\n",
        "                      batch_size=32,\n",
        "                      validation_data=(xTest, yTest))\n",
        "\n",
        "plt.plot(history.history['accuracy'], \n",
        "         label='Доля верных ответов на обучающем наборе')\n",
        "plt.plot(history.history['val_accuracy'], \n",
        "         label='Доля верных ответов на проверочном наборе')\n",
        "plt.xlabel('Эпоха обучения')\n",
        "plt.ylabel('Доля верных ответов')\n",
        "plt.legend()\n",
        "plt.show()"
      ],
      "execution_count": null,
      "outputs": [
        {
          "output_type": "stream",
          "text": [
            "Epoch 1/15\n",
            "423/423 [==============================] - 22s 52ms/step - loss: 0.1982 - accuracy: 0.9239 - val_loss: 1.1000 - val_accuracy: 0.7713\n",
            "Epoch 2/15\n",
            "423/423 [==============================] - 21s 51ms/step - loss: 6.5869e-04 - accuracy: 0.9999 - val_loss: 0.8042 - val_accuracy: 0.8211\n",
            "Epoch 3/15\n",
            "423/423 [==============================] - 22s 51ms/step - loss: 9.8224e-06 - accuracy: 1.0000 - val_loss: 0.7781 - val_accuracy: 0.8178\n",
            "Epoch 4/15\n",
            "423/423 [==============================] - 21s 51ms/step - loss: 5.5587e-06 - accuracy: 1.0000 - val_loss: 0.7691 - val_accuracy: 0.8172\n",
            "Epoch 5/15\n",
            "423/423 [==============================] - 22s 51ms/step - loss: 4.0672e-06 - accuracy: 1.0000 - val_loss: 0.7688 - val_accuracy: 0.8159\n",
            "Epoch 6/15\n",
            "423/423 [==============================] - 23s 53ms/step - loss: 3.1218e-06 - accuracy: 1.0000 - val_loss: 0.7723 - val_accuracy: 0.8143\n",
            "Epoch 7/15\n",
            "423/423 [==============================] - 23s 53ms/step - loss: 2.4602e-06 - accuracy: 1.0000 - val_loss: 0.7730 - val_accuracy: 0.8151\n",
            "Epoch 8/15\n",
            "423/423 [==============================] - 23s 54ms/step - loss: 1.9569e-06 - accuracy: 1.0000 - val_loss: 0.7745 - val_accuracy: 0.8155\n",
            "Epoch 9/15\n",
            "423/423 [==============================] - 23s 55ms/step - loss: 1.5750e-06 - accuracy: 1.0000 - val_loss: 0.7787 - val_accuracy: 0.8141\n",
            "Epoch 10/15\n",
            "423/423 [==============================] - 23s 54ms/step - loss: 1.2791e-06 - accuracy: 1.0000 - val_loss: 0.7838 - val_accuracy: 0.8139\n",
            "Epoch 11/15\n",
            "423/423 [==============================] - 23s 54ms/step - loss: 1.0450e-06 - accuracy: 1.0000 - val_loss: 0.7853 - val_accuracy: 0.8147\n",
            "Epoch 12/15\n",
            "423/423 [==============================] - 23s 54ms/step - loss: 8.5907e-07 - accuracy: 1.0000 - val_loss: 0.7921 - val_accuracy: 0.8137\n",
            "Epoch 13/15\n",
            "423/423 [==============================] - 23s 56ms/step - loss: 7.1352e-07 - accuracy: 1.0000 - val_loss: 0.7934 - val_accuracy: 0.8149\n",
            "Epoch 14/15\n",
            "423/423 [==============================] - 23s 54ms/step - loss: 5.9414e-07 - accuracy: 1.0000 - val_loss: 0.7973 - val_accuracy: 0.8155\n",
            "Epoch 15/15\n",
            "423/423 [==============================] - 23s 54ms/step - loss: 4.9843e-07 - accuracy: 1.0000 - val_loss: 0.8019 - val_accuracy: 0.8149\n"
          ],
          "name": "stdout"
        },
        {
          "output_type": "display_data",
          "data": {
            "image/png": "[encoded data removed]",
            "text/plain": [
              "<Figure size 432x288 with 1 Axes>"
            ]
          },
          "metadata": {
            "tags": [],
            "needs_background": "light"
          }
        }
      ]
    },
    {
      "cell_type": "markdown",
      "metadata": {
        "id": "yk6B4Q3BXZRn"
      },
      "source": [
        "## Итог xLen = 5000. 98% "
      ]
    },
    {
      "cell_type": "code",
      "metadata": {
        "id": "NKqUCIx8SFE2"
      },
      "source": [
        "xLen = 5000 # Длина отрезка текста, по которой анализируем, в словах\n",
        "step = 100  # Шаг разбиения исходного текста на обучающие векторы\n",
        "\n",
        "xTrain, yTrain = createSetsMultiClasses(trainWordIndexes, xLen, step) #извлекаем обучающую выборку\n",
        "xTest, yTest = createSetsMultiClasses(testWordIndexes, xLen, step)    #извлекаем тестовую выборку\n",
        "\n",
        "xTrain01 = tokenizer.sequences_to_matrix(xTrain.tolist()) # Подаем xTrain в виде списка, чтобы метод успешно сработал\n",
        "xTest01 = tokenizer.sequences_to_matrix(xTest.tolist())   # Подаем xTest в виде списка, чтобы метод успешно сработал"
      ],
      "execution_count": null,
      "outputs": []
    },
    {
      "cell_type": "code",
      "metadata": {
        "id": "pBMNjAYdSXBI",
        "colab": {
          "base_uri": "https://localhost:8080/",
          "height": 825
        },
        "outputId": "d074b145-db29-4f11-a4c4-eeb09f0e610f"
      },
      "source": [
        "# Полносвязная модель\n",
        "\n",
        "model01 = Sequential()\n",
        "model01.add(Dense(2000, input_dim=maxWordsCount, activation=\"relu\"))\n",
        "model01.add(Dropout(0.2))\n",
        "model01.add(Dense(6, activation='sigmoid'))\n",
        "\n",
        "model01.compile(optimizer=Adam(lr=0.0001), \n",
        "              loss='categorical_crossentropy', \n",
        "              metrics=['accuracy'])\n",
        "\n",
        "# Обучаем сеть на выборке, сформированной по bag of words - xTrain01\n",
        "history = model01.fit(xTrain01, \n",
        "                      yTrain, \n",
        "                      epochs=15,\n",
        "                      batch_size=32,\n",
        "                      validation_data=(xTest01, yTest))\n",
        "\n",
        "plt.plot(history.history['accuracy'], \n",
        "         label='Доля верных ответов на обучающем наборе')\n",
        "plt.plot(history.history['val_accuracy'], \n",
        "         label='Доля верных ответов на проверочном наборе')\n",
        "plt.xlabel('Эпоха обучения')\n",
        "plt.ylabel('Доля верных ответов')\n",
        "plt.legend()\n",
        "plt.show()"
      ],
      "execution_count": null,
      "outputs": [
        {
          "output_type": "stream",
          "text": [
            "Epoch 1/15\n",
            "416/416 [==============================] - 3s 7ms/step - loss: 0.0351 - accuracy: 0.9851 - val_loss: 0.1568 - val_accuracy: 0.9793\n",
            "Epoch 2/15\n",
            "416/416 [==============================] - 3s 6ms/step - loss: 4.6885e-05 - accuracy: 1.0000 - val_loss: 0.1354 - val_accuracy: 0.9786\n",
            "Epoch 3/15\n",
            "416/416 [==============================] - 3s 6ms/step - loss: 1.8587e-05 - accuracy: 1.0000 - val_loss: 0.1288 - val_accuracy: 0.9788\n",
            "Epoch 4/15\n",
            "416/416 [==============================] - 3s 6ms/step - loss: 9.7941e-06 - accuracy: 1.0000 - val_loss: 0.1226 - val_accuracy: 0.9788\n",
            "Epoch 5/15\n",
            "416/416 [==============================] - 3s 6ms/step - loss: 5.8008e-06 - accuracy: 1.0000 - val_loss: 0.1200 - val_accuracy: 0.9793\n",
            "Epoch 6/15\n",
            "416/416 [==============================] - 3s 6ms/step - loss: 3.9465e-06 - accuracy: 1.0000 - val_loss: 0.1154 - val_accuracy: 0.9790\n",
            "Epoch 7/15\n",
            "416/416 [==============================] - 3s 6ms/step - loss: 2.8756e-06 - accuracy: 1.0000 - val_loss: 0.1128 - val_accuracy: 0.9784\n",
            "Epoch 8/15\n",
            "416/416 [==============================] - 3s 6ms/step - loss: 2.0934e-06 - accuracy: 1.0000 - val_loss: 0.1102 - val_accuracy: 0.9786\n",
            "Epoch 9/15\n",
            "416/416 [==============================] - 3s 6ms/step - loss: 1.5826e-06 - accuracy: 1.0000 - val_loss: 0.1092 - val_accuracy: 0.9775\n",
            "Epoch 10/15\n",
            "416/416 [==============================] - 3s 6ms/step - loss: 1.2847e-06 - accuracy: 1.0000 - val_loss: 0.1060 - val_accuracy: 0.9786\n",
            "Epoch 11/15\n",
            "416/416 [==============================] - 3s 6ms/step - loss: 1.0094e-06 - accuracy: 1.0000 - val_loss: 0.1063 - val_accuracy: 0.9782\n",
            "Epoch 12/15\n",
            "416/416 [==============================] - 3s 6ms/step - loss: 7.9109e-07 - accuracy: 1.0000 - val_loss: 0.1038 - val_accuracy: 0.9782\n",
            "Epoch 13/15\n",
            "416/416 [==============================] - 3s 6ms/step - loss: 6.7702e-07 - accuracy: 1.0000 - val_loss: 0.1037 - val_accuracy: 0.9782\n",
            "Epoch 14/15\n",
            "416/416 [==============================] - 3s 6ms/step - loss: 5.5299e-07 - accuracy: 1.0000 - val_loss: 0.1012 - val_accuracy: 0.9784\n",
            "Epoch 15/15\n",
            "416/416 [==============================] - 3s 6ms/step - loss: 4.5602e-07 - accuracy: 1.0000 - val_loss: 0.0963 - val_accuracy: 0.9806\n"
          ],
          "name": "stdout"
        },
        {
          "output_type": "display_data",
          "data": {
            "image/png": "[encoded data removed]",
            "text/plain": [
              "<Figure size 432x288 with 1 Axes>"
            ]
          },
          "metadata": {
            "tags": [],
            "needs_background": "light"
          }
        }
      ]
    },
    {
      "cell_type": "code",
      "metadata": {
        "id": "L1cpSRpVvAUx"
      },
      "source": [
        "# Представляем тестовую выборку в удобных для распознавания размерах\n",
        "def createTestMultiClasses(wordIndexes, xLen, step): #функция принимает последовательность индексов, размер окна, шаг окна\n",
        "\n",
        "    #Для каждого из 6 классов\n",
        "    #Создаём тестовую выборку из индексов\n",
        "    nClasses = len(wordIndexes) #Задаем количество классов\n",
        "    xTest6Classes01 = []               #Здесь будет список из всех классов, каждый размером \"кол-во окон в тексте * 20000 (при maxWordsCount=20000)\"\n",
        "    xTest6Classes = []                 #Здесь будет список массивов, каждый размером \"кол-во окон в тексте * длину окна\"(6 по 420*1000)\n",
        "    for wI in wordIndexes:                       #Для каждого тестового текста из последовательности индексов\n",
        "        sample = (getSetFromIndexes(wI, xLen, step)) #Тестовая выборка размером \"кол-во окон*длину окна\"(например, 420*1000)\n",
        "        xTest6Classes.append(sample)              # Добавляем в список\n",
        "        xTest6Classes01.append(tokenizer.sequences_to_matrix(sample)) #Трансформируется в Bag of Words в виде \"кол-во окон в тексте * 20000\"\n",
        "    xTest6Classes01 = np.array(xTest6Classes01)                     #И добавляется к нашему списку, \n",
        "    xTest6Classes = np.array(xTest6Classes)                     #И добавляется к нашему списку, \n",
        "\n",
        "    return xTest6Classes01, xTest6Classes  #функция вернёт тестовые данные: TestBag 6 классов на n*20000 и xTestEm 6 по n*1000\n",
        "\n",
        "# Распознаём тестовую выборку и выводим результаты\n",
        "def recognizeMultiClass(model, xTest, modelName):\n",
        "  print(\"НЕЙРОНКА: \", modelName)\n",
        "  print()\n",
        "  \n",
        "  totalSumRec = 0 # Сумма всех правильных ответов\n",
        "  \n",
        "  #Проходим по всем классам\n",
        "  for i in range(nClasses):\n",
        "    #Получаем результаты распознавания класса по блокам слов длины xLen\n",
        "    currPred = model.predict(xTest[i])\n",
        "    #Определяем номер распознанного класса для каждохо блока слов длины xLen\n",
        "    currOut = np.argmax(currPred, axis=1)\n",
        "\n",
        "    evVal = []\n",
        "    for j in range(nClasses):\n",
        "      evVal.append(len(currOut[currOut==j])/len(xTest[i]))\n",
        "\n",
        "    totalSumRec += len(currOut[currOut==i])\n",
        "    recognizedClass = np.argmax(evVal) #Определяем, какой класс в итоге за какой был распознан\n",
        "    \n",
        "    #Выводим результаты распознавания по текущему классу\n",
        "    isRecognized = \"Это НЕПРАВИЛЬНЫЙ ответ!\"\n",
        "    if (recognizedClass == i):\n",
        "      isRecognized = \"Это ПРАВИЛЬНЫЙ ответ!\"\n",
        "    str1 = 'Класс: ' + className[i] + \" \" * (11 - len(className[i])) + str(int(100*evVal[i])) + \"% сеть отнесла к классу \" + className[recognizedClass]\n",
        "    print(str1, \" \" * (55-len(str1)), isRecognized, sep='')\n",
        "  \n",
        "  #Выводим средний процент распознавания по всем классам вместе\n",
        "  print()\n",
        "  sumCount = 0\n",
        "  for i in range(nClasses):\n",
        "    sumCount += len(xTest[i])\n",
        "  print(\"Средний процент распознавания \", int(100*totalSumRec/sumCount), \"%\", sep='')\n",
        "\n",
        "  print()\n",
        "  \n",
        "  return totalSumRec/sumCount"
      ],
      "execution_count": null,
      "outputs": []
    },
    {
      "cell_type": "code",
      "metadata": {
        "id": "2So99kFPvHAJ"
      },
      "source": [
        "xTest6Classes01, _ = createTestMultiClasses(testWordIndexes, xLen, step) # Преобразование тестовой выборки"
      ],
      "execution_count": null,
      "outputs": []
    },
    {
      "cell_type": "code",
      "metadata": {
        "id": "vjAhPcNivJtq",
        "colab": {
          "base_uri": "https://localhost:8080/",
          "height": 217
        },
        "outputId": "e785e11c-262e-46c2-ecfb-c37b5eefaa0a"
      },
      "source": [
        "# Проверяем точность нейронки обученной на bag of words\n",
        "pred = recognizeMultiClass(model01, xTest6Classes01, \"Тексты 01 + Dense\")"
      ],
      "execution_count": null,
      "outputs": [
        {
          "output_type": "stream",
          "text": [
            "НЕЙРОНКА:  Тексты 01 + Dense\n",
            "\n",
            "Класс: О. Генри   100% сеть отнесла к классу О. Генри  Это ПРАВИЛЬНЫЙ ответ!\n",
            "Класс: Стругацкие 98% сеть отнесла к классу Стругацкие Это ПРАВИЛЬНЫЙ ответ!\n",
            "Класс: Булгаков   96% сеть отнесла к классу Булгаков   Это ПРАВИЛЬНЫЙ ответ!\n",
            "Класс: Саймак     97% сеть отнесла к классу Саймак     Это ПРАВИЛЬНЫЙ ответ!\n",
            "Класс: Фрай       97% сеть отнесла к классу Фрай       Это ПРАВИЛЬНЫЙ ответ!\n",
            "Класс: Брэдберри  100% сеть отнесла к классу Брэдберри Это ПРАВИЛЬНЫЙ ответ!\n",
            "\n",
            "Средний процент распознавания 98%\n",
            "\n"
          ],
          "name": "stdout"
        }
      ]
    },
    {
      "cell_type": "code",
      "metadata": {
        "id": "5YsbJxI9KijZ"
      },
      "source": [
        ""
      ],
      "execution_count": null,
      "outputs": []
    }
  ]
}