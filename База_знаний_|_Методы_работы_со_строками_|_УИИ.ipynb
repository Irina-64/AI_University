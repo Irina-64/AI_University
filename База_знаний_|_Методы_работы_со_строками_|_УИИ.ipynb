{
  "nbformat": 4,
  "nbformat_minor": 0,
  "metadata": {
    "colab": {
      "provenance": [],
      "collapsed_sections": [],
      "include_colab_link": true
    },
    "kernelspec": {
      "name": "python3",
      "display_name": "Python 3"
    },
    "language_info": {
      "name": "python"
    }
  },
  "cells": [
    {
      "cell_type": "markdown",
      "metadata": {
        "id": "view-in-github",
        "colab_type": "text"
      },
      "source": [
        "<a href=\"https://colab.research.google.com/github/Irina-64/AI_University/blob/main/%D0%91%D0%B0%D0%B7%D0%B0_%D0%B7%D0%BD%D0%B0%D0%BD%D0%B8%D0%B9_%7C_%D0%9C%D0%B5%D1%82%D0%BE%D0%B4%D1%8B_%D1%80%D0%B0%D0%B1%D0%BE%D1%82%D1%8B_%D1%81%D0%BE_%D1%81%D1%82%D1%80%D0%BE%D0%BA%D0%B0%D0%BC%D0%B8_%7C_%D0%A3%D0%98%D0%98.ipynb\" target=\"_parent\"><img src=\"https://colab.research.google.com/assets/colab-badge.svg\" alt=\"Open In Colab\"/></a>"
      ]
    },
    {
      "cell_type": "markdown",
      "metadata": {
        "id": "Bz-_xugXYy9i"
      },
      "source": [
        "##Операции со строками"
      ]
    },
    {
      "cell_type": "markdown",
      "metadata": {
        "id": "0BVYyZFbC9_0"
      },
      "source": [
        "##Базовые операции"
      ]
    },
    {
      "cell_type": "markdown",
      "metadata": {
        "id": "6plVJVMqMKnl"
      },
      "source": [
        "Создание переменной для присвоения ей строкового значения:"
      ]
    },
    {
      "cell_type": "code",
      "metadata": {
        "colab": {
          "base_uri": "https://localhost:8080/",
          "height": 35
        },
        "id": "2sUydPGtF4Ii",
        "outputId": "6eca92d9-170f-4661-9c37-e18a7c3ee6cc"
      },
      "source": [
        "S = 'Нашдом'\n",
        "S"
      ],
      "execution_count": null,
      "outputs": [
        {
          "output_type": "execute_result",
          "data": {
            "application/vnd.google.colaboratory.intrinsic+json": {
              "type": "string"
            },
            "text/plain": [
              "'Нашдом'"
            ]
          },
          "metadata": {},
          "execution_count": 3
        }
      ]
    },
    {
      "cell_type": "markdown",
      "metadata": {
        "id": "EDVEva0CDC86"
      },
      "source": [
        "###Конкатенация (объединение строк)"
      ]
    },
    {
      "cell_type": "markdown",
      "metadata": {
        "id": "srDyG_ZiMXi4"
      },
      "source": [
        "Объединение 2-х строковых значений переменных с помощью оператора сложения:\n",
        "\n",
        "\n",
        "\n"
      ]
    },
    {
      "cell_type": "code",
      "metadata": {
        "colab": {
          "base_uri": "https://localhost:8080/"
        },
        "id": "jAHirQMrDEOh",
        "outputId": "4371750a-c8e7-428b-98ea-f88bc72c3482"
      },
      "source": [
        "S1 = 'spam'\n",
        "S2 = 'eggs'\n",
        "print(S1 + S2)"
      ],
      "execution_count": null,
      "outputs": [
        {
          "output_type": "stream",
          "name": "stdout",
          "text": [
            "spameggs\n"
          ]
        }
      ]
    },
    {
      "cell_type": "markdown",
      "metadata": {
        "id": "asRXRQn2DIx1"
      },
      "source": [
        "###Дублирование строки (умножение на число)"
      ]
    },
    {
      "cell_type": "markdown",
      "metadata": {
        "id": "I-G5mBXGMl_V"
      },
      "source": [
        "Если использовать оператор умножения с  строковой переменной и целочисленной n, то возможно выполнения копирования n раз: "
      ]
    },
    {
      "cell_type": "code",
      "metadata": {
        "colab": {
          "base_uri": "https://localhost:8080/"
        },
        "id": "4iLM37msDPPt",
        "outputId": "613aa09f-d7ec-4d65-bedd-0475875df474"
      },
      "source": [
        "print('spam' * 3)"
      ],
      "execution_count": null,
      "outputs": [
        {
          "output_type": "stream",
          "text": [
            "spamspamspam\n"
          ],
          "name": "stdout"
        }
      ]
    },
    {
      "cell_type": "markdown",
      "metadata": {
        "id": "CyCfBF6vDJhh"
      },
      "source": [
        "###Получение длины строки (функция `len()`)"
      ]
    },
    {
      "cell_type": "markdown",
      "metadata": {
        "id": "bSHO_A0IM5JB"
      },
      "source": [
        "Чтобы узнать сколько символов содержит строковая переменная существует метод len()"
      ]
    },
    {
      "cell_type": "code",
      "metadata": {
        "colab": {
          "base_uri": "https://localhost:8080/"
        },
        "id": "W5CiYX8DDQxW",
        "outputId": "fb916598-b8a1-499a-b45d-3476cbd3f0c4"
      },
      "source": [
        "len('spam')"
      ],
      "execution_count": null,
      "outputs": [
        {
          "output_type": "execute_result",
          "data": {
            "text/plain": [
              "4"
            ]
          },
          "metadata": {
            "tags": []
          },
          "execution_count": 3
        }
      ]
    },
    {
      "cell_type": "markdown",
      "metadata": {
        "id": "9ePbL8LdDJjv"
      },
      "source": [
        "###Доступ по индексу"
      ]
    },
    {
      "cell_type": "markdown",
      "metadata": {
        "id": "QNhWcHAYNGj4"
      },
      "source": [
        "Символы в строке ведут себя как элементы в списке, то есть к ним можно также обратиться с помощью индекса"
      ]
    },
    {
      "cell_type": "code",
      "metadata": {
        "colab": {
          "base_uri": "https://localhost:8080/",
          "height": 35
        },
        "id": "yGoIEjVPDRrA",
        "outputId": "2a5373c9-e2af-45ba-e8e5-c8a39359a912"
      },
      "source": [
        "S = 'spam'\n",
        "S[0]"
      ],
      "execution_count": null,
      "outputs": [
        {
          "output_type": "execute_result",
          "data": {
            "application/vnd.google.colaboratory.intrinsic+json": {
              "type": "string"
            },
            "text/plain": [
              "'s'"
            ]
          },
          "metadata": {
            "tags": []
          },
          "execution_count": 4
        }
      ]
    },
    {
      "cell_type": "code",
      "metadata": {
        "colab": {
          "base_uri": "https://localhost:8080/",
          "height": 35
        },
        "id": "BzUyIH3tDTPf",
        "outputId": "07ebfc16-30ec-44bb-8b59-d038763fa038"
      },
      "source": [
        "S[2]"
      ],
      "execution_count": null,
      "outputs": [
        {
          "output_type": "execute_result",
          "data": {
            "application/vnd.google.colaboratory.intrinsic+json": {
              "type": "string"
            },
            "text/plain": [
              "'a'"
            ]
          },
          "metadata": {
            "tags": []
          },
          "execution_count": 5
        }
      ]
    },
    {
      "cell_type": "code",
      "metadata": {
        "colab": {
          "base_uri": "https://localhost:8080/",
          "height": 35
        },
        "id": "Y-2udirwDTRo",
        "outputId": "9ea9c782-ec11-4923-9edd-13c729acb61e"
      },
      "source": [
        "S[-2]"
      ],
      "execution_count": null,
      "outputs": [
        {
          "output_type": "execute_result",
          "data": {
            "application/vnd.google.colaboratory.intrinsic+json": {
              "type": "string"
            },
            "text/plain": [
              "'a'"
            ]
          },
          "metadata": {
            "tags": []
          },
          "execution_count": 6
        }
      ]
    },
    {
      "cell_type": "markdown",
      "metadata": {
        "id": "X0BEeoQoDJl_"
      },
      "source": [
        "Как видно из примера, в **Python** возможен и доступ по отрицательному индексу, при этом отсчет идет от конца строки."
      ]
    },
    {
      "cell_type": "markdown",
      "metadata": {
        "id": "TQstN7bpcRV4"
      },
      "source": [
        "###Извлечение среза"
      ]
    },
    {
      "cell_type": "markdown",
      "metadata": {
        "id": "NP6EVpwccSrv"
      },
      "source": [
        "Оператор извлечения среза: **[X:Y]**. **X** – начало среза, а **Y** – окончание;\n",
        "\n",
        "символ с номером **Y** в срез не входит. По умолчанию первый индекс равен **0**, а второй - длине строки"
      ]
    },
    {
      "cell_type": "code",
      "metadata": {
        "colab": {
          "base_uri": "https://localhost:8080/",
          "height": 35
        },
        "id": "aN2l0Vp3Db2r",
        "outputId": "26cc2362-8ea5-45bb-8795-67e071decb4c"
      },
      "source": [
        "s = 'spameggs'\n",
        "s[3:5]"
      ],
      "execution_count": null,
      "outputs": [
        {
          "output_type": "execute_result",
          "data": {
            "application/vnd.google.colaboratory.intrinsic+json": {
              "type": "string"
            },
            "text/plain": [
              "'me'"
            ]
          },
          "metadata": {},
          "execution_count": 6
        }
      ]
    },
    {
      "cell_type": "code",
      "metadata": {
        "colab": {
          "base_uri": "https://localhost:8080/",
          "height": 35
        },
        "id": "xGzva1EuDb63",
        "outputId": "320cc2a7-024e-450e-f3bc-e94046e0df6e"
      },
      "source": [
        "s[2:-2]"
      ],
      "execution_count": null,
      "outputs": [
        {
          "output_type": "execute_result",
          "data": {
            "application/vnd.google.colaboratory.intrinsic+json": {
              "type": "string"
            },
            "text/plain": [
              "'ameg'"
            ]
          },
          "metadata": {},
          "execution_count": 7
        }
      ]
    },
    {
      "cell_type": "code",
      "metadata": {
        "colab": {
          "base_uri": "https://localhost:8080/",
          "height": 35
        },
        "id": "C1HgjhIdDb_a",
        "outputId": "16091dd1-6d0b-41d8-95a3-bcbca960f250"
      },
      "source": [
        "s[:6]"
      ],
      "execution_count": null,
      "outputs": [
        {
          "output_type": "execute_result",
          "data": {
            "application/vnd.google.colaboratory.intrinsic+json": {
              "type": "string"
            },
            "text/plain": [
              "'spameg'"
            ]
          },
          "metadata": {},
          "execution_count": 8
        }
      ]
    },
    {
      "cell_type": "code",
      "metadata": {
        "colab": {
          "base_uri": "https://localhost:8080/",
          "height": 35
        },
        "id": "WGQwauC7DcDU",
        "outputId": "91f56765-40fa-4b9f-9a59-e55a5ae3588a"
      },
      "source": [
        "s[1:]"
      ],
      "execution_count": null,
      "outputs": [
        {
          "output_type": "execute_result",
          "data": {
            "application/vnd.google.colaboratory.intrinsic+json": {
              "type": "string"
            },
            "text/plain": [
              "'pameggs'"
            ]
          },
          "metadata": {
            "tags": []
          },
          "execution_count": 11
        }
      ]
    },
    {
      "cell_type": "code",
      "metadata": {
        "colab": {
          "base_uri": "https://localhost:8080/",
          "height": 35
        },
        "id": "zzoE1qL5DcHY",
        "outputId": "5f39a733-b0ae-4070-aa1e-d954acf50aac"
      },
      "source": [
        "s[:]"
      ],
      "execution_count": null,
      "outputs": [
        {
          "output_type": "execute_result",
          "data": {
            "application/vnd.google.colaboratory.intrinsic+json": {
              "type": "string"
            },
            "text/plain": [
              "'spameggs'"
            ]
          },
          "metadata": {
            "tags": []
          },
          "execution_count": 12
        }
      ]
    },
    {
      "cell_type": "markdown",
      "metadata": {
        "id": "InzzMITaDkZa"
      },
      "source": [
        "Третьим числом можно задать шаг, с которым нужно извлекать срез."
      ]
    },
    {
      "cell_type": "code",
      "metadata": {
        "colab": {
          "base_uri": "https://localhost:8080/",
          "height": 35
        },
        "id": "YnR862gdDk9X",
        "outputId": "4b204494-715d-4489-bdac-303fb2d95748"
      },
      "source": [
        "s[::2]"
      ],
      "execution_count": null,
      "outputs": [
        {
          "output_type": "execute_result",
          "data": {
            "application/vnd.google.colaboratory.intrinsic+json": {
              "type": "string"
            },
            "text/plain": [
              "'saeg'"
            ]
          },
          "metadata": {},
          "execution_count": 9
        }
      ]
    },
    {
      "cell_type": "code",
      "metadata": {
        "colab": {
          "base_uri": "https://localhost:8080/",
          "height": 35
        },
        "id": "tsbddQfTDlvC",
        "outputId": "f6e574b4-c083-4de3-95a1-2cabae74e5c2"
      },
      "source": [
        "s[3:5:2]"
      ],
      "execution_count": null,
      "outputs": [
        {
          "output_type": "execute_result",
          "data": {
            "application/vnd.google.colaboratory.intrinsic+json": {
              "type": "string"
            },
            "text/plain": [
              "'m'"
            ]
          },
          "metadata": {},
          "execution_count": 10
        }
      ]
    },
    {
      "cell_type": "code",
      "metadata": {
        "colab": {
          "base_uri": "https://localhost:8080/",
          "height": 35
        },
        "id": "p5Ds7F-qDlxQ",
        "outputId": "fd77a9b1-22d0-4228-cd22-fb18e947ad0d"
      },
      "source": [
        "s[1:1:1]"
      ],
      "execution_count": null,
      "outputs": [
        {
          "output_type": "execute_result",
          "data": {
            "application/vnd.google.colaboratory.intrinsic+json": {
              "type": "string"
            },
            "text/plain": [
              "''"
            ]
          },
          "metadata": {},
          "execution_count": 11
        }
      ]
    },
    {
      "cell_type": "markdown",
      "metadata": {
        "id": "V79m3KcODsJZ"
      },
      "source": [
        "##Другие функции и методы строк"
      ]
    },
    {
      "cell_type": "markdown",
      "metadata": {
        "id": "B7ySK9YhDulZ"
      },
      "source": [
        "При вызове методов необходимо помнить, что строки в **Python** относятся к категории неизменяемых последовательностей, то есть все функции и методы могут лишь создавать новую строку."
      ]
    },
    {
      "cell_type": "code",
      "metadata": {
        "colab": {
          "base_uri": "https://localhost:8080/",
          "height": 198
        },
        "id": "Y0j7GodzDwts",
        "outputId": "66aa9fba-7eb3-407c-888f-a5f8ae7ececc"
      },
      "source": [
        "# Попытка изменения символа в строке приводит к ошибке\n",
        "s = 'spam'\n",
        "s[1] = 'b'"
      ],
      "execution_count": null,
      "outputs": [
        {
          "output_type": "error",
          "ename": "TypeError",
          "evalue": "ignored",
          "traceback": [
            "\u001b[0;31m---------------------------------------------------------------------------\u001b[0m",
            "\u001b[0;31mTypeError\u001b[0m                                 Traceback (most recent call last)",
            "\u001b[0;32m<ipython-input-1-fe7881c67b12>\u001b[0m in \u001b[0;36m<module>\u001b[0;34m()\u001b[0m\n\u001b[1;32m      1\u001b[0m \u001b[0;31m# Попытка изменения символа в строке приводит к ошибке\u001b[0m\u001b[0;34m\u001b[0m\u001b[0;34m\u001b[0m\u001b[0;34m\u001b[0m\u001b[0m\n\u001b[1;32m      2\u001b[0m \u001b[0ms\u001b[0m \u001b[0;34m=\u001b[0m \u001b[0;34m'spam'\u001b[0m\u001b[0;34m\u001b[0m\u001b[0;34m\u001b[0m\u001b[0m\n\u001b[0;32m----> 3\u001b[0;31m \u001b[0ms\u001b[0m\u001b[0;34m[\u001b[0m\u001b[0;36m1\u001b[0m\u001b[0;34m]\u001b[0m \u001b[0;34m=\u001b[0m \u001b[0;34m'b'\u001b[0m\u001b[0;34m\u001b[0m\u001b[0;34m\u001b[0m\u001b[0m\n\u001b[0m",
            "\u001b[0;31mTypeError\u001b[0m: 'str' object does not support item assignment"
          ]
        }
      ]
    },
    {
      "cell_type": "code",
      "metadata": {
        "colab": {
          "base_uri": "https://localhost:8080/",
          "height": 35
        },
        "id": "vL81CNwCD34x",
        "outputId": "939ffbd1-9c47-48fc-bb40-e63846a2e97d"
      },
      "source": [
        "# Вместо этого следует конструировать новую строку\n",
        "s = s[0] + 'b' + s[2:]\n",
        "s"
      ],
      "execution_count": null,
      "outputs": [
        {
          "output_type": "execute_result",
          "data": {
            "application/vnd.google.colaboratory.intrinsic+json": {
              "type": "string"
            },
            "text/plain": [
              "'sbam'"
            ]
          },
          "metadata": {
            "tags": []
          },
          "execution_count": 17
        }
      ]
    },
    {
      "cell_type": "markdown",
      "metadata": {
        "id": "tkRzR6UQD6U7"
      },
      "source": [
        "Поэтому все строковые методы возвращают новую строку, которую потом следует присвоить переменной."
      ]
    },
    {
      "cell_type": "markdown",
      "metadata": {
        "id": "1t7gAoRgEJNa"
      },
      "source": [
        "<table border=\"1\"><thead valign=\"bottom\"><tr><th>Функция или метод</th><th>Назначение</th></tr></thead><tbody valign=\"top\"><tr><td><b>S = 'str'; S = \"str\"; S = '''str'''; S = \"\"\"str\"\"\"</b></td><td>Литералы строк</td></tr><tr><td><b>S = \"s\\np\\ta\\nbbb\"</b></td><td>Экранированные последовательности</td></tr><tr><td><b>S = r\"C:\\temp\\new\"</b></td><td>Неформатированные строки (подавляют экранирование)</td></tr><tr><td><b>S = b\"byte\"</b></td><td>Строка байтов</td></tr><tr><td><b>S1 + S2</b></td><td>Конкатенация (сложение строк)</td></tr><tr><td><b>S1 * 3</b></td><td>Повторение строки</td></tr><tr><td><b>S[i]</b></td><td>Обращение по индексу</td></tr><tr><td><b>S[i:j:step]</b></td><td>Извлечение среза</td></tr><tr><td><b>len</b>(S)</td><td>Длина строки</td></tr><tr><td><b>S.find</b>(str, [start],[end])</td><td>Поиск подстроки в строке. Возвращает номер первого вхождения или -1</td></tr><tr><td><b>S.rfind</b>(str, [start],[end])</td><td>Поиск подстроки в строке. Возвращает номер последнего вхождения или -1</td></tr><tr><td><b>S.index</b>(str, [start],[end])</td><td>Поиск подстроки в строке. Возвращает номер первого вхождения или вызывает ValueError</td></tr><tr><td><b>S.rindex</b>(str, [start],[end])</td><td>Поиск подстроки в строке. Возвращает номер последнего вхождения или вызывает ValueError</td></tr><tr><td><b>S.replace</b>(шаблон, замена[, maxcount])</td><td>Замена шаблона на замену. maxcount ограничивает количество замен</td></tr><tr><td><b>S.split</b>(символ)</td><td>Разбиение строки по разделителю</td></tr><tr><td><b>S.isdigit</b>()</td><td>Состоит ли строка из цифр</td></tr><tr><td><b>S.isalpha</b>()</td><td>Состоит ли строка из букв</td></tr><tr><td><b>S.isalnum</b>()</td><td>Состоит ли строка из цифр или букв</td></tr><tr><td><b>S.islower</b>()</td><td>Состоит ли строка из символов в нижнем регистре</td></tr><tr><td><b>S.isupper</b>()</td><td>Состоит ли строка из символов в верхнем регистре</td></tr><tr><td><b>S.isspace</b>()</td><td>Состоит ли строка из неотображаемых символов (пробел, символ перевода страницы ('\\f'), \"новая строка\" ('\\n'), \"перевод каретки\" ('\\r'), \"горизонтальная табуляция\" ('\\t') и \"вертикальная табуляция\" ('\\v'))</td></tr><tr><td><b>S.istitle</b>()</td><td>Начинаются ли слова в строке с заглавной буквы</td></tr><tr><td><b>S.upper</b>()</td><td>Преобразование строки к верхнему регистру</td></tr><tr><td><b>S.lower</b>()</td><td>Преобразование строки к нижнему регистру</td></tr><tr><td><b>S.startswith</b>(str)</td><td>Начинается ли строка S с шаблона str</td></tr><tr><td><b>S.endswith</b>(str)</td><td>Заканчивается ли строка S шаблоном str</td></tr><tr><td><b>S.join</b>(список)</td><td>Сборка строки из списка с разделителем S</td></tr><tr><td><b>ord</b>(символ)</td><td>Символ в его код ASCII</td></tr><tr><td><b>chr</b>(число)</td><td>Код ASCII в символ</td></tr><tr><td><b>S.capitalize</b>()</td><td>Переводит первый символ строки в верхний регистр, а все остальные в нижний</td></tr><tr><td><b>S.center</b>(width, [fill])</td><td>Возвращает отцентрованную строку, по краям которой стоит символ fill (пробел по умолчанию)</td></tr><tr><td><b>S.count</b>(str, [start],[end])</td><td>Возвращает количество непересекающихся вхождений подстроки в диапазоне [начало, конец] (0 и длина строки по умолчанию)</td></tr><tr><td><b>S.expandtabs</b>([tabsize])</td><td>Возвращает копию строки, в которой все символы табуляции заменяются одним или несколькими пробелами, в зависимости от текущего столбца. Если TabSize не указан, размер табуляции полагается равным 8 пробелам</td></tr><tr><td><b>S.lstrip</b>([chars])</td><td>Удаление пробельных символов в начале строки</td></tr><tr><td><b>S.rstrip</b>([chars])</td><td>Удаление пробельных символов в конце строки</td></tr><tr><td><b>S.strip</b>([chars])</td><td>Удаление пробельных символов в начале и в конце строки</td></tr><tr><td><b>S.partition</b>(шаблон)</td><td>Возвращает кортеж, содержащий часть перед первым шаблоном, сам шаблон, и часть после шаблона. Если шаблон не найден, возвращается кортеж, содержащий саму строку, а затем две пустых строки</td></tr><tr><td><b>S.rpartition</b>(sep)</td><td>Возвращает кортеж, содержащий часть перед последним шаблоном, сам шаблон, и часть после шаблона. Если шаблон не найден, возвращается кортеж, содержащий две пустых строки, а затем саму строку</td></tr><tr><td><b>S.swapcase</b>()</td><td>Переводит символы нижнего регистра в верхний, а верхнего – в нижний</td></tr><tr><td><b>S.title</b>()</td><td>Первую букву каждого слова переводит в верхний регистр, а все остальные в нижний</td></tr><tr><td><b>S.zfill</b>(width)</td><td>Делает длину строки не меньшей width, по необходимости заполняя первые символы нулями</td></tr><tr><td><b>S.ljust</b>(width, fillchar=\"&nbsp;\")</td><td>Делает длину строки не меньшей width, по необходимости заполняя последние символы символом fillchar</td></tr><tr><td><b>S.rjust</b>(width, fillchar=\"&nbsp;\")</td><td>Делает длину строки не меньшей width, по необходимости заполняя первые символы символом fillchar</td></tr><tr><td><b>S.format</b>(*args, **kwargs)</td><td>Форматирование строки</td></tr></tbody></table>"
      ]
    }
  ]
}