{
  "nbformat": 4,
  "nbformat_minor": 0,
  "metadata": {
    "colab": {
      "name": "Разбор домашнего задания № 3.ipynb",
      "provenance": [],
      "collapsed_sections": [],
      "include_colab_link": true
    },
    "kernelspec": {
      "name": "python3",
      "display_name": "Python 3"
    },
    "accelerator": "GPU"
  },
  "cells": [
    {
      "cell_type": "markdown",
      "metadata": {
        "id": "view-in-github",
        "colab_type": "text"
      },
      "source": [
        "<a href=\"https://colab.research.google.com/github/Irina-64/AI_University/blob/main/%D0%A0%D0%B0%D0%B7%D0%B1%D0%BE%D1%80_%D0%B4%D0%BE%D0%BC%D0%B0%D1%88%D0%BD%D0%B5%D0%B3%D0%BE_%D0%B7%D0%B0%D0%B4%D0%B0%D0%BD%D0%B8%D1%8F_%E2%84%96_3.ipynb\" target=\"_parent\"><img src=\"https://colab.research.google.com/assets/colab-badge.svg\" alt=\"Open In Colab\"/></a>"
      ]
    },
    {
      "cell_type": "markdown",
      "metadata": {
        "id": "ac3Sa-0UzQ1F"
      },
      "source": [
        "## LIght Вариант 1\n",
        "Переписать ноутбук по распознаванию рукописных цифр своими руками, восстановив следующие операции:\n",
        "\n"
      ]
    },
    {
      "cell_type": "markdown",
      "metadata": {
        "id": "hf9VUNvSz325"
      },
      "source": [
        "### Импорт библиотек"
      ]
    },
    {
      "cell_type": "code",
      "metadata": {
        "id": "E2fNHaEfXU97"
      },
      "source": [
        "from tensorflow.keras.datasets import mnist #Загружаем базу mnist\n",
        "from tensorflow.keras.datasets import cifar10 #Загружаем базу cifar10\n",
        "from tensorflow.keras.datasets import cifar100 #Загружаем базу cifar100\n",
        "\n",
        "from tensorflow.keras.models import Sequential #Сеть прямого распространения\n",
        "#Базовые слои для счёрточных сетей\n",
        "from tensorflow.keras.layers import Dense, Conv2D, MaxPooling2D, Flatten, Dropout, BatchNormalization\n",
        "from tensorflow.python.keras.preprocessing.image import ImageDataGenerator # работа с изображениями\n",
        "from tensorflow.keras.optimizers import Adam, Adadelta # оптимизаторы\n",
        "from tensorflow.keras import utils #Используем для to_categoricall\n",
        "from tensorflow.keras.preprocessing import image #Для отрисовки изображений\n",
        "from google.colab import files #Для загрузки своей картинки\n",
        "import numpy as np #Библиотека работы с массивами\n",
        "import matplotlib.pyplot as plt #Для отрисовки графиков\n",
        "from PIL import Image #Для отрисовки изображений\n",
        "import random #Для генерации случайных чисел \n",
        "import math # Для округления\n",
        "import os #Для работы с файлами \n",
        "# подключем диск\n",
        "from google.colab import drive\n",
        "import pandas as pd\n",
        "%matplotlib inline"
      ],
      "execution_count": null,
      "outputs": []
    },
    {
      "cell_type": "markdown",
      "metadata": {
        "id": "pQh2Ho0r0C82"
      },
      "source": [
        "### Загрузка базы mnist."
      ]
    },
    {
      "cell_type": "code",
      "metadata": {
        "id": "GhF7eOObzgj2"
      },
      "source": [
        "(x_train, y_train), (x_test, y_test) = mnist.load_data()"
      ],
      "execution_count": null,
      "outputs": []
    },
    {
      "cell_type": "markdown",
      "metadata": {
        "id": "-iRpkUFe2wE-"
      },
      "source": [
        "### Выводим для примера картинки по каждому классу"
      ]
    },
    {
      "cell_type": "code",
      "metadata": {
        "colab": {
          "base_uri": "https://localhost:8080/",
          "height": 159
        },
        "id": "CEzbGrLk2z_3",
        "outputId": "7ba439a5-01c4-4dbb-ac29-56bdfe729a31"
      },
      "source": [
        "fig, axs = plt.subplots(1, 10, figsize=(25, 3)) #Создаем полотно из 10 графиков\n",
        "for i in range(10): #Проходим по классам от 0 до 9\n",
        "  label_indexes = np.where(y_train==i)[0] #Получаем список из индексов положений класса i в y_train\n",
        "  index = random.choice(label_indexes) #Случайным образом выбираем из списка индекс\n",
        "  img = x_train[index] #Выбираем из x_train нужное изображение\n",
        "  axs[i].imshow(Image.fromarray(img), cmap='gray') #Отображаем изображение i-ым графиков\n",
        "\n",
        "plt.show() #Показываем изображения"
      ],
      "execution_count": null,
      "outputs": [
        {
          "output_type": "display_data",
          "data": {
            "image/png": "[encoded data removed]",
            "text/plain": [
              "<Figure size 1800x216 with 10 Axes>"
            ]
          },
          "metadata": {
            "tags": [],
            "needs_background": "light"
          }
        }
      ]
    },
    {
      "cell_type": "markdown",
      "metadata": {
        "id": "63L7apfK0RyU"
      },
      "source": [
        "### Нормирование и преобразование x_train и y_train."
      ]
    },
    {
      "cell_type": "code",
      "metadata": {
        "id": "wMfbee9q0UlL"
      },
      "source": [
        "#Меняем формат данных MNIST\n",
        "#Надо добавить в конце размерность 1\n",
        "#Чтобы свёрточная сеть понимала, что это чёрно-белые данные\n",
        "x_train = x_train.reshape(x_train.shape[0], 28, 28, 1)\n",
        "x_test = x_test.reshape(x_test.shape[0], 28, 28, 1)\n",
        "\n",
        "# Превращаем y_train и y_test в формат one hot encoding\n",
        "y_train = utils.to_categorical(y_train, 10)\n",
        "y_test = utils.to_categorical(y_test, 10)"
      ],
      "execution_count": null,
      "outputs": []
    },
    {
      "cell_type": "code",
      "metadata": {
        "colab": {
          "base_uri": "https://localhost:8080/"
        },
        "id": "4IuXkpD81BP0",
        "outputId": "61d4e712-bd3f-4bad-a1cb-247830dc0ec6"
      },
      "source": [
        "# Посмотрим форматы выборок перед обучением\n",
        "print(x_train.shape)\n",
        "print(x_test.shape)\n",
        "print(y_train.shape)\n",
        "print(y_test.shape)"
      ],
      "execution_count": null,
      "outputs": [
        {
          "output_type": "stream",
          "text": [
            "(60000, 28, 28, 1)\n",
            "(10000, 28, 28, 1)\n",
            "(60000, 10)\n",
            "(10000, 10)\n"
          ],
          "name": "stdout"
        }
      ]
    },
    {
      "cell_type": "markdown",
      "metadata": {
        "id": "HOW0T3QM0g-D"
      },
      "source": [
        "### Создание сверточной нейронной сети."
      ]
    },
    {
      "cell_type": "markdown",
      "metadata": {
        "id": "YauFYV7q1RZI"
      },
      "source": [
        "### задаём batch_size"
      ]
    },
    {
      "cell_type": "code",
      "metadata": {
        "id": "p4v_-N6Z1U9i"
      },
      "source": [
        "batch_size = 128 "
      ],
      "execution_count": null,
      "outputs": []
    },
    {
      "cell_type": "markdown",
      "metadata": {
        "id": "2YFHs3t_1Zcj"
      },
      "source": [
        "### Создаем последовательную модель"
      ]
    },
    {
      "cell_type": "code",
      "metadata": {
        "id": "p-3aHO921eth"
      },
      "source": [
        "model = Sequential()"
      ],
      "execution_count": null,
      "outputs": []
    },
    {
      "cell_type": "markdown",
      "metadata": {
        "id": "ZyO651ST2JWw"
      },
      "source": [
        "### Собираем нейросеть из набора слоев (послеовательных)"
      ]
    },
    {
      "cell_type": "code",
      "metadata": {
        "id": "0SUC-5cV0jJd"
      },
      "source": [
        "model.add(BatchNormalization(input_shape=(28, 28, 1)))  #Слой пакетной нормализации\n",
        "model.add(Conv2D(32, 3, padding='same', activation='relu')) #Первый сверточный слой\n",
        "model.add(Conv2D(32, (3, 3), padding='same', activation='relu')) #Второй сверточный слой\n",
        "model.add(MaxPooling2D(pool_size=(2, 2))) #Первый слой подвыборки\n",
        "model.add(Dropout(0.25))  #Слой регуляризации Dropout\n",
        "\n",
        "model.add(Flatten())\n",
        "model.add(Dense(256, activation='relu')) #Полносвязный слой для классификации\n",
        "model.add(Dropout(0.25))  #Слой регуляризации Dropout\n",
        "model.add(Dense(10, activation='softmax'))  #Выходной полносвязный слой\n",
        "\n",
        "#Компилируем сеть\n",
        "model.compile(loss=\"categorical_crossentropy\", optimizer=\"adam\", metrics=[\"accuracy\"])"
      ],
      "execution_count": null,
      "outputs": []
    },
    {
      "cell_type": "markdown",
      "metadata": {
        "id": "nqlH5Ed50mr_"
      },
      "source": [
        "### Обучение сверточной нейронной сети."
      ]
    },
    {
      "cell_type": "code",
      "metadata": {
        "colab": {
          "base_uri": "https://localhost:8080/",
          "height": 783
        },
        "id": "PssFs5w50pAH",
        "outputId": "bd53f300-0f53-4a0f-8697-b8b188eb9f8c"
      },
      "source": [
        "history = model.fit(x_train, \n",
        "                    y_train, \n",
        "                    batch_size=batch_size, \n",
        "                    epochs=15,\n",
        "                    validation_data=(x_test, y_test),\n",
        "                    verbose=1)\n",
        "\n",
        "#Отображаем график точности обучения\n",
        "plt.plot(history.history['accuracy'], \n",
        "         label='Доля верных ответов на обучающем наборе')\n",
        "plt.plot(history.history['val_accuracy'], \n",
        "         label='Доля верных ответов на проверочном наборе')\n",
        "plt.xlabel('Эпоха обучения')\n",
        "plt.ylabel('Доля верных ответов')\n",
        "plt.legend()\n",
        "plt.show()"
      ],
      "execution_count": null,
      "outputs": [
        {
          "output_type": "stream",
          "text": [
            "Epoch 1/15\n",
            "469/469 [==============================] - 29s 8ms/step - loss: 0.1834 - accuracy: 0.9438 - val_loss: 0.0443 - val_accuracy: 0.9845\n",
            "Epoch 2/15\n",
            "469/469 [==============================] - 4s 8ms/step - loss: 0.0573 - accuracy: 0.9824 - val_loss: 0.0411 - val_accuracy: 0.9853\n",
            "Epoch 3/15\n",
            "469/469 [==============================] - 3s 7ms/step - loss: 0.0388 - accuracy: 0.9877 - val_loss: 0.0308 - val_accuracy: 0.9898\n",
            "Epoch 4/15\n",
            "469/469 [==============================] - 3s 7ms/step - loss: 0.0301 - accuracy: 0.9903 - val_loss: 0.0315 - val_accuracy: 0.9892\n",
            "Epoch 5/15\n",
            "469/469 [==============================] - 4s 8ms/step - loss: 0.0232 - accuracy: 0.9925 - val_loss: 0.0278 - val_accuracy: 0.9903\n",
            "Epoch 6/15\n",
            "469/469 [==============================] - 3s 7ms/step - loss: 0.0217 - accuracy: 0.9929 - val_loss: 0.0273 - val_accuracy: 0.9912\n",
            "Epoch 7/15\n",
            "469/469 [==============================] - 3s 7ms/step - loss: 0.0179 - accuracy: 0.9942 - val_loss: 0.0253 - val_accuracy: 0.9925\n",
            "Epoch 8/15\n",
            "469/469 [==============================] - 4s 8ms/step - loss: 0.0154 - accuracy: 0.9946 - val_loss: 0.0299 - val_accuracy: 0.9914\n",
            "Epoch 9/15\n",
            "469/469 [==============================] - 3s 7ms/step - loss: 0.0131 - accuracy: 0.9956 - val_loss: 0.0293 - val_accuracy: 0.9917\n",
            "Epoch 10/15\n",
            "469/469 [==============================] - 4s 8ms/step - loss: 0.0133 - accuracy: 0.9953 - val_loss: 0.0323 - val_accuracy: 0.9909\n",
            "Epoch 11/15\n",
            "469/469 [==============================] - 4s 8ms/step - loss: 0.0121 - accuracy: 0.9960 - val_loss: 0.0325 - val_accuracy: 0.9909\n",
            "Epoch 12/15\n",
            "469/469 [==============================] - 3s 7ms/step - loss: 0.0102 - accuracy: 0.9965 - val_loss: 0.0329 - val_accuracy: 0.9911\n",
            "Epoch 13/15\n",
            "469/469 [==============================] - 3s 7ms/step - loss: 0.0095 - accuracy: 0.9968 - val_loss: 0.0334 - val_accuracy: 0.9920\n",
            "Epoch 14/15\n",
            "469/469 [==============================] - 3s 7ms/step - loss: 0.0092 - accuracy: 0.9968 - val_loss: 0.0359 - val_accuracy: 0.9918\n",
            "Epoch 15/15\n",
            "469/469 [==============================] - 4s 8ms/step - loss: 0.0091 - accuracy: 0.9968 - val_loss: 0.0336 - val_accuracy: 0.9921\n"
          ],
          "name": "stdout"
        },
        {
          "output_type": "display_data",
          "data": {
            "image/png": "[encoded data removed]",
            "text/plain": [
              "<Figure size 432x288 with 1 Axes>"
            ]
          },
          "metadata": {
            "tags": [],
            "needs_background": "light"
          }
        }
      ]
    },
    {
      "cell_type": "markdown",
      "metadata": {
        "id": "Rknwb10fbUQb"
      },
      "source": [
        "# LIght Вариант 2\n",
        "\n",
        "Провести серию экспериментов по подбору гиперпараметров нейронной сети, созданной на занятии.\n",
        "\n",
        "Поменять количество нейронов в сверточных слоях, использовав следующие значения:\n",
        "* один слой 2 фильтров\n",
        "* один слой  4 фильтров\n",
        "* один слой  16 фильтров\n",
        "\n",
        "Поменять активационную функцию в скрытых слоях с relu на linear\n",
        "\n",
        "Поменять размеры batch_size:\n",
        "* 10\n",
        "* 100\n",
        "* Вся база (48000)\n",
        "\n",
        "Записать в таблицу получившиеся точности.\n",
        "Написать выводы по результатам проведенных тестов.\n"
      ]
    },
    {
      "cell_type": "code",
      "metadata": {
        "id": "b-zEikOxhz_5",
        "colab": {
          "base_uri": "https://localhost:8080/"
        },
        "outputId": "109111c2-7dfb-46cf-da33-978128c51e11"
      },
      "source": [
        "data = [['32-32', 'relu', 128, round(history.history['val_accuracy'][-1], 3)]]\n",
        "data"
      ],
      "execution_count": null,
      "outputs": [
        {
          "output_type": "execute_result",
          "data": {
            "text/plain": [
              "[['32-32', 'relu', 128, 0.993]]"
            ]
          },
          "metadata": {
            "tags": []
          },
          "execution_count": 21
        }
      ]
    },
    {
      "cell_type": "code",
      "metadata": {
        "id": "ynpTysg9jR9h",
        "colab": {
          "base_uri": "https://localhost:8080/"
        },
        "outputId": "45a74fcf-80ff-488c-91eb-184dc565b77e"
      },
      "source": [
        "# 1\n",
        "\n",
        "N = [2, 4, 16] # Кол-во фильтров в сверточных слоях\n",
        "\n",
        "for i in N:\n",
        "    for j in N[::-1]:\n",
        "        model = Sequential()\n",
        "\n",
        "        model.add(BatchNormalization(input_shape=(28, 28, 1)))\n",
        "        model.add(Conv2D(i, (3, 3), padding='same', activation='relu')) # Меняем кол-во фильтров в сверточных слоях\n",
        "        model.add(Conv2D(j, (3, 3), padding='same', activation='relu')) \n",
        "        model.add(MaxPooling2D(pool_size=(2, 2)))\n",
        "        model.add(Dropout(0.25))\n",
        "\n",
        "        model.add(Flatten())\n",
        "        model.add(Dense(256, activation='relu'))\n",
        "        model.add(Dropout(0.25))\n",
        "        model.add(Dense(10, activation='softmax'))\n",
        "\n",
        "        # Компилируем сеть\n",
        "        model.compile(loss=\"categorical_crossentropy\", optimizer=\"adam\", metrics=[\"accuracy\"])\n",
        "\n",
        "        # Обучаем сеть \n",
        "        history = model.fit(x_train, \n",
        "                            y_train, \n",
        "                            batch_size=batch_size, \n",
        "                            epochs=10,\n",
        "                            validation_split=0.2,\n",
        "                            verbose=1)\n",
        "        \n",
        "        mod =str(i)+'-'+str(j)\n",
        "        data = data + [[mod, 'relu', 128, round(history.history['val_accuracy'][-1], 3)]]\n",
        "\n",
        "\n",
        "# 2\n",
        "\n",
        "model = Sequential()\n",
        "\n",
        "model.add(BatchNormalization(input_shape=(28, 28, 1)))\n",
        "model.add(Conv2D(32, (3, 3), padding='same', activation='linear')) # Меняем активационную функцию на linear\n",
        "model.add(Conv2D(32, (3, 3), padding='same', activation='linear')) \n",
        "model.add(MaxPooling2D(pool_size=(2, 2)))\n",
        "model.add(Dropout(0.25))\n",
        "\n",
        "model.add(Flatten())\n",
        "model.add(Dense(256, activation='linear'))                         # Меняем активационную функцию на linear\n",
        "model.add(Dropout(0.25))\n",
        "model.add(Dense(10, activation='softmax'))\n",
        "\n",
        "# Компилируем сеть\n",
        "model.compile(loss=\"categorical_crossentropy\", optimizer=\"adam\", metrics=[\"accuracy\"])\n",
        "\n",
        "# Обучаем сеть \n",
        "history = model.fit(x_train, \n",
        "                    y_train, \n",
        "                    batch_size=batch_size, \n",
        "                    epochs=10,\n",
        "                    validation_split=0.2,\n",
        "                    verbose=1)\n",
        "\n",
        "data = data + [['32-32', 'linear', 128, round(history.history['val_accuracy'][-1], 3)]]\n",
        "\n",
        "\n",
        "# 3.1\n",
        "\n",
        "N_batch_size = [10, 100, 15000]\n",
        "for i in N_batch_size:\n",
        "    model = Sequential()\n",
        "\n",
        "    model.add(BatchNormalization(input_shape=(28, 28, 1)))\n",
        "    model.add(Conv2D(32, (3, 3), padding='same', activation='relu'))\n",
        "    model.add(Conv2D(32, (3, 3), padding='same', activation='relu'))\n",
        "    model.add(MaxPooling2D(pool_size=(2, 2)))\n",
        "    model.add(Dropout(0.25))\n",
        "\n",
        "    model.add(Flatten())\n",
        "    model.add(Dense(256, activation='relu'))\n",
        "    model.add(Dropout(0.25))\n",
        "    model.add(Dense(10, activation='softmax'))\n",
        "\n",
        "    # Компилируем сеть\n",
        "    model.compile(loss=\"categorical_crossentropy\", optimizer=\"adam\", metrics=[\"accuracy\"])\n",
        "\n",
        "    # Обучаем сеть \n",
        "    history = model.fit(x_train, \n",
        "                        y_train, \n",
        "                        batch_size=i,               # Меняем batch_size\n",
        "                        epochs=10,\n",
        "                        validation_split=0.2,\n",
        "                        verbose=1)\n",
        "\n",
        "    data = data + [['32-32', 'relu', i, round(history.history['val_accuracy'][-1], 3)]]"
      ],
      "execution_count": null,
      "outputs": [
        {
          "output_type": "stream",
          "text": [
            "Epoch 1/10\n",
            "375/375 [==============================] - 2s 4ms/step - loss: 0.2540 - accuracy: 0.9209 - val_loss: 0.0816 - val_accuracy: 0.9756\n",
            "Epoch 2/10\n",
            "375/375 [==============================] - 1s 4ms/step - loss: 0.0875 - accuracy: 0.9734 - val_loss: 0.0584 - val_accuracy: 0.9833\n",
            "Epoch 3/10\n",
            "375/375 [==============================] - 1s 4ms/step - loss: 0.0619 - accuracy: 0.9810 - val_loss: 0.0475 - val_accuracy: 0.9860\n",
            "Epoch 4/10\n",
            "375/375 [==============================] - 1s 4ms/step - loss: 0.0452 - accuracy: 0.9851 - val_loss: 0.0486 - val_accuracy: 0.9862\n",
            "Epoch 5/10\n",
            "375/375 [==============================] - 1s 4ms/step - loss: 0.0375 - accuracy: 0.9878 - val_loss: 0.0459 - val_accuracy: 0.9868\n",
            "Epoch 6/10\n",
            "375/375 [==============================] - 1s 4ms/step - loss: 0.0313 - accuracy: 0.9895 - val_loss: 0.0435 - val_accuracy: 0.9872\n",
            "Epoch 7/10\n",
            "375/375 [==============================] - 1s 4ms/step - loss: 0.0251 - accuracy: 0.9919 - val_loss: 0.0465 - val_accuracy: 0.9860\n",
            "Epoch 8/10\n",
            "375/375 [==============================] - 1s 4ms/step - loss: 0.0231 - accuracy: 0.9921 - val_loss: 0.0447 - val_accuracy: 0.9884\n",
            "Epoch 9/10\n",
            "375/375 [==============================] - 1s 4ms/step - loss: 0.0204 - accuracy: 0.9929 - val_loss: 0.0549 - val_accuracy: 0.9869\n",
            "Epoch 10/10\n",
            "375/375 [==============================] - 1s 4ms/step - loss: 0.0194 - accuracy: 0.9932 - val_loss: 0.0458 - val_accuracy: 0.9881\n",
            "Epoch 1/10\n",
            "375/375 [==============================] - 2s 4ms/step - loss: 0.5546 - accuracy: 0.8236 - val_loss: 0.2093 - val_accuracy: 0.9397\n",
            "Epoch 2/10\n",
            "375/375 [==============================] - 1s 4ms/step - loss: 0.2480 - accuracy: 0.9231 - val_loss: 0.1264 - val_accuracy: 0.9634\n",
            "Epoch 3/10\n",
            "375/375 [==============================] - 1s 3ms/step - loss: 0.1789 - accuracy: 0.9436 - val_loss: 0.1007 - val_accuracy: 0.9708\n",
            "Epoch 4/10\n",
            "375/375 [==============================] - 1s 4ms/step - loss: 0.1442 - accuracy: 0.9544 - val_loss: 0.0877 - val_accuracy: 0.9747\n",
            "Epoch 5/10\n",
            "375/375 [==============================] - 1s 4ms/step - loss: 0.1242 - accuracy: 0.9611 - val_loss: 0.0785 - val_accuracy: 0.9767\n",
            "Epoch 6/10\n",
            "375/375 [==============================] - 1s 3ms/step - loss: 0.1101 - accuracy: 0.9649 - val_loss: 0.0723 - val_accuracy: 0.9781\n",
            "Epoch 7/10\n",
            "375/375 [==============================] - 1s 3ms/step - loss: 0.1004 - accuracy: 0.9670 - val_loss: 0.0726 - val_accuracy: 0.9788\n",
            "Epoch 8/10\n",
            "375/375 [==============================] - 1s 4ms/step - loss: 0.0895 - accuracy: 0.9712 - val_loss: 0.0642 - val_accuracy: 0.9810\n",
            "Epoch 9/10\n",
            "375/375 [==============================] - 1s 3ms/step - loss: 0.0840 - accuracy: 0.9721 - val_loss: 0.0593 - val_accuracy: 0.9827\n",
            "Epoch 10/10\n",
            "375/375 [==============================] - 1s 4ms/step - loss: 0.0789 - accuracy: 0.9750 - val_loss: 0.0595 - val_accuracy: 0.9827\n",
            "Epoch 1/10\n",
            "375/375 [==============================] - 2s 4ms/step - loss: 0.5361 - accuracy: 0.8294 - val_loss: 0.1773 - val_accuracy: 0.9488\n",
            "Epoch 2/10\n",
            "375/375 [==============================] - 1s 3ms/step - loss: 0.2493 - accuracy: 0.9226 - val_loss: 0.1210 - val_accuracy: 0.9633\n",
            "Epoch 3/10\n",
            "375/375 [==============================] - 1s 4ms/step - loss: 0.1867 - accuracy: 0.9415 - val_loss: 0.0986 - val_accuracy: 0.9713\n",
            "Epoch 4/10\n",
            "375/375 [==============================] - 1s 3ms/step - loss: 0.1553 - accuracy: 0.9509 - val_loss: 0.0862 - val_accuracy: 0.9736\n",
            "Epoch 5/10\n",
            "375/375 [==============================] - 1s 4ms/step - loss: 0.1358 - accuracy: 0.9575 - val_loss: 0.0776 - val_accuracy: 0.9767\n",
            "Epoch 6/10\n",
            "375/375 [==============================] - 1s 3ms/step - loss: 0.1205 - accuracy: 0.9620 - val_loss: 0.0741 - val_accuracy: 0.9769\n",
            "Epoch 7/10\n",
            "375/375 [==============================] - 1s 3ms/step - loss: 0.1135 - accuracy: 0.9639 - val_loss: 0.0708 - val_accuracy: 0.9783\n",
            "Epoch 8/10\n",
            "375/375 [==============================] - 1s 4ms/step - loss: 0.1027 - accuracy: 0.9665 - val_loss: 0.0653 - val_accuracy: 0.9803\n",
            "Epoch 9/10\n",
            "375/375 [==============================] - 1s 3ms/step - loss: 0.0979 - accuracy: 0.9679 - val_loss: 0.0654 - val_accuracy: 0.9809\n",
            "Epoch 10/10\n",
            "375/375 [==============================] - 1s 4ms/step - loss: 0.0912 - accuracy: 0.9696 - val_loss: 0.0604 - val_accuracy: 0.9812\n",
            "Epoch 1/10\n",
            "375/375 [==============================] - 2s 4ms/step - loss: 0.2307 - accuracy: 0.9291 - val_loss: 0.0676 - val_accuracy: 0.9794\n",
            "Epoch 2/10\n",
            "375/375 [==============================] - 2s 4ms/step - loss: 0.0786 - accuracy: 0.9752 - val_loss: 0.0503 - val_accuracy: 0.9852\n",
            "Epoch 3/10\n",
            "375/375 [==============================] - 2s 4ms/step - loss: 0.0570 - accuracy: 0.9821 - val_loss: 0.0539 - val_accuracy: 0.9836\n",
            "Epoch 4/10\n",
            "375/375 [==============================] - 1s 4ms/step - loss: 0.0430 - accuracy: 0.9856 - val_loss: 0.0445 - val_accuracy: 0.9863\n",
            "Epoch 5/10\n",
            "375/375 [==============================] - 2s 4ms/step - loss: 0.0343 - accuracy: 0.9884 - val_loss: 0.0480 - val_accuracy: 0.9859\n",
            "Epoch 6/10\n",
            "375/375 [==============================] - 2s 4ms/step - loss: 0.0281 - accuracy: 0.9904 - val_loss: 0.0366 - val_accuracy: 0.9897\n",
            "Epoch 7/10\n",
            "375/375 [==============================] - 2s 4ms/step - loss: 0.0251 - accuracy: 0.9913 - val_loss: 0.0387 - val_accuracy: 0.9886\n",
            "Epoch 8/10\n",
            "375/375 [==============================] - 1s 4ms/step - loss: 0.0234 - accuracy: 0.9922 - val_loss: 0.0430 - val_accuracy: 0.9888\n",
            "Epoch 9/10\n",
            "375/375 [==============================] - 1s 4ms/step - loss: 0.0194 - accuracy: 0.9934 - val_loss: 0.0436 - val_accuracy: 0.9880\n",
            "Epoch 10/10\n",
            "375/375 [==============================] - 2s 4ms/step - loss: 0.0181 - accuracy: 0.9940 - val_loss: 0.0371 - val_accuracy: 0.9902\n",
            "Epoch 1/10\n",
            "375/375 [==============================] - 2s 4ms/step - loss: 0.3993 - accuracy: 0.8745 - val_loss: 0.1190 - val_accuracy: 0.9653\n",
            "Epoch 2/10\n",
            "375/375 [==============================] - 1s 3ms/step - loss: 0.1467 - accuracy: 0.9550 - val_loss: 0.0807 - val_accuracy: 0.9758\n",
            "Epoch 3/10\n",
            "375/375 [==============================] - 1s 4ms/step - loss: 0.1037 - accuracy: 0.9675 - val_loss: 0.0691 - val_accuracy: 0.9802\n",
            "Epoch 4/10\n",
            "375/375 [==============================] - 1s 4ms/step - loss: 0.0848 - accuracy: 0.9736 - val_loss: 0.0556 - val_accuracy: 0.9843\n",
            "Epoch 5/10\n",
            "375/375 [==============================] - 1s 3ms/step - loss: 0.0701 - accuracy: 0.9777 - val_loss: 0.0555 - val_accuracy: 0.9838\n",
            "Epoch 6/10\n",
            "375/375 [==============================] - 1s 4ms/step - loss: 0.0623 - accuracy: 0.9796 - val_loss: 0.0516 - val_accuracy: 0.9850\n",
            "Epoch 7/10\n",
            "375/375 [==============================] - 1s 4ms/step - loss: 0.0566 - accuracy: 0.9814 - val_loss: 0.0516 - val_accuracy: 0.9839\n",
            "Epoch 8/10\n",
            "375/375 [==============================] - 1s 3ms/step - loss: 0.0519 - accuracy: 0.9824 - val_loss: 0.0451 - val_accuracy: 0.9867\n",
            "Epoch 9/10\n",
            "375/375 [==============================] - 1s 3ms/step - loss: 0.0472 - accuracy: 0.9843 - val_loss: 0.0475 - val_accuracy: 0.9867\n",
            "Epoch 10/10\n",
            "375/375 [==============================] - 1s 4ms/step - loss: 0.0449 - accuracy: 0.9850 - val_loss: 0.0516 - val_accuracy: 0.9852\n",
            "Epoch 1/10\n",
            "375/375 [==============================] - 2s 4ms/step - loss: 0.4956 - accuracy: 0.8424 - val_loss: 0.1718 - val_accuracy: 0.9509\n",
            "Epoch 2/10\n",
            "375/375 [==============================] - 1s 3ms/step - loss: 0.2473 - accuracy: 0.9216 - val_loss: 0.1185 - val_accuracy: 0.9650\n",
            "Epoch 3/10\n",
            "375/375 [==============================] - 1s 3ms/step - loss: 0.1833 - accuracy: 0.9430 - val_loss: 0.0912 - val_accuracy: 0.9732\n",
            "Epoch 4/10\n",
            "375/375 [==============================] - 1s 3ms/step - loss: 0.1471 - accuracy: 0.9549 - val_loss: 0.0765 - val_accuracy: 0.9764\n",
            "Epoch 5/10\n",
            "375/375 [==============================] - 1s 4ms/step - loss: 0.1260 - accuracy: 0.9604 - val_loss: 0.0683 - val_accuracy: 0.9792\n",
            "Epoch 6/10\n",
            "375/375 [==============================] - 1s 3ms/step - loss: 0.1080 - accuracy: 0.9651 - val_loss: 0.0647 - val_accuracy: 0.9809\n",
            "Epoch 7/10\n",
            "375/375 [==============================] - 1s 4ms/step - loss: 0.1006 - accuracy: 0.9680 - val_loss: 0.0601 - val_accuracy: 0.9822\n",
            "Epoch 8/10\n",
            "375/375 [==============================] - 1s 3ms/step - loss: 0.0924 - accuracy: 0.9705 - val_loss: 0.0566 - val_accuracy: 0.9842\n",
            "Epoch 9/10\n",
            "375/375 [==============================] - 1s 4ms/step - loss: 0.0864 - accuracy: 0.9729 - val_loss: 0.0555 - val_accuracy: 0.9837\n",
            "Epoch 10/10\n",
            "375/375 [==============================] - 1s 4ms/step - loss: 0.0804 - accuracy: 0.9734 - val_loss: 0.0551 - val_accuracy: 0.9833\n",
            "Epoch 1/10\n",
            "375/375 [==============================] - 3s 5ms/step - loss: 0.2068 - accuracy: 0.9371 - val_loss: 0.0618 - val_accuracy: 0.9825\n",
            "Epoch 2/10\n",
            "375/375 [==============================] - 2s 5ms/step - loss: 0.0640 - accuracy: 0.9797 - val_loss: 0.0444 - val_accuracy: 0.9872\n",
            "Epoch 3/10\n",
            "375/375 [==============================] - 2s 5ms/step - loss: 0.0453 - accuracy: 0.9852 - val_loss: 0.0392 - val_accuracy: 0.9890\n",
            "Epoch 4/10\n",
            "375/375 [==============================] - 2s 5ms/step - loss: 0.0348 - accuracy: 0.9889 - val_loss: 0.0369 - val_accuracy: 0.9893\n",
            "Epoch 5/10\n",
            "375/375 [==============================] - 2s 5ms/step - loss: 0.0286 - accuracy: 0.9907 - val_loss: 0.0375 - val_accuracy: 0.9884\n",
            "Epoch 6/10\n",
            "375/375 [==============================] - 2s 5ms/step - loss: 0.0230 - accuracy: 0.9923 - val_loss: 0.0384 - val_accuracy: 0.9896\n",
            "Epoch 7/10\n",
            "375/375 [==============================] - 2s 5ms/step - loss: 0.0209 - accuracy: 0.9926 - val_loss: 0.0354 - val_accuracy: 0.9901\n",
            "Epoch 8/10\n",
            "375/375 [==============================] - 2s 5ms/step - loss: 0.0178 - accuracy: 0.9941 - val_loss: 0.0346 - val_accuracy: 0.9911\n",
            "Epoch 9/10\n",
            "375/375 [==============================] - 2s 5ms/step - loss: 0.0173 - accuracy: 0.9939 - val_loss: 0.0368 - val_accuracy: 0.9908\n",
            "Epoch 10/10\n",
            "375/375 [==============================] - 2s 5ms/step - loss: 0.0147 - accuracy: 0.9952 - val_loss: 0.0325 - val_accuracy: 0.9908\n",
            "Epoch 1/10\n",
            "375/375 [==============================] - 2s 4ms/step - loss: 0.3678 - accuracy: 0.8843 - val_loss: 0.1058 - val_accuracy: 0.9674\n",
            "Epoch 2/10\n",
            "375/375 [==============================] - 2s 4ms/step - loss: 0.1331 - accuracy: 0.9573 - val_loss: 0.0709 - val_accuracy: 0.9793\n",
            "Epoch 3/10\n",
            "375/375 [==============================] - 2s 4ms/step - loss: 0.0992 - accuracy: 0.9686 - val_loss: 0.0653 - val_accuracy: 0.9813\n",
            "Epoch 4/10\n",
            "375/375 [==============================] - 2s 4ms/step - loss: 0.0833 - accuracy: 0.9735 - val_loss: 0.0545 - val_accuracy: 0.9833\n",
            "Epoch 5/10\n",
            "375/375 [==============================] - 1s 4ms/step - loss: 0.0688 - accuracy: 0.9781 - val_loss: 0.0485 - val_accuracy: 0.9849\n",
            "Epoch 6/10\n",
            "375/375 [==============================] - 1s 4ms/step - loss: 0.0597 - accuracy: 0.9807 - val_loss: 0.0509 - val_accuracy: 0.9855\n",
            "Epoch 7/10\n",
            "375/375 [==============================] - 1s 4ms/step - loss: 0.0532 - accuracy: 0.9823 - val_loss: 0.0459 - val_accuracy: 0.9871\n",
            "Epoch 8/10\n",
            "375/375 [==============================] - 1s 4ms/step - loss: 0.0469 - accuracy: 0.9843 - val_loss: 0.0441 - val_accuracy: 0.9879\n",
            "Epoch 9/10\n",
            "375/375 [==============================] - 2s 4ms/step - loss: 0.0457 - accuracy: 0.9851 - val_loss: 0.0451 - val_accuracy: 0.9867\n",
            "Epoch 10/10\n",
            "375/375 [==============================] - 2s 4ms/step - loss: 0.0416 - accuracy: 0.9866 - val_loss: 0.0466 - val_accuracy: 0.9884\n",
            "Epoch 1/10\n",
            "375/375 [==============================] - 2s 4ms/step - loss: 0.4648 - accuracy: 0.8546 - val_loss: 0.1322 - val_accuracy: 0.9613\n",
            "Epoch 2/10\n",
            "375/375 [==============================] - 1s 4ms/step - loss: 0.1841 - accuracy: 0.9411 - val_loss: 0.0862 - val_accuracy: 0.9729\n",
            "Epoch 3/10\n",
            "375/375 [==============================] - 2s 4ms/step - loss: 0.1347 - accuracy: 0.9571 - val_loss: 0.0730 - val_accuracy: 0.9776\n",
            "Epoch 4/10\n",
            "375/375 [==============================] - 1s 4ms/step - loss: 0.1145 - accuracy: 0.9636 - val_loss: 0.0668 - val_accuracy: 0.9787\n",
            "Epoch 5/10\n",
            "375/375 [==============================] - 2s 4ms/step - loss: 0.1019 - accuracy: 0.9674 - val_loss: 0.0576 - val_accuracy: 0.9818\n",
            "Epoch 6/10\n",
            "375/375 [==============================] - 1s 4ms/step - loss: 0.0926 - accuracy: 0.9700 - val_loss: 0.0578 - val_accuracy: 0.9823\n",
            "Epoch 7/10\n",
            "375/375 [==============================] - 1s 4ms/step - loss: 0.0847 - accuracy: 0.9724 - val_loss: 0.0529 - val_accuracy: 0.9841\n",
            "Epoch 8/10\n",
            "375/375 [==============================] - 2s 4ms/step - loss: 0.0777 - accuracy: 0.9753 - val_loss: 0.0524 - val_accuracy: 0.9832\n",
            "Epoch 9/10\n",
            "375/375 [==============================] - 2s 4ms/step - loss: 0.0728 - accuracy: 0.9765 - val_loss: 0.0507 - val_accuracy: 0.9844\n",
            "Epoch 10/10\n",
            "375/375 [==============================] - 2s 4ms/step - loss: 0.0695 - accuracy: 0.9772 - val_loss: 0.0506 - val_accuracy: 0.9850\n",
            "Epoch 1/10\n",
            "375/375 [==============================] - 4s 8ms/step - loss: 0.2287 - accuracy: 0.9306 - val_loss: 0.1275 - val_accuracy: 0.9609\n",
            "Epoch 2/10\n",
            "375/375 [==============================] - 3s 7ms/step - loss: 0.1059 - accuracy: 0.9675 - val_loss: 0.0915 - val_accuracy: 0.9733\n",
            "Epoch 3/10\n",
            "375/375 [==============================] - 3s 7ms/step - loss: 0.0900 - accuracy: 0.9720 - val_loss: 0.0788 - val_accuracy: 0.9775\n",
            "Epoch 4/10\n",
            "375/375 [==============================] - 3s 7ms/step - loss: 0.0775 - accuracy: 0.9757 - val_loss: 0.0752 - val_accuracy: 0.9780\n",
            "Epoch 5/10\n",
            "375/375 [==============================] - 3s 7ms/step - loss: 0.0707 - accuracy: 0.9773 - val_loss: 0.0997 - val_accuracy: 0.9723\n",
            "Epoch 6/10\n",
            "375/375 [==============================] - 3s 7ms/step - loss: 0.0641 - accuracy: 0.9794 - val_loss: 0.0851 - val_accuracy: 0.9764\n",
            "Epoch 7/10\n",
            "375/375 [==============================] - 3s 7ms/step - loss: 0.0652 - accuracy: 0.9789 - val_loss: 0.0960 - val_accuracy: 0.9753\n",
            "Epoch 8/10\n",
            "375/375 [==============================] - 3s 7ms/step - loss: 0.0596 - accuracy: 0.9804 - val_loss: 0.0891 - val_accuracy: 0.9774\n",
            "Epoch 9/10\n",
            "375/375 [==============================] - 3s 7ms/step - loss: 0.0569 - accuracy: 0.9809 - val_loss: 0.0829 - val_accuracy: 0.9783\n",
            "Epoch 10/10\n",
            "375/375 [==============================] - 3s 7ms/step - loss: 0.0523 - accuracy: 0.9822 - val_loss: 0.0827 - val_accuracy: 0.9783\n",
            "Epoch 1/10\n",
            "4800/4800 [==============================] - 18s 4ms/step - loss: 0.1333 - accuracy: 0.9602 - val_loss: 0.0531 - val_accuracy: 0.9832\n",
            "Epoch 2/10\n",
            "4800/4800 [==============================] - 16s 3ms/step - loss: 0.0568 - accuracy: 0.9817 - val_loss: 0.0477 - val_accuracy: 0.9865\n",
            "Epoch 3/10\n",
            "4800/4800 [==============================] - 16s 3ms/step - loss: 0.0381 - accuracy: 0.9881 - val_loss: 0.0548 - val_accuracy: 0.9838\n",
            "Epoch 4/10\n",
            "4800/4800 [==============================] - 17s 4ms/step - loss: 0.0306 - accuracy: 0.9903 - val_loss: 0.0429 - val_accuracy: 0.9897\n",
            "Epoch 5/10\n",
            "4800/4800 [==============================] - 16s 3ms/step - loss: 0.0253 - accuracy: 0.9919 - val_loss: 0.0403 - val_accuracy: 0.9902\n",
            "Epoch 6/10\n",
            "4800/4800 [==============================] - 17s 3ms/step - loss: 0.0219 - accuracy: 0.9929 - val_loss: 0.0408 - val_accuracy: 0.9906\n",
            "Epoch 7/10\n",
            "4800/4800 [==============================] - 16s 3ms/step - loss: 0.0165 - accuracy: 0.9947 - val_loss: 0.0404 - val_accuracy: 0.9904\n",
            "Epoch 8/10\n",
            "4800/4800 [==============================] - 16s 3ms/step - loss: 0.0148 - accuracy: 0.9952 - val_loss: 0.0421 - val_accuracy: 0.9901\n",
            "Epoch 9/10\n",
            "4800/4800 [==============================] - 16s 3ms/step - loss: 0.0142 - accuracy: 0.9957 - val_loss: 0.0463 - val_accuracy: 0.9883\n",
            "Epoch 10/10\n",
            "4800/4800 [==============================] - 17s 4ms/step - loss: 0.0127 - accuracy: 0.9960 - val_loss: 0.0375 - val_accuracy: 0.9912\n",
            "Epoch 1/10\n",
            "480/480 [==============================] - 3s 6ms/step - loss: 0.1802 - accuracy: 0.9446 - val_loss: 0.0571 - val_accuracy: 0.9830\n",
            "Epoch 2/10\n",
            "480/480 [==============================] - 3s 6ms/step - loss: 0.0562 - accuracy: 0.9830 - val_loss: 0.0463 - val_accuracy: 0.9862\n",
            "Epoch 3/10\n",
            "480/480 [==============================] - 3s 6ms/step - loss: 0.0378 - accuracy: 0.9873 - val_loss: 0.0363 - val_accuracy: 0.9895\n",
            "Epoch 4/10\n",
            "480/480 [==============================] - 3s 5ms/step - loss: 0.0283 - accuracy: 0.9910 - val_loss: 0.0373 - val_accuracy: 0.9893\n",
            "Epoch 5/10\n",
            "480/480 [==============================] - 3s 6ms/step - loss: 0.0241 - accuracy: 0.9924 - val_loss: 0.0416 - val_accuracy: 0.9883\n",
            "Epoch 6/10\n",
            "480/480 [==============================] - 3s 6ms/step - loss: 0.0198 - accuracy: 0.9931 - val_loss: 0.0461 - val_accuracy: 0.9893\n",
            "Epoch 7/10\n",
            "480/480 [==============================] - 3s 6ms/step - loss: 0.0164 - accuracy: 0.9944 - val_loss: 0.0401 - val_accuracy: 0.9904\n",
            "Epoch 8/10\n",
            "480/480 [==============================] - 3s 6ms/step - loss: 0.0145 - accuracy: 0.9952 - val_loss: 0.0408 - val_accuracy: 0.9901\n",
            "Epoch 9/10\n",
            "480/480 [==============================] - 3s 6ms/step - loss: 0.0147 - accuracy: 0.9950 - val_loss: 0.0402 - val_accuracy: 0.9908\n",
            "Epoch 10/10\n",
            "480/480 [==============================] - 3s 6ms/step - loss: 0.0111 - accuracy: 0.9962 - val_loss: 0.0390 - val_accuracy: 0.9899\n",
            "Epoch 1/10\n",
            "4/4 [==============================] - 10s 1s/step - loss: 1.9129 - accuracy: 0.4172 - val_loss: 0.8089 - val_accuracy: 0.8319\n",
            "Epoch 2/10\n",
            "4/4 [==============================] - 2s 504ms/step - loss: 0.7262 - accuracy: 0.7979 - val_loss: 0.9355 - val_accuracy: 0.8572\n",
            "Epoch 3/10\n",
            "4/4 [==============================] - 2s 503ms/step - loss: 0.4602 - accuracy: 0.8553 - val_loss: 0.7568 - val_accuracy: 0.8939\n",
            "Epoch 4/10\n",
            "4/4 [==============================] - 2s 505ms/step - loss: 0.3669 - accuracy: 0.8949 - val_loss: 0.6009 - val_accuracy: 0.9071\n",
            "Epoch 5/10\n",
            "4/4 [==============================] - 2s 504ms/step - loss: 0.2902 - accuracy: 0.9155 - val_loss: 0.4448 - val_accuracy: 0.9155\n",
            "Epoch 6/10\n",
            "4/4 [==============================] - 2s 506ms/step - loss: 0.2340 - accuracy: 0.9322 - val_loss: 0.3113 - val_accuracy: 0.9290\n",
            "Epoch 7/10\n",
            "4/4 [==============================] - 2s 509ms/step - loss: 0.2021 - accuracy: 0.9405 - val_loss: 0.2509 - val_accuracy: 0.9364\n",
            "Epoch 8/10\n",
            "4/4 [==============================] - 2s 510ms/step - loss: 0.1727 - accuracy: 0.9490 - val_loss: 0.2431 - val_accuracy: 0.9381\n",
            "Epoch 9/10\n",
            "4/4 [==============================] - 2s 508ms/step - loss: 0.1517 - accuracy: 0.9543 - val_loss: 0.1935 - val_accuracy: 0.9510\n",
            "Epoch 10/10\n",
            "4/4 [==============================] - 2s 508ms/step - loss: 0.1331 - accuracy: 0.9595 - val_loss: 0.1764 - val_accuracy: 0.9553\n"
          ],
          "name": "stdout"
        }
      ]
    },
    {
      "cell_type": "code",
      "metadata": {
        "id": "YCQjzvQRkPRE",
        "colab": {
          "base_uri": "https://localhost:8080/"
        },
        "outputId": "6db59929-562d-47ad-ba48-b7d50476a058"
      },
      "source": [
        "# чистим оперативную память\n",
        "import gc    \n",
        "gc.collect()"
      ],
      "execution_count": null,
      "outputs": [
        {
          "output_type": "execute_result",
          "data": {
            "text/plain": [
              "88"
            ]
          },
          "metadata": {
            "tags": []
          },
          "execution_count": 17
        }
      ]
    },
    {
      "cell_type": "code",
      "metadata": {
        "id": "rn9e4DDhsXB9",
        "colab": {
          "base_uri": "https://localhost:8080/",
          "height": 454
        },
        "outputId": "e26e7264-bed8-44da-bff1-2b5da0d12f20"
      },
      "source": [
        "# 3.2 batch_size=48000\n",
        "\n",
        "model = Sequential()\n",
        "\n",
        "model.add(BatchNormalization(input_shape=(28, 28, 1)))\n",
        "model.add(Conv2D(32, (3, 3), padding='same', activation='relu'))\n",
        "model.add(Conv2D(32, (3, 3), padding='same', activation='relu'))\n",
        "model.add(MaxPooling2D(pool_size=(2, 2)))\n",
        "model.add(Dropout(0.25))\n",
        "\n",
        "model.add(Flatten())\n",
        "model.add(Dense(256, activation='relu'))\n",
        "model.add(Dropout(0.25))\n",
        "model.add(Dense(10, activation='softmax'))\n",
        "\n",
        "# Компилируем сеть\n",
        "model.compile(loss=\"categorical_crossentropy\", optimizer=\"adam\", metrics=[\"accuracy\"])\n",
        "\n",
        "# Обучаем сеть \n",
        "history = model.fit(x_train, \n",
        "                    y_train, \n",
        "                    batch_size=48000, \n",
        "                    epochs=10,\n",
        "                    validation_split=0.2,\n",
        "                    verbose=1)"
      ],
      "execution_count": null,
      "outputs": [
        {
          "output_type": "stream",
          "text": [
            "Epoch 1/10\n"
          ],
          "name": "stdout"
        },
        {
          "output_type": "error",
          "ename": "ResourceExhaustedError",
          "evalue": "ignored",
          "traceback": [
            "\u001b[0;31m---------------------------------------------------------------------------\u001b[0m",
            "\u001b[0;31mResourceExhaustedError\u001b[0m                    Traceback (most recent call last)",
            "\u001b[0;32m<ipython-input-13-7f5898582daf>\u001b[0m in \u001b[0;36m<module>\u001b[0;34m()\u001b[0m\n\u001b[1;32m     23\u001b[0m                     \u001b[0mepochs\u001b[0m\u001b[0;34m=\u001b[0m\u001b[0;36m10\u001b[0m\u001b[0;34m,\u001b[0m\u001b[0;34m\u001b[0m\u001b[0;34m\u001b[0m\u001b[0m\n\u001b[1;32m     24\u001b[0m                     \u001b[0mvalidation_split\u001b[0m\u001b[0;34m=\u001b[0m\u001b[0;36m0.2\u001b[0m\u001b[0;34m,\u001b[0m\u001b[0;34m\u001b[0m\u001b[0;34m\u001b[0m\u001b[0m\n\u001b[0;32m---> 25\u001b[0;31m                     verbose=1)\n\u001b[0m",
            "\u001b[0;32m/usr/local/lib/python3.7/dist-packages/tensorflow/python/keras/engine/training.py\u001b[0m in \u001b[0;36mfit\u001b[0;34m(self, x, y, batch_size, epochs, verbose, callbacks, validation_split, validation_data, shuffle, class_weight, sample_weight, initial_epoch, steps_per_epoch, validation_steps, validation_batch_size, validation_freq, max_queue_size, workers, use_multiprocessing)\u001b[0m\n\u001b[1;32m   1181\u001b[0m                 _r=1):\n\u001b[1;32m   1182\u001b[0m               \u001b[0mcallbacks\u001b[0m\u001b[0;34m.\u001b[0m\u001b[0mon_train_batch_begin\u001b[0m\u001b[0;34m(\u001b[0m\u001b[0mstep\u001b[0m\u001b[0;34m)\u001b[0m\u001b[0;34m\u001b[0m\u001b[0;34m\u001b[0m\u001b[0m\n\u001b[0;32m-> 1183\u001b[0;31m               \u001b[0mtmp_logs\u001b[0m \u001b[0;34m=\u001b[0m \u001b[0mself\u001b[0m\u001b[0;34m.\u001b[0m\u001b[0mtrain_function\u001b[0m\u001b[0;34m(\u001b[0m\u001b[0miterator\u001b[0m\u001b[0;34m)\u001b[0m\u001b[0;34m\u001b[0m\u001b[0;34m\u001b[0m\u001b[0m\n\u001b[0m\u001b[1;32m   1184\u001b[0m               \u001b[0;32mif\u001b[0m \u001b[0mdata_handler\u001b[0m\u001b[0;34m.\u001b[0m\u001b[0mshould_sync\u001b[0m\u001b[0;34m:\u001b[0m\u001b[0;34m\u001b[0m\u001b[0;34m\u001b[0m\u001b[0m\n\u001b[1;32m   1185\u001b[0m                 \u001b[0mcontext\u001b[0m\u001b[0;34m.\u001b[0m\u001b[0masync_wait\u001b[0m\u001b[0;34m(\u001b[0m\u001b[0;34m)\u001b[0m\u001b[0;34m\u001b[0m\u001b[0;34m\u001b[0m\u001b[0m\n",
            "\u001b[0;32m/usr/local/lib/python3.7/dist-packages/tensorflow/python/eager/def_function.py\u001b[0m in \u001b[0;36m__call__\u001b[0;34m(self, *args, **kwds)\u001b[0m\n\u001b[1;32m    887\u001b[0m \u001b[0;34m\u001b[0m\u001b[0m\n\u001b[1;32m    888\u001b[0m       \u001b[0;32mwith\u001b[0m \u001b[0mOptionalXlaContext\u001b[0m\u001b[0;34m(\u001b[0m\u001b[0mself\u001b[0m\u001b[0;34m.\u001b[0m\u001b[0m_jit_compile\u001b[0m\u001b[0;34m)\u001b[0m\u001b[0;34m:\u001b[0m\u001b[0;34m\u001b[0m\u001b[0;34m\u001b[0m\u001b[0m\n\u001b[0;32m--> 889\u001b[0;31m         \u001b[0mresult\u001b[0m \u001b[0;34m=\u001b[0m \u001b[0mself\u001b[0m\u001b[0;34m.\u001b[0m\u001b[0m_call\u001b[0m\u001b[0;34m(\u001b[0m\u001b[0;34m*\u001b[0m\u001b[0margs\u001b[0m\u001b[0;34m,\u001b[0m \u001b[0;34m**\u001b[0m\u001b[0mkwds\u001b[0m\u001b[0;34m)\u001b[0m\u001b[0;34m\u001b[0m\u001b[0;34m\u001b[0m\u001b[0m\n\u001b[0m\u001b[1;32m    890\u001b[0m \u001b[0;34m\u001b[0m\u001b[0m\n\u001b[1;32m    891\u001b[0m       \u001b[0mnew_tracing_count\u001b[0m \u001b[0;34m=\u001b[0m \u001b[0mself\u001b[0m\u001b[0;34m.\u001b[0m\u001b[0mexperimental_get_tracing_count\u001b[0m\u001b[0;34m(\u001b[0m\u001b[0;34m)\u001b[0m\u001b[0;34m\u001b[0m\u001b[0;34m\u001b[0m\u001b[0m\n",
            "\u001b[0;32m/usr/local/lib/python3.7/dist-packages/tensorflow/python/eager/def_function.py\u001b[0m in \u001b[0;36m_call\u001b[0;34m(self, *args, **kwds)\u001b[0m\n\u001b[1;32m    948\u001b[0m         \u001b[0;31m# Lifting succeeded, so variables are initialized and we can run the\u001b[0m\u001b[0;34m\u001b[0m\u001b[0;34m\u001b[0m\u001b[0;34m\u001b[0m\u001b[0m\n\u001b[1;32m    949\u001b[0m         \u001b[0;31m# stateless function.\u001b[0m\u001b[0;34m\u001b[0m\u001b[0;34m\u001b[0m\u001b[0;34m\u001b[0m\u001b[0m\n\u001b[0;32m--> 950\u001b[0;31m         \u001b[0;32mreturn\u001b[0m \u001b[0mself\u001b[0m\u001b[0;34m.\u001b[0m\u001b[0m_stateless_fn\u001b[0m\u001b[0;34m(\u001b[0m\u001b[0;34m*\u001b[0m\u001b[0margs\u001b[0m\u001b[0;34m,\u001b[0m \u001b[0;34m**\u001b[0m\u001b[0mkwds\u001b[0m\u001b[0;34m)\u001b[0m\u001b[0;34m\u001b[0m\u001b[0;34m\u001b[0m\u001b[0m\n\u001b[0m\u001b[1;32m    951\u001b[0m     \u001b[0;32melse\u001b[0m\u001b[0;34m:\u001b[0m\u001b[0;34m\u001b[0m\u001b[0;34m\u001b[0m\u001b[0m\n\u001b[1;32m    952\u001b[0m       \u001b[0m_\u001b[0m\u001b[0;34m,\u001b[0m \u001b[0m_\u001b[0m\u001b[0;34m,\u001b[0m \u001b[0m_\u001b[0m\u001b[0;34m,\u001b[0m \u001b[0mfiltered_flat_args\u001b[0m \u001b[0;34m=\u001b[0m\u001b[0;31m \u001b[0m\u001b[0;31m\\\u001b[0m\u001b[0;34m\u001b[0m\u001b[0;34m\u001b[0m\u001b[0m\n",
            "\u001b[0;32m/usr/local/lib/python3.7/dist-packages/tensorflow/python/eager/function.py\u001b[0m in \u001b[0;36m__call__\u001b[0;34m(self, *args, **kwargs)\u001b[0m\n\u001b[1;32m   3022\u001b[0m        filtered_flat_args) = self._maybe_define_function(args, kwargs)\n\u001b[1;32m   3023\u001b[0m     return graph_function._call_flat(\n\u001b[0;32m-> 3024\u001b[0;31m         filtered_flat_args, captured_inputs=graph_function.captured_inputs)  # pylint: disable=protected-access\n\u001b[0m\u001b[1;32m   3025\u001b[0m \u001b[0;34m\u001b[0m\u001b[0m\n\u001b[1;32m   3026\u001b[0m   \u001b[0;34m@\u001b[0m\u001b[0mproperty\u001b[0m\u001b[0;34m\u001b[0m\u001b[0;34m\u001b[0m\u001b[0m\n",
            "\u001b[0;32m/usr/local/lib/python3.7/dist-packages/tensorflow/python/eager/function.py\u001b[0m in \u001b[0;36m_call_flat\u001b[0;34m(self, args, captured_inputs, cancellation_manager)\u001b[0m\n\u001b[1;32m   1959\u001b[0m       \u001b[0;31m# No tape is watching; skip to running the function.\u001b[0m\u001b[0;34m\u001b[0m\u001b[0;34m\u001b[0m\u001b[0;34m\u001b[0m\u001b[0m\n\u001b[1;32m   1960\u001b[0m       return self._build_call_outputs(self._inference_function.call(\n\u001b[0;32m-> 1961\u001b[0;31m           ctx, args, cancellation_manager=cancellation_manager))\n\u001b[0m\u001b[1;32m   1962\u001b[0m     forward_backward = self._select_forward_and_backward_functions(\n\u001b[1;32m   1963\u001b[0m         \u001b[0margs\u001b[0m\u001b[0;34m,\u001b[0m\u001b[0;34m\u001b[0m\u001b[0;34m\u001b[0m\u001b[0m\n",
            "\u001b[0;32m/usr/local/lib/python3.7/dist-packages/tensorflow/python/eager/function.py\u001b[0m in \u001b[0;36mcall\u001b[0;34m(self, ctx, args, cancellation_manager)\u001b[0m\n\u001b[1;32m    594\u001b[0m               \u001b[0minputs\u001b[0m\u001b[0;34m=\u001b[0m\u001b[0margs\u001b[0m\u001b[0;34m,\u001b[0m\u001b[0;34m\u001b[0m\u001b[0;34m\u001b[0m\u001b[0m\n\u001b[1;32m    595\u001b[0m               \u001b[0mattrs\u001b[0m\u001b[0;34m=\u001b[0m\u001b[0mattrs\u001b[0m\u001b[0;34m,\u001b[0m\u001b[0;34m\u001b[0m\u001b[0;34m\u001b[0m\u001b[0m\n\u001b[0;32m--> 596\u001b[0;31m               ctx=ctx)\n\u001b[0m\u001b[1;32m    597\u001b[0m         \u001b[0;32melse\u001b[0m\u001b[0;34m:\u001b[0m\u001b[0;34m\u001b[0m\u001b[0;34m\u001b[0m\u001b[0m\n\u001b[1;32m    598\u001b[0m           outputs = execute.execute_with_cancellation(\n",
            "\u001b[0;32m/usr/local/lib/python3.7/dist-packages/tensorflow/python/eager/execute.py\u001b[0m in \u001b[0;36mquick_execute\u001b[0;34m(op_name, num_outputs, inputs, attrs, ctx, name)\u001b[0m\n\u001b[1;32m     58\u001b[0m     \u001b[0mctx\u001b[0m\u001b[0;34m.\u001b[0m\u001b[0mensure_initialized\u001b[0m\u001b[0;34m(\u001b[0m\u001b[0;34m)\u001b[0m\u001b[0;34m\u001b[0m\u001b[0;34m\u001b[0m\u001b[0m\n\u001b[1;32m     59\u001b[0m     tensors = pywrap_tfe.TFE_Py_Execute(ctx._handle, device_name, op_name,\n\u001b[0;32m---> 60\u001b[0;31m                                         inputs, attrs, num_outputs)\n\u001b[0m\u001b[1;32m     61\u001b[0m   \u001b[0;32mexcept\u001b[0m \u001b[0mcore\u001b[0m\u001b[0;34m.\u001b[0m\u001b[0m_NotOkStatusException\u001b[0m \u001b[0;32mas\u001b[0m \u001b[0me\u001b[0m\u001b[0;34m:\u001b[0m\u001b[0;34m\u001b[0m\u001b[0;34m\u001b[0m\u001b[0m\n\u001b[1;32m     62\u001b[0m     \u001b[0;32mif\u001b[0m \u001b[0mname\u001b[0m \u001b[0;32mis\u001b[0m \u001b[0;32mnot\u001b[0m \u001b[0;32mNone\u001b[0m\u001b[0;34m:\u001b[0m\u001b[0;34m\u001b[0m\u001b[0;34m\u001b[0m\u001b[0m\n",
            "\u001b[0;31mResourceExhaustedError\u001b[0m:  OOM when allocating tensor with shape[48000,32,28,28] and type float on /job:localhost/replica:0/task:0/device:GPU:0 by allocator gpu_host_bfc\n\t [[{{node swap_out_gradient_tape/sequential_1/conv2d_2/ReluGrad_1}}]]\nHint: If you want to see a list of allocated tensors when OOM happens, add report_tensor_allocations_upon_oom to RunOptions for current allocation info.\n [Op:__inference_train_function_18691]\n\nFunction call stack:\ntrain_function\n"
          ]
        }
      ]
    },
    {
      "cell_type": "code",
      "metadata": {
        "id": "VcpSk20qjv-V",
        "colab": {
          "base_uri": "https://localhost:8080/",
          "height": 178
        },
        "outputId": "840b1de2-a0de-4d04-fd85-7581b56564a8"
      },
      "source": [
        "df = pd.DataFrame(data, columns = ['filtres', 'activation', 'batch_size','val_accuracy'])\n",
        "df"
      ],
      "execution_count": null,
      "outputs": [
        {
          "output_type": "error",
          "ename": "NameError",
          "evalue": "ignored",
          "traceback": [
            "\u001b[0;31m---------------------------------------------------------------------------\u001b[0m",
            "\u001b[0;31mNameError\u001b[0m                                 Traceback (most recent call last)",
            "\u001b[0;32m<ipython-input-18-eff38688d62d>\u001b[0m in \u001b[0;36m<module>\u001b[0;34m()\u001b[0m\n\u001b[0;32m----> 1\u001b[0;31m \u001b[0mdf\u001b[0m \u001b[0;34m=\u001b[0m \u001b[0mpd\u001b[0m\u001b[0;34m.\u001b[0m\u001b[0mDataFrame\u001b[0m\u001b[0;34m(\u001b[0m\u001b[0mdata\u001b[0m\u001b[0;34m,\u001b[0m \u001b[0mcolumns\u001b[0m \u001b[0;34m=\u001b[0m \u001b[0;34m[\u001b[0m\u001b[0;34m'filtres'\u001b[0m\u001b[0;34m,\u001b[0m \u001b[0;34m'activation'\u001b[0m\u001b[0;34m,\u001b[0m \u001b[0;34m'batch_size'\u001b[0m\u001b[0;34m,\u001b[0m\u001b[0;34m'val_accuracy'\u001b[0m\u001b[0;34m]\u001b[0m\u001b[0;34m)\u001b[0m\u001b[0;34m\u001b[0m\u001b[0;34m\u001b[0m\u001b[0m\n\u001b[0m\u001b[1;32m      2\u001b[0m \u001b[0mdf\u001b[0m\u001b[0;34m\u001b[0m\u001b[0;34m\u001b[0m\u001b[0m\n",
            "\u001b[0;31mNameError\u001b[0m: name 'data' is not defined"
          ]
        }
      ]
    },
    {
      "cell_type": "code",
      "metadata": {
        "id": "S_e89FNwmE8G"
      },
      "source": [
        "# Выводы:"
      ],
      "execution_count": null,
      "outputs": []
    },
    {
      "cell_type": "markdown",
      "metadata": {
        "id": "Au624gLArKWX"
      },
      "source": [
        "# Pro Вариант 2\n",
        "\n",
        "Добейтесь точности 90% на проверочной выборке на базе Cifar10. Размер проверочной выборки - 20%.\n"
      ]
    },
    {
      "cell_type": "code",
      "metadata": {
        "id": "ctFnhwX2OfhH",
        "colab": {
          "base_uri": "https://localhost:8080/",
          "height": 50
        },
        "outputId": "8d15d6b3-396d-49d0-8d69-b6f8afd0574b"
      },
      "source": [
        "#Загружаем cifar10\n",
        "(x_train10, y_train10), (x_test10, y_test10) = cifar10.load_data()\n",
        "\n",
        "# Определяем названия классов по порядку\n",
        "classes = ['самолет', 'автомобиль', 'птица', 'кот', 'олень', 'собака', 'лягушка', 'лошадь', 'корабль', 'грузовик']\n",
        "\n",
        "# Превращаем y_train и y_test в формат one hot encoding\n",
        "y_train10 = utils.to_categorical(y_train10, 10)\n",
        "y_test10 = utils.to_categorical(y_test10, 10)"
      ],
      "execution_count": null,
      "outputs": [
        {
          "output_type": "stream",
          "text": [
            "Downloading data from https://www.cs.toronto.edu/~kriz/cifar-10-python.tar.gz\n",
            "170500096/170498071 [==============================] - 6s 0us/step\n"
          ],
          "name": "stdout"
        }
      ]
    },
    {
      "cell_type": "code",
      "metadata": {
        "id": "2SPFEg-srL8n"
      },
      "source": [
        "def creat_model():\n",
        "    model = Sequential()\n",
        "    # 1\n",
        "    model.add(BatchNormalization(input_shape=(32,32,3)))\n",
        "    model.add(Conv2D(1024, 3, padding='same', activation='relu'))\n",
        "    model.add(Conv2D(1024, 3, padding='same', activation='relu'))\n",
        "    model.add(MaxPooling2D())\n",
        "    model.add(Dropout(0.4))\n",
        "    # 2\n",
        "    model.add(BatchNormalization())\n",
        "    model.add(Conv2D(512, 3, padding='same', activation='relu'))\n",
        "    model.add(Conv2D(512, 3, padding='same', activation='relu'))\n",
        "    model.add(MaxPooling2D())\n",
        "    model.add(Dropout(0.4))\n",
        "    # 3\n",
        "    model.add(BatchNormalization())\n",
        "    model.add(Conv2D(256, 3, padding='same', activation='relu'))\n",
        "    model.add(Conv2D(256, 3, padding='same', activation='relu'))\n",
        "    model.add(MaxPooling2D())\n",
        "    model.add(Dropout(0.4))\n",
        "    # 4\n",
        "    model.add(BatchNormalization())\n",
        "    model.add(Conv2D(128, 3, padding='same', activation='relu'))\n",
        "    model.add(Conv2D(128, 3, padding='same', activation='relu'))\n",
        "    model.add(MaxPooling2D())\n",
        "    model.add(Dropout(0.4))\n",
        "    # 5\n",
        "    model.add(BatchNormalization())\n",
        "    model.add(Conv2D(64, 3, padding='same', activation='relu'))\n",
        "    model.add(Conv2D(64, 3, padding='same', activation='relu'))\n",
        "    model.add(Dropout(0.4))\n",
        "    # 6\n",
        "    model.add(BatchNormalization())\n",
        "    model.add(Conv2D(32, 3, padding='same', activation='relu'))\n",
        "    model.add(Conv2D(32, 3, padding='same', activation='relu'))\n",
        "    model.add(Dropout(0.4))\n",
        "\n",
        "    model.add(Flatten())\n",
        "\n",
        "    model.add(Dense(1024, activation='relu'))\n",
        "    model.add(Dropout(0.2))\n",
        "    model.add(Dense(512, activation='relu'))\n",
        "\n",
        "    # Выходной полносвязный слой\n",
        "    model.add(Dense(10, activation='softmax'))\n",
        "\n",
        "    return model"
      ],
      "execution_count": null,
      "outputs": []
    },
    {
      "cell_type": "code",
      "metadata": {
        "id": "R-CS7PcurNQz"
      },
      "source": [
        "# Генератор изображений\n",
        "datagen_train = ImageDataGenerator(\n",
        "    horizontal_flip=True,\n",
        "    rotation_range=20) \n",
        "\n",
        "# Обучаем модель в пакетном режиме с дополнением данных в реальном времени\n",
        "datagen_train.fit(x_train10)  "
      ],
      "execution_count": null,
      "outputs": []
    },
    {
      "cell_type": "code",
      "metadata": {
        "id": "7R0M5BckrNQ_"
      },
      "source": [
        "batch_size = 128 # Размер батча\n",
        "steps_per_epoch = len(x_train10) // batch_size # Общее количество шагов (партий образцов)"
      ],
      "execution_count": null,
      "outputs": []
    },
    {
      "cell_type": "code",
      "metadata": {
        "id": "4x9kl2aVrNRD",
        "colab": {
          "base_uri": "https://localhost:8080/",
          "height": 1000
        },
        "outputId": "2fe45e99-d1a6-4c19-8a4f-b66e2b7a85d6"
      },
      "source": [
        "# Создаем модель\n",
        "model = creat_model()\n",
        "\n",
        "# Компилируем сеть\n",
        "model.compile(loss='categorical_crossentropy', optimizer=Adam(lr=0.001), metrics=['accuracy'])\n",
        "\n",
        "# Обучаем сеть\n",
        "history = model.fit(datagen_train.flow(x_train10, y_train10, batch_size=batch_size),    # В последних версиях можно указывать fit при работе с генератором\n",
        "                    steps_per_epoch=steps_per_epoch, \n",
        "                    epochs=40, \n",
        "                    validation_data=datagen_train.flow(x_test10, y_test10, batch_size=batch_size))\n",
        "\n",
        "\n",
        "# Отображаем график точности обучения\n",
        "plt.plot(history.history['accuracy'], label='Доля верных ответов на обучающем наборе')\n",
        "plt.plot(history.history['val_accuracy'], label='Доля верных ответов на проверочном наборе')\n",
        "plt.xlabel('Эпоха обучения')\n",
        "plt.ylabel('Доля верных ответов')\n",
        "plt.legend()\n",
        "plt.show()"
      ],
      "execution_count": null,
      "outputs": [
        {
          "output_type": "stream",
          "text": [
            "Epoch 1/40\n",
            "  2/390 [..............................] - ETA: 1:47 - loss: 2.3158 - accuracy: 0.0977WARNING:tensorflow:Callbacks method `on_train_batch_end` is slow compared to the batch time (batch time: 0.1223s vs `on_train_batch_end` time: 0.2142s). Check your callbacks.\n",
            "390/390 [==============================] - 140s 359ms/step - loss: 1.7849 - accuracy: 0.3162 - val_loss: 1.6903 - val_accuracy: 0.3811\n",
            "Epoch 2/40\n",
            "390/390 [==============================] - 136s 350ms/step - loss: 1.3634 - accuracy: 0.5042 - val_loss: 1.3883 - val_accuracy: 0.5332\n",
            "Epoch 3/40\n",
            "390/390 [==============================] - 136s 350ms/step - loss: 1.1339 - accuracy: 0.6040 - val_loss: 1.0341 - val_accuracy: 0.6343\n",
            "Epoch 4/40\n",
            "390/390 [==============================] - 136s 350ms/step - loss: 0.9963 - accuracy: 0.6631 - val_loss: 0.9959 - val_accuracy: 0.6525\n",
            "Epoch 5/40\n",
            "390/390 [==============================] - 136s 349ms/step - loss: 0.8846 - accuracy: 0.7050 - val_loss: 0.8230 - val_accuracy: 0.7241\n",
            "Epoch 6/40\n",
            "390/390 [==============================] - 136s 350ms/step - loss: 0.8006 - accuracy: 0.7356 - val_loss: 0.8368 - val_accuracy: 0.7226\n",
            "Epoch 7/40\n",
            "390/390 [==============================] - 136s 350ms/step - loss: 0.7468 - accuracy: 0.7546 - val_loss: 0.7397 - val_accuracy: 0.7643\n",
            "Epoch 8/40\n",
            "390/390 [==============================] - 136s 350ms/step - loss: 0.6877 - accuracy: 0.7791 - val_loss: 0.6326 - val_accuracy: 0.7914\n",
            "Epoch 9/40\n",
            "390/390 [==============================] - 136s 350ms/step - loss: 0.6438 - accuracy: 0.7923 - val_loss: 0.6210 - val_accuracy: 0.7981\n",
            "Epoch 10/40\n",
            "390/390 [==============================] - 136s 349ms/step - loss: 0.6083 - accuracy: 0.8053 - val_loss: 0.6402 - val_accuracy: 0.7891\n",
            "Epoch 11/40\n",
            "390/390 [==============================] - 136s 349ms/step - loss: 0.5746 - accuracy: 0.8168 - val_loss: 0.5604 - val_accuracy: 0.8183\n",
            "Epoch 12/40\n",
            "390/390 [==============================] - 136s 349ms/step - loss: 0.5509 - accuracy: 0.8233 - val_loss: 0.5494 - val_accuracy: 0.8183\n",
            "Epoch 13/40\n",
            "390/390 [==============================] - 136s 349ms/step - loss: 0.5220 - accuracy: 0.8329 - val_loss: 0.5253 - val_accuracy: 0.8324\n",
            "Epoch 14/40\n",
            "390/390 [==============================] - 136s 349ms/step - loss: 0.5020 - accuracy: 0.8396 - val_loss: 0.5402 - val_accuracy: 0.8258\n",
            "Epoch 15/40\n",
            "390/390 [==============================] - 136s 349ms/step - loss: 0.4796 - accuracy: 0.8483 - val_loss: 0.4835 - val_accuracy: 0.8471\n",
            "Epoch 16/40\n",
            "390/390 [==============================] - 136s 349ms/step - loss: 0.4582 - accuracy: 0.8552 - val_loss: 0.5157 - val_accuracy: 0.8274\n",
            "Epoch 17/40\n",
            "390/390 [==============================] - 136s 350ms/step - loss: 0.4416 - accuracy: 0.8606 - val_loss: 0.4567 - val_accuracy: 0.8517\n",
            "Epoch 18/40\n",
            "390/390 [==============================] - 136s 349ms/step - loss: 0.4256 - accuracy: 0.8656 - val_loss: 0.4659 - val_accuracy: 0.8520\n",
            "Epoch 19/40\n",
            "390/390 [==============================] - 136s 349ms/step - loss: 0.4133 - accuracy: 0.8682 - val_loss: 0.4609 - val_accuracy: 0.8504\n",
            "Epoch 20/40\n",
            "390/390 [==============================] - 136s 350ms/step - loss: 0.3939 - accuracy: 0.8739 - val_loss: 0.4179 - val_accuracy: 0.8688\n",
            "Epoch 21/40\n",
            "390/390 [==============================] - 136s 349ms/step - loss: 0.3848 - accuracy: 0.8774 - val_loss: 0.4535 - val_accuracy: 0.8537\n",
            "Epoch 22/40\n",
            "390/390 [==============================] - 136s 349ms/step - loss: 0.3660 - accuracy: 0.8840 - val_loss: 0.4536 - val_accuracy: 0.8632\n",
            "Epoch 23/40\n",
            "390/390 [==============================] - 136s 349ms/step - loss: 0.3602 - accuracy: 0.8850 - val_loss: 0.4838 - val_accuracy: 0.8492\n",
            "Epoch 24/40\n",
            "390/390 [==============================] - 136s 350ms/step - loss: 0.3438 - accuracy: 0.8903 - val_loss: 0.4254 - val_accuracy: 0.8707\n",
            "Epoch 25/40\n",
            "390/390 [==============================] - 136s 349ms/step - loss: 0.3405 - accuracy: 0.8908 - val_loss: 0.4458 - val_accuracy: 0.8616\n",
            "Epoch 26/40\n",
            "390/390 [==============================] - 136s 349ms/step - loss: 0.3333 - accuracy: 0.8923 - val_loss: 0.4164 - val_accuracy: 0.8740\n",
            "Epoch 27/40\n",
            "390/390 [==============================] - 136s 349ms/step - loss: 0.3206 - accuracy: 0.8970 - val_loss: 0.4183 - val_accuracy: 0.8725\n",
            "Epoch 28/40\n",
            "390/390 [==============================] - 136s 349ms/step - loss: 0.3141 - accuracy: 0.9010 - val_loss: 0.3988 - val_accuracy: 0.8742\n",
            "Epoch 29/40\n",
            "390/390 [==============================] - 136s 350ms/step - loss: 0.3016 - accuracy: 0.9019 - val_loss: 0.3972 - val_accuracy: 0.8703\n",
            "Epoch 30/40\n",
            "390/390 [==============================] - 136s 349ms/step - loss: 0.3016 - accuracy: 0.9042 - val_loss: 0.3854 - val_accuracy: 0.8802\n",
            "Epoch 31/40\n",
            "390/390 [==============================] - 136s 350ms/step - loss: 0.2843 - accuracy: 0.9094 - val_loss: 0.3981 - val_accuracy: 0.8767\n",
            "Epoch 32/40\n",
            "390/390 [==============================] - 136s 349ms/step - loss: 0.2909 - accuracy: 0.9076 - val_loss: 0.3842 - val_accuracy: 0.8824\n",
            "Epoch 33/40\n",
            "390/390 [==============================] - 136s 349ms/step - loss: 0.2758 - accuracy: 0.9133 - val_loss: 0.3765 - val_accuracy: 0.8819\n",
            "Epoch 34/40\n",
            "390/390 [==============================] - 136s 350ms/step - loss: 0.2731 - accuracy: 0.9131 - val_loss: 0.3875 - val_accuracy: 0.8807\n",
            "Epoch 35/40\n",
            "390/390 [==============================] - 136s 349ms/step - loss: 0.2623 - accuracy: 0.9172 - val_loss: 0.3720 - val_accuracy: 0.8856\n",
            "Epoch 36/40\n",
            "390/390 [==============================] - 136s 349ms/step - loss: 0.2565 - accuracy: 0.9175 - val_loss: 0.3975 - val_accuracy: 0.8848\n",
            "Epoch 37/40\n",
            "390/390 [==============================] - 136s 349ms/step - loss: 0.2541 - accuracy: 0.9196 - val_loss: 0.3939 - val_accuracy: 0.8798\n",
            "Epoch 38/40\n",
            "390/390 [==============================] - 136s 349ms/step - loss: 0.2435 - accuracy: 0.9234 - val_loss: 0.3686 - val_accuracy: 0.8873\n",
            "Epoch 39/40\n",
            "390/390 [==============================] - 136s 350ms/step - loss: 0.2403 - accuracy: 0.9243 - val_loss: 0.3879 - val_accuracy: 0.8827\n",
            "Epoch 40/40\n",
            "390/390 [==============================] - 136s 349ms/step - loss: 0.2364 - accuracy: 0.9244 - val_loss: 0.3662 - val_accuracy: 0.8844\n"
          ],
          "name": "stdout"
        },
        {
          "output_type": "display_data",
          "data": {
            "image/png": "[encoded data removed]",
            "text/plain": [
              "<Figure size 432x288 with 1 Axes>"
            ]
          },
          "metadata": {
            "tags": [],
            "needs_background": "light"
          }
        }
      ]
    },
    {
      "cell_type": "code",
      "metadata": {
        "id": "D-nGH0-5FCv_",
        "colab": {
          "base_uri": "https://localhost:8080/",
          "height": 1000
        },
        "outputId": "0792ed59-88ad-4648-9c2d-10fd32a13e57"
      },
      "source": [
        "batch_size = 128 # Размер батча\n",
        "steps_per_epoch = len(x_train10) // batch_size # Общее количество шагов (партий образцов)\n",
        "\n",
        "# Компилируем сеть\n",
        "model.compile(loss='categorical_crossentropy', optimizer=Adam(lr=0.0001), metrics=['accuracy'])\n",
        "# Обучаем сеть\n",
        "history = model.fit(datagen_train.flow(x_train10, y_train10, batch_size=batch_size),  # В последних версиях можно указывать fit при работе с генератором\n",
        "                    steps_per_epoch=steps_per_epoch, \n",
        "                    epochs=20, \n",
        "                    validation_data=datagen_train.flow(x_test10, y_test10, batch_size=batch_size))\n",
        "\n",
        "\n",
        "# Отображаем график точности обучения\n",
        "plt.plot(history.history['accuracy'], label='Доля верных ответов на обучающем наборе')\n",
        "plt.plot(history.history['val_accuracy'], label='Доля верных ответов на проверочном наборе')\n",
        "plt.xlabel('Эпоха обучения')\n",
        "plt.ylabel('Доля верных ответов')\n",
        "plt.legend()\n",
        "plt.show()"
      ],
      "execution_count": null,
      "outputs": [
        {
          "output_type": "stream",
          "text": [
            "Epoch 1/20\n",
            "  2/390 [..............................] - ETA: 1:45 - loss: 0.1502 - accuracy: 0.9453WARNING:tensorflow:Callbacks method `on_train_batch_end` is slow compared to the batch time (batch time: 0.1186s vs `on_train_batch_end` time: 0.2144s). Check your callbacks.\n",
            "390/390 [==============================] - 137s 350ms/step - loss: 0.1911 - accuracy: 0.9380 - val_loss: 0.3280 - val_accuracy: 0.9013\n",
            "Epoch 2/20\n",
            "390/390 [==============================] - 137s 350ms/step - loss: 0.1727 - accuracy: 0.9450 - val_loss: 0.3072 - val_accuracy: 0.9050\n",
            "Epoch 3/20\n",
            "390/390 [==============================] - 136s 349ms/step - loss: 0.1662 - accuracy: 0.9458 - val_loss: 0.3072 - val_accuracy: 0.9045\n",
            "Epoch 4/20\n",
            "390/390 [==============================] - 136s 349ms/step - loss: 0.1568 - accuracy: 0.9480 - val_loss: 0.3056 - val_accuracy: 0.9071\n",
            "Epoch 5/20\n",
            "390/390 [==============================] - 136s 350ms/step - loss: 0.1531 - accuracy: 0.9496 - val_loss: 0.3220 - val_accuracy: 0.9020\n",
            "Epoch 6/20\n",
            "390/390 [==============================] - 136s 350ms/step - loss: 0.1507 - accuracy: 0.9509 - val_loss: 0.3090 - val_accuracy: 0.9069\n",
            "Epoch 7/20\n",
            "390/390 [==============================] - 136s 349ms/step - loss: 0.1467 - accuracy: 0.9527 - val_loss: 0.3061 - val_accuracy: 0.9054\n",
            "Epoch 8/20\n",
            "390/390 [==============================] - 136s 350ms/step - loss: 0.1447 - accuracy: 0.9532 - val_loss: 0.3070 - val_accuracy: 0.9072\n",
            "Epoch 9/20\n",
            "390/390 [==============================] - 136s 349ms/step - loss: 0.1390 - accuracy: 0.9546 - val_loss: 0.3028 - val_accuracy: 0.9087\n",
            "Epoch 10/20\n",
            "390/390 [==============================] - 136s 349ms/step - loss: 0.1350 - accuracy: 0.9561 - val_loss: 0.3098 - val_accuracy: 0.9082\n",
            "Epoch 11/20\n",
            "390/390 [==============================] - 136s 349ms/step - loss: 0.1369 - accuracy: 0.9561 - val_loss: 0.3017 - val_accuracy: 0.9098\n",
            "Epoch 12/20\n",
            "390/390 [==============================] - 136s 349ms/step - loss: 0.1341 - accuracy: 0.9574 - val_loss: 0.2993 - val_accuracy: 0.9096\n",
            "Epoch 13/20\n",
            "390/390 [==============================] - 136s 349ms/step - loss: 0.1310 - accuracy: 0.9586 - val_loss: 0.2964 - val_accuracy: 0.9133\n",
            "Epoch 14/20\n",
            "390/390 [==============================] - 136s 349ms/step - loss: 0.1273 - accuracy: 0.9585 - val_loss: 0.2914 - val_accuracy: 0.9132\n",
            "Epoch 15/20\n",
            "390/390 [==============================] - 136s 349ms/step - loss: 0.1289 - accuracy: 0.9575 - val_loss: 0.3115 - val_accuracy: 0.9086\n",
            "Epoch 16/20\n",
            "390/390 [==============================] - 136s 349ms/step - loss: 0.1266 - accuracy: 0.9596 - val_loss: 0.2911 - val_accuracy: 0.9114\n",
            "Epoch 17/20\n",
            "390/390 [==============================] - 136s 349ms/step - loss: 0.1222 - accuracy: 0.9609 - val_loss: 0.3006 - val_accuracy: 0.9130\n",
            "Epoch 18/20\n",
            "390/390 [==============================] - 136s 349ms/step - loss: 0.1182 - accuracy: 0.9613 - val_loss: 0.3089 - val_accuracy: 0.9121\n",
            "Epoch 19/20\n",
            "390/390 [==============================] - 136s 349ms/step - loss: 0.1231 - accuracy: 0.9596 - val_loss: 0.2957 - val_accuracy: 0.9118\n",
            "Epoch 20/20\n",
            "390/390 [==============================] - 136s 349ms/step - loss: 0.1213 - accuracy: 0.9614 - val_loss: 0.2873 - val_accuracy: 0.9166\n"
          ],
          "name": "stdout"
        },
        {
          "output_type": "display_data",
          "data": {
            "image/png": "[encoded data removed]",
            "text/plain": [
              "<Figure size 432x288 with 1 Axes>"
            ]
          },
          "metadata": {
            "tags": [],
            "needs_background": "light"
          }
        }
      ]
    },
    {
      "cell_type": "code",
      "metadata": {
        "id": "FgDv21Bxsy0v"
      },
      "source": [
        ""
      ],
      "execution_count": null,
      "outputs": []
    }
  ]
}