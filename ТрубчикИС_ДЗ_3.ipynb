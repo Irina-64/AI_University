{
  "nbformat": 4,
  "nbformat_minor": 0,
  "metadata": {
    "colab": {
      "name": "ТрубчикИС_ДЗ-3.ipynb",
      "provenance": [],
      "collapsed_sections": [],
      "include_colab_link": true
    },
    "kernelspec": {
      "name": "python3",
      "display_name": "Python 3"
    },
    "accelerator": "GPU"
  },
  "cells": [
    {
      "cell_type": "markdown",
      "metadata": {
        "id": "view-in-github",
        "colab_type": "text"
      },
      "source": [
        "<a href=\"https://colab.research.google.com/github/Irina-64/AI_University/blob/main/%D0%A2%D1%80%D1%83%D0%B1%D1%87%D0%B8%D0%BA%D0%98%D0%A1_%D0%94%D0%97_3.ipynb\" target=\"_parent\"><img src=\"https://colab.research.google.com/assets/colab-badge.svg\" alt=\"Open In Colab\"/></a>"
      ]
    },
    {
      "cell_type": "markdown",
      "metadata": {
        "id": "hf9VUNvSz325"
      },
      "source": [
        "### Импорт библиотек"
      ]
    },
    {
      "cell_type": "code",
      "metadata": {
        "id": "E2fNHaEfXU97"
      },
      "source": [
        "from tensorflow.keras.datasets import mnist #Загружаем базу mnist\n",
        "from tensorflow.keras.datasets import cifar10 #Загружаем базу cifar10\n",
        "from tensorflow.keras.datasets import cifar100 #Загружаем базу cifar100\n",
        "\n",
        "from tensorflow.keras.models import Sequential #Сеть прямого распространения\n",
        "#Базовые слои для счёрточных сетей\n",
        "from tensorflow.keras.layers import Dense, Conv2D, MaxPooling2D, Flatten, Dropout, BatchNormalization\n",
        "from tensorflow.python.keras.preprocessing.image import ImageDataGenerator # работа с изображениями\n",
        "from tensorflow.keras.optimizers import Adam, Adadelta # оптимизаторы\n",
        "from tensorflow.keras import utils #Используем для to_categoricall\n",
        "from tensorflow.keras.preprocessing import image #Для отрисовки изображений\n",
        "from google.colab import files #Для загрузки своей картинки\n",
        "import numpy as np #Библиотека работы с массивами\n",
        "import matplotlib.pyplot as plt #Для отрисовки графиков\n",
        "from PIL import Image #Для отрисовки изображений\n",
        "import random #Для генерации случайных чисел \n",
        "import math # Для округления\n",
        "import os #Для работы с файлами \n",
        "# подключем диск\n",
        "from google.colab import drive\n",
        "import pandas as pd\n",
        "%matplotlib inline"
      ],
      "execution_count": null,
      "outputs": []
    },
    {
      "cell_type": "markdown",
      "metadata": {
        "id": "pQh2Ho0r0C82"
      },
      "source": [
        "### Загрузка базы mnist."
      ]
    },
    {
      "cell_type": "code",
      "metadata": {
        "id": "GhF7eOObzgj2"
      },
      "source": [
        "(x_train, y_train), (x_test, y_test) = mnist.load_data()"
      ],
      "execution_count": null,
      "outputs": []
    },
    {
      "cell_type": "markdown",
      "metadata": {
        "id": "-iRpkUFe2wE-"
      },
      "source": [
        "### Выводим для примера картинки по каждому классу"
      ]
    },
    {
      "cell_type": "code",
      "metadata": {
        "colab": {
          "base_uri": "https://localhost:8080/",
          "height": 159
        },
        "id": "CEzbGrLk2z_3",
        "outputId": "7ba439a5-01c4-4dbb-ac29-56bdfe729a31"
      },
      "source": [
        "fig, axs = plt.subplots(1, 10, figsize=(25, 3)) #Создаем полотно из 10 графиков\n",
        "for i in range(10): #Проходим по классам от 0 до 9\n",
        "  label_indexes = np.where(y_train==i)[0] #Получаем список из индексов положений класса i в y_train\n",
        "  index = random.choice(label_indexes) #Случайным образом выбираем из списка индекс\n",
        "  img = x_train[index] #Выбираем из x_train нужное изображение\n",
        "  axs[i].imshow(Image.fromarray(img), cmap='gray') #Отображаем изображение i-ым графиков\n",
        "\n",
        "plt.show() #Показываем изображения"
      ],
      "execution_count": null,
      "outputs": [
        {
          "output_type": "display_data",
          "data": {
            "image/png": "[encoded data removed]",
            "text/plain": [
              "<Figure size 1800x216 with 10 Axes>"
            ]
          },
          "metadata": {
            "tags": [],
            "needs_background": "light"
          }
        }
      ]
    },
    {
      "cell_type": "markdown",
      "metadata": {
        "id": "63L7apfK0RyU"
      },
      "source": [
        "### Нормирование и преобразование x_train и y_train."
      ]
    },
    {
      "cell_type": "code",
      "metadata": {
        "id": "wMfbee9q0UlL"
      },
      "source": [
        "#Меняем формат данных MNIST\n",
        "#Надо добавить в конце размерность 1\n",
        "#Чтобы свёрточная сеть понимала, что это чёрно-белые данные\n",
        "x_train = x_train.reshape(x_train.shape[0], 28, 28, 1)\n",
        "x_test = x_test.reshape(x_test.shape[0], 28, 28, 1)\n",
        "\n",
        "# Превращаем y_train и y_test в формат one hot encoding\n",
        "y_train = utils.to_categorical(y_train, 10)\n",
        "y_test = utils.to_categorical(y_test, 10)"
      ],
      "execution_count": null,
      "outputs": []
    },
    {
      "cell_type": "code",
      "metadata": {
        "colab": {
          "base_uri": "https://localhost:8080/"
        },
        "id": "4IuXkpD81BP0",
        "outputId": "61d4e712-bd3f-4bad-a1cb-247830dc0ec6"
      },
      "source": [
        "# Посмотрим форматы выборок перед обучением\n",
        "print(x_train.shape)\n",
        "print(x_test.shape)\n",
        "print(y_train.shape)\n",
        "print(y_test.shape)"
      ],
      "execution_count": null,
      "outputs": [
        {
          "output_type": "stream",
          "text": [
            "(60000, 28, 28, 1)\n",
            "(10000, 28, 28, 1)\n",
            "(60000, 10)\n",
            "(10000, 10)\n"
          ],
          "name": "stdout"
        }
      ]
    },
    {
      "cell_type": "markdown",
      "metadata": {
        "id": "HOW0T3QM0g-D"
      },
      "source": [
        "### Создание сверточной нейронной сети."
      ]
    },
    {
      "cell_type": "markdown",
      "metadata": {
        "id": "YauFYV7q1RZI"
      },
      "source": [
        "### задаём batch_size"
      ]
    },
    {
      "cell_type": "code",
      "metadata": {
        "id": "p4v_-N6Z1U9i"
      },
      "source": [
        "batch_size = 128 "
      ],
      "execution_count": null,
      "outputs": []
    },
    {
      "cell_type": "markdown",
      "metadata": {
        "id": "2YFHs3t_1Zcj"
      },
      "source": [
        "### Создаем последовательную модель"
      ]
    },
    {
      "cell_type": "code",
      "metadata": {
        "id": "p-3aHO921eth"
      },
      "source": [
        "model = Sequential()"
      ],
      "execution_count": null,
      "outputs": []
    },
    {
      "cell_type": "markdown",
      "metadata": {
        "id": "ZyO651ST2JWw"
      },
      "source": [
        "### Собираем нейросеть из набора слоев (послеовательных)"
      ]
    },
    {
      "cell_type": "code",
      "metadata": {
        "id": "0SUC-5cV0jJd"
      },
      "source": [
        "model.add(BatchNormalization(input_shape=(28, 28, 1)))  #Слой пакетной нормализации\n",
        "model.add(Conv2D(32, 3, padding='same', activation='relu')) #Первый сверточный слой\n",
        "model.add(Conv2D(32, (3, 3), padding='same', activation='relu')) #Второй сверточный слой\n",
        "model.add(MaxPooling2D(pool_size=(2, 2))) #Первый слой подвыборки\n",
        "model.add(Dropout(0.25))  #Слой регуляризации Dropout\n",
        "\n",
        "model.add(Flatten())\n",
        "model.add(Dense(256, activation='relu')) #Полносвязный слой для классификации\n",
        "model.add(Dropout(0.25))  #Слой регуляризации Dropout\n",
        "model.add(Dense(10, activation='softmax'))  #Выходной полносвязный слой\n",
        "\n",
        "#Компилируем сеть\n",
        "model.compile(loss=\"categorical_crossentropy\", optimizer=\"adam\", metrics=[\"accuracy\"])"
      ],
      "execution_count": null,
      "outputs": []
    },
    {
      "cell_type": "markdown",
      "metadata": {
        "id": "nqlH5Ed50mr_"
      },
      "source": [
        "### Обучение сверточной нейронной сети."
      ]
    },
    {
      "cell_type": "code",
      "metadata": {
        "colab": {
          "base_uri": "https://localhost:8080/",
          "height": 783
        },
        "id": "PssFs5w50pAH",
        "outputId": "bd53f300-0f53-4a0f-8697-b8b188eb9f8c"
      },
      "source": [
        "history = model.fit(x_train, \n",
        "                    y_train, \n",
        "                    batch_size=batch_size, \n",
        "                    epochs=15,\n",
        "                    validation_data=(x_test, y_test),\n",
        "                    verbose=1)\n",
        "\n",
        "#Отображаем график точности обучения\n",
        "plt.plot(history.history['accuracy'], \n",
        "         label='Доля верных ответов на обучающем наборе')\n",
        "plt.plot(history.history['val_accuracy'], \n",
        "         label='Доля верных ответов на проверочном наборе')\n",
        "plt.xlabel('Эпоха обучения')\n",
        "plt.ylabel('Доля верных ответов')\n",
        "plt.legend()\n",
        "plt.show()"
      ],
      "execution_count": null,
      "outputs": [
        {
          "output_type": "stream",
          "text": [
            "Epoch 1/15\n",
            "469/469 [==============================] - 29s 8ms/step - loss: 0.1834 - accuracy: 0.9438 - val_loss: 0.0443 - val_accuracy: 0.9845\n",
            "Epoch 2/15\n",
            "469/469 [==============================] - 4s 8ms/step - loss: 0.0573 - accuracy: 0.9824 - val_loss: 0.0411 - val_accuracy: 0.9853\n",
            "Epoch 3/15\n",
            "469/469 [==============================] - 3s 7ms/step - loss: 0.0388 - accuracy: 0.9877 - val_loss: 0.0308 - val_accuracy: 0.9898\n",
            "Epoch 4/15\n",
            "469/469 [==============================] - 3s 7ms/step - loss: 0.0301 - accuracy: 0.9903 - val_loss: 0.0315 - val_accuracy: 0.9892\n",
            "Epoch 5/15\n",
            "469/469 [==============================] - 4s 8ms/step - loss: 0.0232 - accuracy: 0.9925 - val_loss: 0.0278 - val_accuracy: 0.9903\n",
            "Epoch 6/15\n",
            "469/469 [==============================] - 3s 7ms/step - loss: 0.0217 - accuracy: 0.9929 - val_loss: 0.0273 - val_accuracy: 0.9912\n",
            "Epoch 7/15\n",
            "469/469 [==============================] - 3s 7ms/step - loss: 0.0179 - accuracy: 0.9942 - val_loss: 0.0253 - val_accuracy: 0.9925\n",
            "Epoch 8/15\n",
            "469/469 [==============================] - 4s 8ms/step - loss: 0.0154 - accuracy: 0.9946 - val_loss: 0.0299 - val_accuracy: 0.9914\n",
            "Epoch 9/15\n",
            "469/469 [==============================] - 3s 7ms/step - loss: 0.0131 - accuracy: 0.9956 - val_loss: 0.0293 - val_accuracy: 0.9917\n",
            "Epoch 10/15\n",
            "469/469 [==============================] - 4s 8ms/step - loss: 0.0133 - accuracy: 0.9953 - val_loss: 0.0323 - val_accuracy: 0.9909\n",
            "Epoch 11/15\n",
            "469/469 [==============================] - 4s 8ms/step - loss: 0.0121 - accuracy: 0.9960 - val_loss: 0.0325 - val_accuracy: 0.9909\n",
            "Epoch 12/15\n",
            "469/469 [==============================] - 3s 7ms/step - loss: 0.0102 - accuracy: 0.9965 - val_loss: 0.0329 - val_accuracy: 0.9911\n",
            "Epoch 13/15\n",
            "469/469 [==============================] - 3s 7ms/step - loss: 0.0095 - accuracy: 0.9968 - val_loss: 0.0334 - val_accuracy: 0.9920\n",
            "Epoch 14/15\n",
            "469/469 [==============================] - 3s 7ms/step - loss: 0.0092 - accuracy: 0.9968 - val_loss: 0.0359 - val_accuracy: 0.9918\n",
            "Epoch 15/15\n",
            "469/469 [==============================] - 4s 8ms/step - loss: 0.0091 - accuracy: 0.9968 - val_loss: 0.0336 - val_accuracy: 0.9921\n"
          ],
          "name": "stdout"
        },
        {
          "output_type": "display_data",
          "data": {
            "image/png": "[encoded data removed]",
            "text/plain": [
              "<Figure size 432x288 with 1 Axes>"
            ]
          },
          "metadata": {
            "tags": [],
            "needs_background": "light"
          }
        }
      ]
    },
    {
      "cell_type": "markdown",
      "metadata": {
        "id": "Rknwb10fbUQb"
      },
      "source": [
        "# LIght Вариант 2\n",
        "\n",
        "Провести серию экспериментов по подбору гиперпараметров нейронной сети, созданной на занятии.\n",
        "\n",
        "Поменять количество нейронов в сверточных слоях, использовав следующие значения:\n",
        "* один слой 2 фильтров\n",
        "* один слой  4 фильтров\n",
        "* один слой  16 фильтров\n",
        "\n",
        "Поменять активационную функцию в скрытых слоях с relu на linear\n",
        "\n",
        "Поменять размеры batch_size:\n",
        "* 10\n",
        "* 100\n",
        "* Вся база (48000)\n",
        "\n",
        "Записать в таблицу получившиеся точности.\n",
        "Написать выводы по результатам проведенных тестов.\n"
      ]
    },
    {
      "cell_type": "code",
      "metadata": {
        "id": "b-zEikOxhz_5",
        "colab": {
          "base_uri": "https://localhost:8080/"
        },
        "outputId": "109111c2-7dfb-46cf-da33-978128c51e11"
      },
      "source": [
        "data = [['32-32', 'relu', 128, round(history.history['val_accuracy'][-1], 3)]]\n",
        "data"
      ],
      "execution_count": null,
      "outputs": [
        {
          "output_type": "execute_result",
          "data": {
            "text/plain": [
              "[['32-32', 'relu', 128, 0.993]]"
            ]
          },
          "metadata": {
            "tags": []
          },
          "execution_count": 21
        }
      ]
    },
    {
      "cell_type": "code",
      "metadata": {
        "id": "ynpTysg9jR9h",
        "colab": {
          "base_uri": "https://localhost:8080/"
        },
        "outputId": "45a74fcf-80ff-488c-91eb-184dc565b77e"
      },
      "source": [
        "# 1\n",
        "\n",
        "N = [2, 4, 16] # Кол-во фильтров в сверточных слоях\n",
        "\n",
        "for i in N:\n",
        "    for j in N[::-1]:\n",
        "        model = Sequential()\n",
        "\n",
        "        model.add(BatchNormalization(input_shape=(28, 28, 1)))\n",
        "        model.add(Conv2D(i, (3, 3), padding='same', activation='relu')) # Меняем кол-во фильтров в сверточных слоях\n",
        "        model.add(Conv2D(j, (3, 3), padding='same', activation='relu')) \n",
        "        model.add(MaxPooling2D(pool_size=(2, 2)))\n",
        "        model.add(Dropout(0.25))\n",
        "\n",
        "        model.add(Flatten())\n",
        "        model.add(Dense(256, activation='relu'))\n",
        "        model.add(Dropout(0.25))\n",
        "        model.add(Dense(10, activation='softmax'))\n",
        "\n",
        "        # Компилируем сеть\n",
        "        model.compile(loss=\"categorical_crossentropy\", optimizer=\"adam\", metrics=[\"accuracy\"])\n",
        "\n",
        "        # Обучаем сеть \n",
        "        history = model.fit(x_train, \n",
        "                            y_train, \n",
        "                            batch_size=batch_size, \n",
        "                            epochs=10,\n",
        "                            validation_split=0.2,\n",
        "                            verbose=1)\n",
        "        \n",
        "        mod =str(i)+'-'+str(j)\n",
        "        data = data + [[mod, 'relu', 128, round(history.history['val_accuracy'][-1], 3)]]\n",
        "\n",
        "\n",
        "# 2\n",
        "\n",
        "model = Sequential()\n",
        "\n",
        "model.add(BatchNormalization(input_shape=(28, 28, 1)))\n",
        "model.add(Conv2D(32, (3, 3), padding='same', activation='linear')) # Меняем активационную функцию на linear\n",
        "model.add(Conv2D(32, (3, 3), padding='same', activation='linear')) \n",
        "model.add(MaxPooling2D(pool_size=(2, 2)))\n",
        "model.add(Dropout(0.25))\n",
        "\n",
        "model.add(Flatten())\n",
        "model.add(Dense(256, activation='linear'))                         # Меняем активационную функцию на linear\n",
        "model.add(Dropout(0.25))\n",
        "model.add(Dense(10, activation='softmax'))\n",
        "\n",
        "# Компилируем сеть\n",
        "model.compile(loss=\"categorical_crossentropy\", optimizer=\"adam\", metrics=[\"accuracy\"])\n",
        "\n",
        "# Обучаем сеть \n",
        "history = model.fit(x_train, \n",
        "                    y_train, \n",
        "                    batch_size=batch_size, \n",
        "                    epochs=10,\n",
        "                    validation_split=0.2,\n",
        "                    verbose=1)\n",
        "\n",
        "data = data + [['32-32', 'linear', 128, round(history.history['val_accuracy'][-1], 3)]]\n",
        "\n",
        "\n",
        "# 3.1\n",
        "\n",
        "N_batch_size = [10, 100, 15000]\n",
        "for i in N_batch_size:\n",
        "    model = Sequential()\n",
        "\n",
        "    model.add(BatchNormalization(input_shape=(28, 28, 1)))\n",
        "    model.add(Conv2D(32, (3, 3), padding='same', activation='relu'))\n",
        "    model.add(Conv2D(32, (3, 3), padding='same', activation='relu'))\n",
        "    model.add(MaxPooling2D(pool_size=(2, 2)))\n",
        "    model.add(Dropout(0.25))\n",
        "\n",
        "    model.add(Flatten())\n",
        "    model.add(Dense(256, activation='relu'))\n",
        "    model.add(Dropout(0.25))\n",
        "    model.add(Dense(10, activation='softmax'))\n",
        "\n",
        "    # Компилируем сеть\n",
        "    model.compile(loss=\"categorical_crossentropy\", optimizer=\"adam\", metrics=[\"accuracy\"])\n",
        "\n",
        "    # Обучаем сеть \n",
        "    history = model.fit(x_train, \n",
        "                        y_train, \n",
        "                        batch_size=i,               # Меняем batch_size\n",
        "                        epochs=10,\n",
        "                        validation_split=0.2,\n",
        "                        verbose=1)\n",
        "\n",
        "    data = data + [['32-32', 'relu', i, round(history.history['val_accuracy'][-1], 3)]]"
      ],
      "execution_count": null,
      "outputs": [
        {
          "output_type": "stream",
          "text": [
            "Epoch 1/10\n",
            "375/375 [==============================] - 2s 4ms/step - loss: 0.2540 - accuracy: 0.9209 - val_loss: 0.0816 - val_accuracy: 0.9756\n",
            "Epoch 2/10\n",
            "375/375 [==============================] - 1s 4ms/step - loss: 0.0875 - accuracy: 0.9734 - val_loss: 0.0584 - val_accuracy: 0.9833\n",
            "Epoch 3/10\n",
            "375/375 [==============================] - 1s 4ms/step - loss: 0.0619 - accuracy: 0.9810 - val_loss: 0.0475 - val_accuracy: 0.9860\n",
            "Epoch 4/10\n",
            "375/375 [==============================] - 1s 4ms/step - loss: 0.0452 - accuracy: 0.9851 - val_loss: 0.0486 - val_accuracy: 0.9862\n",
            "Epoch 5/10\n",
            "375/375 [==============================] - 1s 4ms/step - loss: 0.0375 - accuracy: 0.9878 - val_loss: 0.0459 - val_accuracy: 0.9868\n",
            "Epoch 6/10\n",
            "375/375 [==============================] - 1s 4ms/step - loss: 0.0313 - accuracy: 0.9895 - val_loss: 0.0435 - val_accuracy: 0.9872\n",
            "Epoch 7/10\n",
            "375/375 [==============================] - 1s 4ms/step - loss: 0.0251 - accuracy: 0.9919 - val_loss: 0.0465 - val_accuracy: 0.9860\n",
            "Epoch 8/10\n",
            "375/375 [==============================] - 1s 4ms/step - loss: 0.0231 - accuracy: 0.9921 - val_loss: 0.0447 - val_accuracy: 0.9884\n",
            "Epoch 9/10\n",
            "375/375 [==============================] - 1s 4ms/step - loss: 0.0204 - accuracy: 0.9929 - val_loss: 0.0549 - val_accuracy: 0.9869\n",
            "Epoch 10/10\n",
            "375/375 [==============================] - 1s 4ms/step - loss: 0.0194 - accuracy: 0.9932 - val_loss: 0.0458 - val_accuracy: 0.9881\n",
            "Epoch 1/10\n",
            "375/375 [==============================] - 2s 4ms/step - loss: 0.5546 - accuracy: 0.8236 - val_loss: 0.2093 - val_accuracy: 0.9397\n",
            "Epoch 2/10\n",
            "375/375 [==============================] - 1s 4ms/step - loss: 0.2480 - accuracy: 0.9231 - val_loss: 0.1264 - val_accuracy: 0.9634\n",
            "Epoch 3/10\n",
            "375/375 [==============================] - 1s 3ms/step - loss: 0.1789 - accuracy: 0.9436 - val_loss: 0.1007 - val_accuracy: 0.9708\n",
            "Epoch 4/10\n",
            "375/375 [==============================] - 1s 4ms/step - loss: 0.1442 - accuracy: 0.9544 - val_loss: 0.0877 - val_accuracy: 0.9747\n",
            "Epoch 5/10\n",
            "375/375 [==============================] - 1s 4ms/step - loss: 0.1242 - accuracy: 0.9611 - val_loss: 0.0785 - val_accuracy: 0.9767\n",
            "Epoch 6/10\n",
            "375/375 [==============================] - 1s 3ms/step - loss: 0.1101 - accuracy: 0.9649 - val_loss: 0.0723 - val_accuracy: 0.9781\n",
            "Epoch 7/10\n",
            "375/375 [==============================] - 1s 3ms/step - loss: 0.1004 - accuracy: 0.9670 - val_loss: 0.0726 - val_accuracy: 0.9788\n",
            "Epoch 8/10\n",
            "375/375 [==============================] - 1s 4ms/step - loss: 0.0895 - accuracy: 0.9712 - val_loss: 0.0642 - val_accuracy: 0.9810\n",
            "Epoch 9/10\n",
            "375/375 [==============================] - 1s 3ms/step - loss: 0.0840 - accuracy: 0.9721 - val_loss: 0.0593 - val_accuracy: 0.9827\n",
            "Epoch 10/10\n",
            "375/375 [==============================] - 1s 4ms/step - loss: 0.0789 - accuracy: 0.9750 - val_loss: 0.0595 - val_accuracy: 0.9827\n",
            "Epoch 1/10\n",
            "375/375 [==============================] - 2s 4ms/step - loss: 0.5361 - accuracy: 0.8294 - val_loss: 0.1773 - val_accuracy: 0.9488\n",
            "Epoch 2/10\n",
            "375/375 [==============================] - 1s 3ms/step - loss: 0.2493 - accuracy: 0.9226 - val_loss: 0.1210 - val_accuracy: 0.9633\n",
            "Epoch 3/10\n",
            "375/375 [==============================] - 1s 4ms/step - loss: 0.1867 - accuracy: 0.9415 - val_loss: 0.0986 - val_accuracy: 0.9713\n",
            "Epoch 4/10\n",
            "375/375 [==============================] - 1s 3ms/step - loss: 0.1553 - accuracy: 0.9509 - val_loss: 0.0862 - val_accuracy: 0.9736\n",
            "Epoch 5/10\n",
            "375/375 [==============================] - 1s 4ms/step - loss: 0.1358 - accuracy: 0.9575 - val_loss: 0.0776 - val_accuracy: 0.9767\n",
            "Epoch 6/10\n",
            "375/375 [==============================] - 1s 3ms/step - loss: 0.1205 - accuracy: 0.9620 - val_loss: 0.0741 - val_accuracy: 0.9769\n",
            "Epoch 7/10\n",
            "375/375 [==============================] - 1s 3ms/step - loss: 0.1135 - accuracy: 0.9639 - val_loss: 0.0708 - val_accuracy: 0.9783\n",
            "Epoch 8/10\n",
            "375/375 [==============================] - 1s 4ms/step - loss: 0.1027 - accuracy: 0.9665 - val_loss: 0.0653 - val_accuracy: 0.9803\n",
            "Epoch 9/10\n",
            "375/375 [==============================] - 1s 3ms/step - loss: 0.0979 - accuracy: 0.9679 - val_loss: 0.0654 - val_accuracy: 0.9809\n",
            "Epoch 10/10\n",
            "375/375 [==============================] - 1s 4ms/step - loss: 0.0912 - accuracy: 0.9696 - val_loss: 0.0604 - val_accuracy: 0.9812\n",
            "Epoch 1/10\n",
            "375/375 [==============================] - 2s 4ms/step - loss: 0.2307 - accuracy: 0.9291 - val_loss: 0.0676 - val_accuracy: 0.9794\n",
            "Epoch 2/10\n",
            "375/375 [==============================] - 2s 4ms/step - loss: 0.0786 - accuracy: 0.9752 - val_loss: 0.0503 - val_accuracy: 0.9852\n",
            "Epoch 3/10\n",
            "375/375 [==============================] - 2s 4ms/step - loss: 0.0570 - accuracy: 0.9821 - val_loss: 0.0539 - val_accuracy: 0.9836\n",
            "Epoch 4/10\n",
            "375/375 [==============================] - 1s 4ms/step - loss: 0.0430 - accuracy: 0.9856 - val_loss: 0.0445 - val_accuracy: 0.9863\n",
            "Epoch 5/10\n",
            "375/375 [==============================] - 2s 4ms/step - loss: 0.0343 - accuracy: 0.9884 - val_loss: 0.0480 - val_accuracy: 0.9859\n",
            "Epoch 6/10\n",
            "375/375 [==============================] - 2s 4ms/step - loss: 0.0281 - accuracy: 0.9904 - val_loss: 0.0366 - val_accuracy: 0.9897\n",
            "Epoch 7/10\n",
            "375/375 [==============================] - 2s 4ms/step - loss: 0.0251 - accuracy: 0.9913 - val_loss: 0.0387 - val_accuracy: 0.9886\n",
            "Epoch 8/10\n",
            "375/375 [==============================] - 1s 4ms/step - loss: 0.0234 - accuracy: 0.9922 - val_loss: 0.0430 - val_accuracy: 0.9888\n",
            "Epoch 9/10\n",
            "375/375 [==============================] - 1s 4ms/step - loss: 0.0194 - accuracy: 0.9934 - val_loss: 0.0436 - val_accuracy: 0.9880\n",
            "Epoch 10/10\n",
            "375/375 [==============================] - 2s 4ms/step - loss: 0.0181 - accuracy: 0.9940 - val_loss: 0.0371 - val_accuracy: 0.9902\n",
            "Epoch 1/10\n",
            "375/375 [==============================] - 2s 4ms/step - loss: 0.3993 - accuracy: 0.8745 - val_loss: 0.1190 - val_accuracy: 0.9653\n",
            "Epoch 2/10\n",
            "375/375 [==============================] - 1s 3ms/step - loss: 0.1467 - accuracy: 0.9550 - val_loss: 0.0807 - val_accuracy: 0.9758\n",
            "Epoch 3/10\n",
            "375/375 [==============================] - 1s 4ms/step - loss: 0.1037 - accuracy: 0.9675 - val_loss: 0.0691 - val_accuracy: 0.9802\n",
            "Epoch 4/10\n",
            "375/375 [==============================] - 1s 4ms/step - loss: 0.0848 - accuracy: 0.9736 - val_loss: 0.0556 - val_accuracy: 0.9843\n",
            "Epoch 5/10\n",
            "375/375 [==============================] - 1s 3ms/step - loss: 0.0701 - accuracy: 0.9777 - val_loss: 0.0555 - val_accuracy: 0.9838\n",
            "Epoch 6/10\n",
            "375/375 [==============================] - 1s 4ms/step - loss: 0.0623 - accuracy: 0.9796 - val_loss: 0.0516 - val_accuracy: 0.9850\n",
            "Epoch 7/10\n",
            "375/375 [==============================] - 1s 4ms/step - loss: 0.0566 - accuracy: 0.9814 - val_loss: 0.0516 - val_accuracy: 0.9839\n",
            "Epoch 8/10\n",
            "375/375 [==============================] - 1s 3ms/step - loss: 0.0519 - accuracy: 0.9824 - val_loss: 0.0451 - val_accuracy: 0.9867\n",
            "Epoch 9/10\n",
            "375/375 [==============================] - 1s 3ms/step - loss: 0.0472 - accuracy: 0.9843 - val_loss: 0.0475 - val_accuracy: 0.9867\n",
            "Epoch 10/10\n",
            "375/375 [==============================] - 1s 4ms/step - loss: 0.0449 - accuracy: 0.9850 - val_loss: 0.0516 - val_accuracy: 0.9852\n",
            "Epoch 1/10\n",
            "375/375 [==============================] - 2s 4ms/step - loss: 0.4956 - accuracy: 0.8424 - val_loss: 0.1718 - val_accuracy: 0.9509\n",
            "Epoch 2/10\n",
            "375/375 [==============================] - 1s 3ms/step - loss: 0.2473 - accuracy: 0.9216 - val_loss: 0.1185 - val_accuracy: 0.9650\n",
            "Epoch 3/10\n",
            "375/375 [==============================] - 1s 3ms/step - loss: 0.1833 - accuracy: 0.9430 - val_loss: 0.0912 - val_accuracy: 0.9732\n",
            "Epoch 4/10\n",
            "375/375 [==============================] - 1s 3ms/step - loss: 0.1471 - accuracy: 0.9549 - val_loss: 0.0765 - val_accuracy: 0.9764\n",
            "Epoch 5/10\n",
            "375/375 [==============================] - 1s 4ms/step - loss: 0.1260 - accuracy: 0.9604 - val_loss: 0.0683 - val_accuracy: 0.9792\n",
            "Epoch 6/10\n",
            "375/375 [==============================] - 1s 3ms/step - loss: 0.1080 - accuracy: 0.9651 - val_loss: 0.0647 - val_accuracy: 0.9809\n",
            "Epoch 7/10\n",
            "375/375 [==============================] - 1s 4ms/step - loss: 0.1006 - accuracy: 0.9680 - val_loss: 0.0601 - val_accuracy: 0.9822\n",
            "Epoch 8/10\n",
            "375/375 [==============================] - 1s 3ms/step - loss: 0.0924 - accuracy: 0.9705 - val_loss: 0.0566 - val_accuracy: 0.9842\n",
            "Epoch 9/10\n",
            "375/375 [==============================] - 1s 4ms/step - loss: 0.0864 - accuracy: 0.9729 - val_loss: 0.0555 - val_accuracy: 0.9837\n",
            "Epoch 10/10\n",
            "375/375 [==============================] - 1s 4ms/step - loss: 0.0804 - accuracy: 0.9734 - val_loss: 0.0551 - val_accuracy: 0.9833\n",
            "Epoch 1/10\n",
            "375/375 [==============================] - 3s 5ms/step - loss: 0.2068 - accuracy: 0.9371 - val_loss: 0.0618 - val_accuracy: 0.9825\n",
            "Epoch 2/10\n",
            "375/375 [==============================] - 2s 5ms/step - loss: 0.0640 - accuracy: 0.9797 - val_loss: 0.0444 - val_accuracy: 0.9872\n",
            "Epoch 3/10\n",
            "375/375 [==============================] - 2s 5ms/step - loss: 0.0453 - accuracy: 0.9852 - val_loss: 0.0392 - val_accuracy: 0.9890\n",
            "Epoch 4/10\n",
            "375/375 [==============================] - 2s 5ms/step - loss: 0.0348 - accuracy: 0.9889 - val_loss: 0.0369 - val_accuracy: 0.9893\n",
            "Epoch 5/10\n",
            "375/375 [==============================] - 2s 5ms/step - loss: 0.0286 - accuracy: 0.9907 - val_loss: 0.0375 - val_accuracy: 0.9884\n",
            "Epoch 6/10\n",
            "375/375 [==============================] - 2s 5ms/step - loss: 0.0230 - accuracy: 0.9923 - val_loss: 0.0384 - val_accuracy: 0.9896\n",
            "Epoch 7/10\n",
            "375/375 [==============================] - 2s 5ms/step - loss: 0.0209 - accuracy: 0.9926 - val_loss: 0.0354 - val_accuracy: 0.9901\n",
            "Epoch 8/10\n",
            "375/375 [==============================] - 2s 5ms/step - loss: 0.0178 - accuracy: 0.9941 - val_loss: 0.0346 - val_accuracy: 0.9911\n",
            "Epoch 9/10\n",
            "375/375 [==============================] - 2s 5ms/step - loss: 0.0173 - accuracy: 0.9939 - val_loss: 0.0368 - val_accuracy: 0.9908\n",
            "Epoch 10/10\n",
            "375/375 [==============================] - 2s 5ms/step - loss: 0.0147 - accuracy: 0.9952 - val_loss: 0.0325 - val_accuracy: 0.9908\n",
            "Epoch 1/10\n",
            "375/375 [==============================] - 2s 4ms/step - loss: 0.3678 - accuracy: 0.8843 - val_loss: 0.1058 - val_accuracy: 0.9674\n",
            "Epoch 2/10\n",
            "375/375 [==============================] - 2s 4ms/step - loss: 0.1331 - accuracy: 0.9573 - val_loss: 0.0709 - val_accuracy: 0.9793\n",
            "Epoch 3/10\n",
            "375/375 [==============================] - 2s 4ms/step - loss: 0.0992 - accuracy: 0.9686 - val_loss: 0.0653 - val_accuracy: 0.9813\n",
            "Epoch 4/10\n",
            "375/375 [==============================] - 2s 4ms/step - loss: 0.0833 - accuracy: 0.9735 - val_loss: 0.0545 - val_accuracy: 0.9833\n",
            "Epoch 5/10\n",
            "375/375 [==============================] - 1s 4ms/step - loss: 0.0688 - accuracy: 0.9781 - val_loss: 0.0485 - val_accuracy: 0.9849\n",
            "Epoch 6/10\n",
            "375/375 [==============================] - 1s 4ms/step - loss: 0.0597 - accuracy: 0.9807 - val_loss: 0.0509 - val_accuracy: 0.9855\n",
            "Epoch 7/10\n",
            "375/375 [==============================] - 1s 4ms/step - loss: 0.0532 - accuracy: 0.9823 - val_loss: 0.0459 - val_accuracy: 0.9871\n",
            "Epoch 8/10\n",
            "375/375 [==============================] - 1s 4ms/step - loss: 0.0469 - accuracy: 0.9843 - val_loss: 0.0441 - val_accuracy: 0.9879\n",
            "Epoch 9/10\n",
            "375/375 [==============================] - 2s 4ms/step - loss: 0.0457 - accuracy: 0.9851 - val_loss: 0.0451 - val_accuracy: 0.9867\n",
            "Epoch 10/10\n",
            "375/375 [==============================] - 2s 4ms/step - loss: 0.0416 - accuracy: 0.9866 - val_loss: 0.0466 - val_accuracy: 0.9884\n",
            "Epoch 1/10\n",
            "375/375 [==============================] - 2s 4ms/step - loss: 0.4648 - accuracy: 0.8546 - val_loss: 0.1322 - val_accuracy: 0.9613\n",
            "Epoch 2/10\n",
            "375/375 [==============================] - 1s 4ms/step - loss: 0.1841 - accuracy: 0.9411 - val_loss: 0.0862 - val_accuracy: 0.9729\n",
            "Epoch 3/10\n",
            "375/375 [==============================] - 2s 4ms/step - loss: 0.1347 - accuracy: 0.9571 - val_loss: 0.0730 - val_accuracy: 0.9776\n",
            "Epoch 4/10\n",
            "375/375 [==============================] - 1s 4ms/step - loss: 0.1145 - accuracy: 0.9636 - val_loss: 0.0668 - val_accuracy: 0.9787\n",
            "Epoch 5/10\n",
            "375/375 [==============================] - 2s 4ms/step - loss: 0.1019 - accuracy: 0.9674 - val_loss: 0.0576 - val_accuracy: 0.9818\n",
            "Epoch 6/10\n",
            "375/375 [==============================] - 1s 4ms/step - loss: 0.0926 - accuracy: 0.9700 - val_loss: 0.0578 - val_accuracy: 0.9823\n",
            "Epoch 7/10\n",
            "375/375 [==============================] - 1s 4ms/step - loss: 0.0847 - accuracy: 0.9724 - val_loss: 0.0529 - val_accuracy: 0.9841\n",
            "Epoch 8/10\n",
            "375/375 [==============================] - 2s 4ms/step - loss: 0.0777 - accuracy: 0.9753 - val_loss: 0.0524 - val_accuracy: 0.9832\n",
            "Epoch 9/10\n",
            "375/375 [==============================] - 2s 4ms/step - loss: 0.0728 - accuracy: 0.9765 - val_loss: 0.0507 - val_accuracy: 0.9844\n",
            "Epoch 10/10\n",
            "375/375 [==============================] - 2s 4ms/step - loss: 0.0695 - accuracy: 0.9772 - val_loss: 0.0506 - val_accuracy: 0.9850\n",
            "Epoch 1/10\n",
            "375/375 [==============================] - 4s 8ms/step - loss: 0.2287 - accuracy: 0.9306 - val_loss: 0.1275 - val_accuracy: 0.9609\n",
            "Epoch 2/10\n",
            "375/375 [==============================] - 3s 7ms/step - loss: 0.1059 - accuracy: 0.9675 - val_loss: 0.0915 - val_accuracy: 0.9733\n",
            "Epoch 3/10\n",
            "375/375 [==============================] - 3s 7ms/step - loss: 0.0900 - accuracy: 0.9720 - val_loss: 0.0788 - val_accuracy: 0.9775\n",
            "Epoch 4/10\n",
            "375/375 [==============================] - 3s 7ms/step - loss: 0.0775 - accuracy: 0.9757 - val_loss: 0.0752 - val_accuracy: 0.9780\n",
            "Epoch 5/10\n",
            "375/375 [==============================] - 3s 7ms/step - loss: 0.0707 - accuracy: 0.9773 - val_loss: 0.0997 - val_accuracy: 0.9723\n",
            "Epoch 6/10\n",
            "375/375 [==============================] - 3s 7ms/step - loss: 0.0641 - accuracy: 0.9794 - val_loss: 0.0851 - val_accuracy: 0.9764\n",
            "Epoch 7/10\n",
            "375/375 [==============================] - 3s 7ms/step - loss: 0.0652 - accuracy: 0.9789 - val_loss: 0.0960 - val_accuracy: 0.9753\n",
            "Epoch 8/10\n",
            "375/375 [==============================] - 3s 7ms/step - loss: 0.0596 - accuracy: 0.9804 - val_loss: 0.0891 - val_accuracy: 0.9774\n",
            "Epoch 9/10\n",
            "375/375 [==============================] - 3s 7ms/step - loss: 0.0569 - accuracy: 0.9809 - val_loss: 0.0829 - val_accuracy: 0.9783\n",
            "Epoch 10/10\n",
            "375/375 [==============================] - 3s 7ms/step - loss: 0.0523 - accuracy: 0.9822 - val_loss: 0.0827 - val_accuracy: 0.9783\n",
            "Epoch 1/10\n",
            "4800/4800 [==============================] - 18s 4ms/step - loss: 0.1333 - accuracy: 0.9602 - val_loss: 0.0531 - val_accuracy: 0.9832\n",
            "Epoch 2/10\n",
            "4800/4800 [==============================] - 16s 3ms/step - loss: 0.0568 - accuracy: 0.9817 - val_loss: 0.0477 - val_accuracy: 0.9865\n",
            "Epoch 3/10\n",
            "4800/4800 [==============================] - 16s 3ms/step - loss: 0.0381 - accuracy: 0.9881 - val_loss: 0.0548 - val_accuracy: 0.9838\n",
            "Epoch 4/10\n",
            "4800/4800 [==============================] - 17s 4ms/step - loss: 0.0306 - accuracy: 0.9903 - val_loss: 0.0429 - val_accuracy: 0.9897\n",
            "Epoch 5/10\n",
            "4800/4800 [==============================] - 16s 3ms/step - loss: 0.0253 - accuracy: 0.9919 - val_loss: 0.0403 - val_accuracy: 0.9902\n",
            "Epoch 6/10\n",
            "4800/4800 [==============================] - 17s 3ms/step - loss: 0.0219 - accuracy: 0.9929 - val_loss: 0.0408 - val_accuracy: 0.9906\n",
            "Epoch 7/10\n",
            "4800/4800 [==============================] - 16s 3ms/step - loss: 0.0165 - accuracy: 0.9947 - val_loss: 0.0404 - val_accuracy: 0.9904\n",
            "Epoch 8/10\n",
            "4800/4800 [==============================] - 16s 3ms/step - loss: 0.0148 - accuracy: 0.9952 - val_loss: 0.0421 - val_accuracy: 0.9901\n",
            "Epoch 9/10\n",
            "4800/4800 [==============================] - 16s 3ms/step - loss: 0.0142 - accuracy: 0.9957 - val_loss: 0.0463 - val_accuracy: 0.9883\n",
            "Epoch 10/10\n",
            "4800/4800 [==============================] - 17s 4ms/step - loss: 0.0127 - accuracy: 0.9960 - val_loss: 0.0375 - val_accuracy: 0.9912\n",
            "Epoch 1/10\n",
            "480/480 [==============================] - 3s 6ms/step - loss: 0.1802 - accuracy: 0.9446 - val_loss: 0.0571 - val_accuracy: 0.9830\n",
            "Epoch 2/10\n",
            "480/480 [==============================] - 3s 6ms/step - loss: 0.0562 - accuracy: 0.9830 - val_loss: 0.0463 - val_accuracy: 0.9862\n",
            "Epoch 3/10\n",
            "480/480 [==============================] - 3s 6ms/step - loss: 0.0378 - accuracy: 0.9873 - val_loss: 0.0363 - val_accuracy: 0.9895\n",
            "Epoch 4/10\n",
            "480/480 [==============================] - 3s 5ms/step - loss: 0.0283 - accuracy: 0.9910 - val_loss: 0.0373 - val_accuracy: 0.9893\n",
            "Epoch 5/10\n",
            "480/480 [==============================] - 3s 6ms/step - loss: 0.0241 - accuracy: 0.9924 - val_loss: 0.0416 - val_accuracy: 0.9883\n",
            "Epoch 6/10\n",
            "480/480 [==============================] - 3s 6ms/step - loss: 0.0198 - accuracy: 0.9931 - val_loss: 0.0461 - val_accuracy: 0.9893\n",
            "Epoch 7/10\n",
            "480/480 [==============================] - 3s 6ms/step - loss: 0.0164 - accuracy: 0.9944 - val_loss: 0.0401 - val_accuracy: 0.9904\n",
            "Epoch 8/10\n",
            "480/480 [==============================] - 3s 6ms/step - loss: 0.0145 - accuracy: 0.9952 - val_loss: 0.0408 - val_accuracy: 0.9901\n",
            "Epoch 9/10\n",
            "480/480 [==============================] - 3s 6ms/step - loss: 0.0147 - accuracy: 0.9950 - val_loss: 0.0402 - val_accuracy: 0.9908\n",
            "Epoch 10/10\n",
            "480/480 [==============================] - 3s 6ms/step - loss: 0.0111 - accuracy: 0.9962 - val_loss: 0.0390 - val_accuracy: 0.9899\n",
            "Epoch 1/10\n",
            "4/4 [==============================] - 10s 1s/step - loss: 1.9129 - accuracy: 0.4172 - val_loss: 0.8089 - val_accuracy: 0.8319\n",
            "Epoch 2/10\n",
            "4/4 [==============================] - 2s 504ms/step - loss: 0.7262 - accuracy: 0.7979 - val_loss: 0.9355 - val_accuracy: 0.8572\n",
            "Epoch 3/10\n",
            "4/4 [==============================] - 2s 503ms/step - loss: 0.4602 - accuracy: 0.8553 - val_loss: 0.7568 - val_accuracy: 0.8939\n",
            "Epoch 4/10\n",
            "4/4 [==============================] - 2s 505ms/step - loss: 0.3669 - accuracy: 0.8949 - val_loss: 0.6009 - val_accuracy: 0.9071\n",
            "Epoch 5/10\n",
            "4/4 [==============================] - 2s 504ms/step - loss: 0.2902 - accuracy: 0.9155 - val_loss: 0.4448 - val_accuracy: 0.9155\n",
            "Epoch 6/10\n",
            "4/4 [==============================] - 2s 506ms/step - loss: 0.2340 - accuracy: 0.9322 - val_loss: 0.3113 - val_accuracy: 0.9290\n",
            "Epoch 7/10\n",
            "4/4 [==============================] - 2s 509ms/step - loss: 0.2021 - accuracy: 0.9405 - val_loss: 0.2509 - val_accuracy: 0.9364\n",
            "Epoch 8/10\n",
            "4/4 [==============================] - 2s 510ms/step - loss: 0.1727 - accuracy: 0.9490 - val_loss: 0.2431 - val_accuracy: 0.9381\n",
            "Epoch 9/10\n",
            "4/4 [==============================] - 2s 508ms/step - loss: 0.1517 - accuracy: 0.9543 - val_loss: 0.1935 - val_accuracy: 0.9510\n",
            "Epoch 10/10\n",
            "4/4 [==============================] - 2s 508ms/step - loss: 0.1331 - accuracy: 0.9595 - val_loss: 0.1764 - val_accuracy: 0.9553\n"
          ],
          "name": "stdout"
        }
      ]
    },
    {
      "cell_type": "code",
      "metadata": {
        "id": "YCQjzvQRkPRE",
        "colab": {
          "base_uri": "https://localhost:8080/"
        },
        "outputId": "6db59929-562d-47ad-ba48-b7d50476a058"
      },
      "source": [
        "# чистим оперативную память\n",
        "import gc    \n",
        "gc.collect()"
      ],
      "execution_count": null,
      "outputs": [
        {
          "output_type": "execute_result",
          "data": {
            "text/plain": [
              "88"
            ]
          },
          "metadata": {
            "tags": []
          },
          "execution_count": 17
        }
      ]
    },
    {
      "cell_type": "code",
      "metadata": {
        "id": "rn9e4DDhsXB9",
        "colab": {
          "base_uri": "https://localhost:8080/",
          "height": 454
        },
        "outputId": "e26e7264-bed8-44da-bff1-2b5da0d12f20"
      },
      "source": [
        "# 3.2 batch_size=48000\n",
        "\n",
        "model = Sequential()\n",
        "\n",
        "model.add(BatchNormalization(input_shape=(28, 28, 1)))\n",
        "model.add(Conv2D(32, (3, 3), padding='same', activation='relu'))\n",
        "model.add(Conv2D(32, (3, 3), padding='same', activation='relu'))\n",
        "model.add(MaxPooling2D(pool_size=(2, 2)))\n",
        "model.add(Dropout(0.25))\n",
        "\n",
        "model.add(Flatten())\n",
        "model.add(Dense(256, activation='relu'))\n",
        "model.add(Dropout(0.25))\n",
        "model.add(Dense(10, activation='softmax'))\n",
        "\n",
        "# Компилируем сеть\n",
        "model.compile(loss=\"categorical_crossentropy\", optimizer=\"adam\", metrics=[\"accuracy\"])\n",
        "\n",
        "# Обучаем сеть \n",
        "history = model.fit(x_train, \n",
        "                    y_train, \n",
        "                    batch_size=48000, \n",
        "                    epochs=10,\n",
        "                    validation_split=0.2,\n",
        "                    verbose=1)"
      ],
      "execution_count": null,
      "outputs": [
        {
          "output_type": "stream",
          "text": [
            "Epoch 1/10\n"
          ],
          "name": "stdout"
        },
        {
          "output_type": "error",
          "ename": "ResourceExhaustedError",
          "evalue": "ignored",
          "traceback": [
            "\u001b[0;31m---------------------------------------------------------------------------\u001b[0m",
            "\u001b[0;31mResourceExhaustedError\u001b[0m                    Traceback (most recent call last)",
            "\u001b[0;32m<ipython-input-13-7f5898582daf>\u001b[0m in \u001b[0;36m<module>\u001b[0;34m()\u001b[0m\n\u001b[1;32m     23\u001b[0m                     \u001b[0mepochs\u001b[0m\u001b[0;34m=\u001b[0m\u001b[0;36m10\u001b[0m\u001b[0;34m,\u001b[0m\u001b[0;34m\u001b[0m\u001b[0;34m\u001b[0m\u001b[0m\n\u001b[1;32m     24\u001b[0m                     \u001b[0mvalidation_split\u001b[0m\u001b[0;34m=\u001b[0m\u001b[0;36m0.2\u001b[0m\u001b[0;34m,\u001b[0m\u001b[0;34m\u001b[0m\u001b[0;34m\u001b[0m\u001b[0m\n\u001b[0;32m---> 25\u001b[0;31m                     verbose=1)\n\u001b[0m",
            "\u001b[0;32m/usr/local/lib/python3.7/dist-packages/tensorflow/python/keras/engine/training.py\u001b[0m in \u001b[0;36mfit\u001b[0;34m(self, x, y, batch_size, epochs, verbose, callbacks, validation_split, validation_data, shuffle, class_weight, sample_weight, initial_epoch, steps_per_epoch, validation_steps, validation_batch_size, validation_freq, max_queue_size, workers, use_multiprocessing)\u001b[0m\n\u001b[1;32m   1181\u001b[0m                 _r=1):\n\u001b[1;32m   1182\u001b[0m               \u001b[0mcallbacks\u001b[0m\u001b[0;34m.\u001b[0m\u001b[0mon_train_batch_begin\u001b[0m\u001b[0;34m(\u001b[0m\u001b[0mstep\u001b[0m\u001b[0;34m)\u001b[0m\u001b[0;34m\u001b[0m\u001b[0;34m\u001b[0m\u001b[0m\n\u001b[0;32m-> 1183\u001b[0;31m               \u001b[0mtmp_logs\u001b[0m \u001b[0;34m=\u001b[0m \u001b[0mself\u001b[0m\u001b[0;34m.\u001b[0m\u001b[0mtrain_function\u001b[0m\u001b[0;34m(\u001b[0m\u001b[0miterator\u001b[0m\u001b[0;34m)\u001b[0m\u001b[0;34m\u001b[0m\u001b[0;34m\u001b[0m\u001b[0m\n\u001b[0m\u001b[1;32m   1184\u001b[0m               \u001b[0;32mif\u001b[0m \u001b[0mdata_handler\u001b[0m\u001b[0;34m.\u001b[0m\u001b[0mshould_sync\u001b[0m\u001b[0;34m:\u001b[0m\u001b[0;34m\u001b[0m\u001b[0;34m\u001b[0m\u001b[0m\n\u001b[1;32m   1185\u001b[0m                 \u001b[0mcontext\u001b[0m\u001b[0;34m.\u001b[0m\u001b[0masync_wait\u001b[0m\u001b[0;34m(\u001b[0m\u001b[0;34m)\u001b[0m\u001b[0;34m\u001b[0m\u001b[0;34m\u001b[0m\u001b[0m\n",
            "\u001b[0;32m/usr/local/lib/python3.7/dist-packages/tensorflow/python/eager/def_function.py\u001b[0m in \u001b[0;36m__call__\u001b[0;34m(self, *args, **kwds)\u001b[0m\n\u001b[1;32m    887\u001b[0m \u001b[0;34m\u001b[0m\u001b[0m\n\u001b[1;32m    888\u001b[0m       \u001b[0;32mwith\u001b[0m \u001b[0mOptionalXlaContext\u001b[0m\u001b[0;34m(\u001b[0m\u001b[0mself\u001b[0m\u001b[0;34m.\u001b[0m\u001b[0m_jit_compile\u001b[0m\u001b[0;34m)\u001b[0m\u001b[0;34m:\u001b[0m\u001b[0;34m\u001b[0m\u001b[0;34m\u001b[0m\u001b[0m\n\u001b[0;32m--> 889\u001b[0;31m         \u001b[0mresult\u001b[0m \u001b[0;34m=\u001b[0m \u001b[0mself\u001b[0m\u001b[0;34m.\u001b[0m\u001b[0m_call\u001b[0m\u001b[0;34m(\u001b[0m\u001b[0;34m*\u001b[0m\u001b[0margs\u001b[0m\u001b[0;34m,\u001b[0m \u001b[0;34m**\u001b[0m\u001b[0mkwds\u001b[0m\u001b[0;34m)\u001b[0m\u001b[0;34m\u001b[0m\u001b[0;34m\u001b[0m\u001b[0m\n\u001b[0m\u001b[1;32m    890\u001b[0m \u001b[0;34m\u001b[0m\u001b[0m\n\u001b[1;32m    891\u001b[0m       \u001b[0mnew_tracing_count\u001b[0m \u001b[0;34m=\u001b[0m \u001b[0mself\u001b[0m\u001b[0;34m.\u001b[0m\u001b[0mexperimental_get_tracing_count\u001b[0m\u001b[0;34m(\u001b[0m\u001b[0;34m)\u001b[0m\u001b[0;34m\u001b[0m\u001b[0;34m\u001b[0m\u001b[0m\n",
            "\u001b[0;32m/usr/local/lib/python3.7/dist-packages/tensorflow/python/eager/def_function.py\u001b[0m in \u001b[0;36m_call\u001b[0;34m(self, *args, **kwds)\u001b[0m\n\u001b[1;32m    948\u001b[0m         \u001b[0;31m# Lifting succeeded, so variables are initialized and we can run the\u001b[0m\u001b[0;34m\u001b[0m\u001b[0;34m\u001b[0m\u001b[0;34m\u001b[0m\u001b[0m\n\u001b[1;32m    949\u001b[0m         \u001b[0;31m# stateless function.\u001b[0m\u001b[0;34m\u001b[0m\u001b[0;34m\u001b[0m\u001b[0;34m\u001b[0m\u001b[0m\n\u001b[0;32m--> 950\u001b[0;31m         \u001b[0;32mreturn\u001b[0m \u001b[0mself\u001b[0m\u001b[0;34m.\u001b[0m\u001b[0m_stateless_fn\u001b[0m\u001b[0;34m(\u001b[0m\u001b[0;34m*\u001b[0m\u001b[0margs\u001b[0m\u001b[0;34m,\u001b[0m \u001b[0;34m**\u001b[0m\u001b[0mkwds\u001b[0m\u001b[0;34m)\u001b[0m\u001b[0;34m\u001b[0m\u001b[0;34m\u001b[0m\u001b[0m\n\u001b[0m\u001b[1;32m    951\u001b[0m     \u001b[0;32melse\u001b[0m\u001b[0;34m:\u001b[0m\u001b[0;34m\u001b[0m\u001b[0;34m\u001b[0m\u001b[0m\n\u001b[1;32m    952\u001b[0m       \u001b[0m_\u001b[0m\u001b[0;34m,\u001b[0m \u001b[0m_\u001b[0m\u001b[0;34m,\u001b[0m \u001b[0m_\u001b[0m\u001b[0;34m,\u001b[0m \u001b[0mfiltered_flat_args\u001b[0m \u001b[0;34m=\u001b[0m\u001b[0;31m \u001b[0m\u001b[0;31m\\\u001b[0m\u001b[0;34m\u001b[0m\u001b[0;34m\u001b[0m\u001b[0m\n",
            "\u001b[0;32m/usr/local/lib/python3.7/dist-packages/tensorflow/python/eager/function.py\u001b[0m in \u001b[0;36m__call__\u001b[0;34m(self, *args, **kwargs)\u001b[0m\n\u001b[1;32m   3022\u001b[0m        filtered_flat_args) = self._maybe_define_function(args, kwargs)\n\u001b[1;32m   3023\u001b[0m     return graph_function._call_flat(\n\u001b[0;32m-> 3024\u001b[0;31m         filtered_flat_args, captured_inputs=graph_function.captured_inputs)  # pylint: disable=protected-access\n\u001b[0m\u001b[1;32m   3025\u001b[0m \u001b[0;34m\u001b[0m\u001b[0m\n\u001b[1;32m   3026\u001b[0m   \u001b[0;34m@\u001b[0m\u001b[0mproperty\u001b[0m\u001b[0;34m\u001b[0m\u001b[0;34m\u001b[0m\u001b[0m\n",
            "\u001b[0;32m/usr/local/lib/python3.7/dist-packages/tensorflow/python/eager/function.py\u001b[0m in \u001b[0;36m_call_flat\u001b[0;34m(self, args, captured_inputs, cancellation_manager)\u001b[0m\n\u001b[1;32m   1959\u001b[0m       \u001b[0;31m# No tape is watching; skip to running the function.\u001b[0m\u001b[0;34m\u001b[0m\u001b[0;34m\u001b[0m\u001b[0;34m\u001b[0m\u001b[0m\n\u001b[1;32m   1960\u001b[0m       return self._build_call_outputs(self._inference_function.call(\n\u001b[0;32m-> 1961\u001b[0;31m           ctx, args, cancellation_manager=cancellation_manager))\n\u001b[0m\u001b[1;32m   1962\u001b[0m     forward_backward = self._select_forward_and_backward_functions(\n\u001b[1;32m   1963\u001b[0m         \u001b[0margs\u001b[0m\u001b[0;34m,\u001b[0m\u001b[0;34m\u001b[0m\u001b[0;34m\u001b[0m\u001b[0m\n",
            "\u001b[0;32m/usr/local/lib/python3.7/dist-packages/tensorflow/python/eager/function.py\u001b[0m in \u001b[0;36mcall\u001b[0;34m(self, ctx, args, cancellation_manager)\u001b[0m\n\u001b[1;32m    594\u001b[0m               \u001b[0minputs\u001b[0m\u001b[0;34m=\u001b[0m\u001b[0margs\u001b[0m\u001b[0;34m,\u001b[0m\u001b[0;34m\u001b[0m\u001b[0;34m\u001b[0m\u001b[0m\n\u001b[1;32m    595\u001b[0m               \u001b[0mattrs\u001b[0m\u001b[0;34m=\u001b[0m\u001b[0mattrs\u001b[0m\u001b[0;34m,\u001b[0m\u001b[0;34m\u001b[0m\u001b[0;34m\u001b[0m\u001b[0m\n\u001b[0;32m--> 596\u001b[0;31m               ctx=ctx)\n\u001b[0m\u001b[1;32m    597\u001b[0m         \u001b[0;32melse\u001b[0m\u001b[0;34m:\u001b[0m\u001b[0;34m\u001b[0m\u001b[0;34m\u001b[0m\u001b[0m\n\u001b[1;32m    598\u001b[0m           outputs = execute.execute_with_cancellation(\n",
            "\u001b[0;32m/usr/local/lib/python3.7/dist-packages/tensorflow/python/eager/execute.py\u001b[0m in \u001b[0;36mquick_execute\u001b[0;34m(op_name, num_outputs, inputs, attrs, ctx, name)\u001b[0m\n\u001b[1;32m     58\u001b[0m     \u001b[0mctx\u001b[0m\u001b[0;34m.\u001b[0m\u001b[0mensure_initialized\u001b[0m\u001b[0;34m(\u001b[0m\u001b[0;34m)\u001b[0m\u001b[0;34m\u001b[0m\u001b[0;34m\u001b[0m\u001b[0m\n\u001b[1;32m     59\u001b[0m     tensors = pywrap_tfe.TFE_Py_Execute(ctx._handle, device_name, op_name,\n\u001b[0;32m---> 60\u001b[0;31m                                         inputs, attrs, num_outputs)\n\u001b[0m\u001b[1;32m     61\u001b[0m   \u001b[0;32mexcept\u001b[0m \u001b[0mcore\u001b[0m\u001b[0;34m.\u001b[0m\u001b[0m_NotOkStatusException\u001b[0m \u001b[0;32mas\u001b[0m \u001b[0me\u001b[0m\u001b[0;34m:\u001b[0m\u001b[0;34m\u001b[0m\u001b[0;34m\u001b[0m\u001b[0m\n\u001b[1;32m     62\u001b[0m     \u001b[0;32mif\u001b[0m \u001b[0mname\u001b[0m \u001b[0;32mis\u001b[0m \u001b[0;32mnot\u001b[0m \u001b[0;32mNone\u001b[0m\u001b[0;34m:\u001b[0m\u001b[0;34m\u001b[0m\u001b[0;34m\u001b[0m\u001b[0m\n",
            "\u001b[0;31mResourceExhaustedError\u001b[0m:  OOM when allocating tensor with shape[48000,32,28,28] and type float on /job:localhost/replica:0/task:0/device:GPU:0 by allocator gpu_host_bfc\n\t [[{{node swap_out_gradient_tape/sequential_1/conv2d_2/ReluGrad_1}}]]\nHint: If you want to see a list of allocated tensors when OOM happens, add report_tensor_allocations_upon_oom to RunOptions for current allocation info.\n [Op:__inference_train_function_18691]\n\nFunction call stack:\ntrain_function\n"
          ]
        }
      ]
    },
    {
      "cell_type": "code",
      "metadata": {
        "id": "VcpSk20qjv-V",
        "colab": {
          "base_uri": "https://localhost:8080/",
          "height": 178
        },
        "outputId": "840b1de2-a0de-4d04-fd85-7581b56564a8"
      },
      "source": [
        "df = pd.DataFrame(data, columns = ['filtres', 'activation', 'batch_size','val_accuracy'])\n",
        "df"
      ],
      "execution_count": null,
      "outputs": [
        {
          "output_type": "error",
          "ename": "NameError",
          "evalue": "ignored",
          "traceback": [
            "\u001b[0;31m---------------------------------------------------------------------------\u001b[0m",
            "\u001b[0;31mNameError\u001b[0m                                 Traceback (most recent call last)",
            "\u001b[0;32m<ipython-input-18-eff38688d62d>\u001b[0m in \u001b[0;36m<module>\u001b[0;34m()\u001b[0m\n\u001b[0;32m----> 1\u001b[0;31m \u001b[0mdf\u001b[0m \u001b[0;34m=\u001b[0m \u001b[0mpd\u001b[0m\u001b[0;34m.\u001b[0m\u001b[0mDataFrame\u001b[0m\u001b[0;34m(\u001b[0m\u001b[0mdata\u001b[0m\u001b[0;34m,\u001b[0m \u001b[0mcolumns\u001b[0m \u001b[0;34m=\u001b[0m \u001b[0;34m[\u001b[0m\u001b[0;34m'filtres'\u001b[0m\u001b[0;34m,\u001b[0m \u001b[0;34m'activation'\u001b[0m\u001b[0;34m,\u001b[0m \u001b[0;34m'batch_size'\u001b[0m\u001b[0;34m,\u001b[0m\u001b[0;34m'val_accuracy'\u001b[0m\u001b[0;34m]\u001b[0m\u001b[0;34m)\u001b[0m\u001b[0;34m\u001b[0m\u001b[0;34m\u001b[0m\u001b[0m\n\u001b[0m\u001b[1;32m      2\u001b[0m \u001b[0mdf\u001b[0m\u001b[0;34m\u001b[0m\u001b[0;34m\u001b[0m\u001b[0m\n",
            "\u001b[0;31mNameError\u001b[0m: name 'data' is not defined"
          ]
        }
      ]
    },
    {
      "cell_type": "code",
      "metadata": {
        "id": "S_e89FNwmE8G"
      },
      "source": [
        "# Выводы:"
      ],
      "execution_count": null,
      "outputs": []
    },
    {
      "cell_type": "markdown",
      "metadata": {
        "id": "5pWIbIXAa-7r"
      },
      "source": [
        "# Выводы:\n",
        "### Добавление количества фильтров существенно не влияет на точность НС\n",
        "### увеличение batch_size выше 10000 может ухудшить ситуацию, но появилась гипотеза о том, что это может быть связано с нехваткой оп. памяти в коллабе, поскольку обучение по batch_size=48000 вызывает ситуацию переполнения стека. Чистка ОЗУ не помогает"
      ]
    },
    {
      "cell_type": "markdown",
      "metadata": {
        "id": "Au624gLArKWX"
      },
      "source": [
        "# Pro Вариант 2\n",
        "\n",
        "Добейтесь точности 90% на проверочной выборке на базе Cifar10. Размер проверочной выборки - 20%.\n"
      ]
    },
    {
      "cell_type": "code",
      "metadata": {
        "id": "ctFnhwX2OfhH",
        "colab": {
          "base_uri": "https://localhost:8080/"
        },
        "outputId": "3bc6a70f-b70f-4cc0-f4d0-86b1b87e0333"
      },
      "source": [
        "#Загружаем cifar10\n",
        "(x_train10, y_train10), (x_test10, y_test10) = cifar10.load_data()\n",
        "\n",
        "# Определяем названия классов по порядку\n",
        "classes = ['самолет', 'автомобиль', 'птица', 'кот', 'олень', 'собака', 'лягушка', 'лошадь', 'корабль', 'грузовик']\n",
        "\n",
        "# Превращаем y_train и y_test в формат one hot encoding\n",
        "y_train10 = utils.to_categorical(y_train10, 10)\n",
        "y_test10 = utils.to_categorical(y_test10, 10)"
      ],
      "execution_count": null,
      "outputs": [
        {
          "output_type": "stream",
          "text": [
            "Downloading data from https://www.cs.toronto.edu/~kriz/cifar-10-python.tar.gz\n",
            "170500096/170498071 [==============================] - 4s 0us/step\n"
          ],
          "name": "stdout"
        }
      ]
    },
    {
      "cell_type": "code",
      "metadata": {
        "id": "2SPFEg-srL8n"
      },
      "source": [
        "def create_model():\n",
        "    model = Sequential()\n",
        "    # 1\n",
        "    model.add(BatchNormalization(input_shape=(32,32,3)))\n",
        "    model.add(Conv2D(1024, 3, padding='same', activation='relu'))\n",
        "    model.add(Conv2D(1024, 3, padding='same', activation='relu'))\n",
        "    model.add(MaxPooling2D())\n",
        "    model.add(Dropout(0.4))\n",
        "    # 2\n",
        "    model.add(BatchNormalization())\n",
        "    model.add(Conv2D(512, 3, padding='same', activation='relu'))\n",
        "    model.add(Conv2D(512, 3, padding='same', activation='relu'))\n",
        "    model.add(MaxPooling2D())\n",
        "    model.add(Dropout(0.4))\n",
        "    # 3\n",
        "    model.add(BatchNormalization())\n",
        "    model.add(Conv2D(256, 3, padding='same', activation='relu'))\n",
        "    model.add(Conv2D(256, 3, padding='same', activation='relu'))\n",
        "    model.add(MaxPooling2D())\n",
        "    model.add(Dropout(0.4))\n",
        "    # 4\n",
        "    model.add(BatchNormalization())\n",
        "    model.add(Conv2D(128, 3, padding='same', activation='relu'))\n",
        "    model.add(Conv2D(128, 3, padding='same', activation='relu'))\n",
        "    model.add(MaxPooling2D())\n",
        "    model.add(Dropout(0.4))\n",
        "    # 5\n",
        "    model.add(BatchNormalization())\n",
        "    model.add(Conv2D(64, 3, padding='same', activation='relu'))\n",
        "    model.add(Conv2D(64, 3, padding='same', activation='relu'))\n",
        "    model.add(Dropout(0.4))\n",
        "    # 6\n",
        "    model.add(BatchNormalization())\n",
        "    model.add(Conv2D(32, 3, padding='same', activation='relu'))\n",
        "    model.add(Conv2D(32, 3, padding='same', activation='relu'))\n",
        "    model.add(Dropout(0.4))\n",
        "\n",
        "    model.add(Flatten())\n",
        "\n",
        "    model.add(Dense(1024, activation='relu'))\n",
        "    model.add(Dropout(0.2))\n",
        "    model.add(Dense(512, activation='relu'))\n",
        "\n",
        "    # Выходной полносвязный слой\n",
        "    model.add(Dense(10, activation='softmax'))\n",
        "\n",
        "    return model"
      ],
      "execution_count": null,
      "outputs": []
    },
    {
      "cell_type": "code",
      "metadata": {
        "id": "R-CS7PcurNQz"
      },
      "source": [
        "# Генератор изображений\n",
        "datagen_train = ImageDataGenerator(\n",
        "    horizontal_flip=True,\n",
        "    rotation_range=20) \n",
        "\n",
        "# Обучаем модель в пакетном режиме с дополнением данных в реальном времени\n",
        "datagen_train.fit(x_train10)  "
      ],
      "execution_count": null,
      "outputs": []
    },
    {
      "cell_type": "code",
      "metadata": {
        "id": "7R0M5BckrNQ_"
      },
      "source": [
        "batch_size = 128 # Размер батча\n",
        "steps_per_epoch = len(x_train10) // batch_size # Общее количество шагов (партий образцов)"
      ],
      "execution_count": null,
      "outputs": []
    },
    {
      "cell_type": "code",
      "metadata": {
        "id": "4x9kl2aVrNRD",
        "colab": {
          "base_uri": "https://localhost:8080/",
          "height": 1000
        },
        "outputId": "db1091ed-9ecd-4ba5-e06d-163e7919bf27"
      },
      "source": [
        "# Создаем модель\n",
        "model = create\n",
        "_model()\n",
        "\n",
        "# Компилируем сеть\n",
        "model.compile(loss='categorical_crossentropy', optimizer=Adam(lr=0.001), metrics=['accuracy'])\n",
        "\n",
        "# Обучаем сеть\n",
        "history = model.fit(datagen_train.flow(x_train10, y_train10, batch_size=batch_size),    # В последних версиях можно указывать fit при работе с генератором\n",
        "                    steps_per_epoch=steps_per_epoch, \n",
        "                    epochs=40, \n",
        "                    validation_data=datagen_train.flow(x_test10, y_test10, batch_size=batch_size))\n",
        "\n",
        "\n",
        "# Отображаем график точности обучения\n",
        "plt.plot(history.history['accuracy'], label='Доля верных ответов на обучающем наборе')\n",
        "plt.plot(history.history['val_accuracy'], label='Доля верных ответов на проверочном наборе')\n",
        "plt.xlabel('Эпоха обучения')\n",
        "plt.ylabel('Доля верных ответов')\n",
        "plt.legend()\n",
        "plt.show()"
      ],
      "execution_count": null,
      "outputs": [
        {
          "output_type": "stream",
          "text": [
            "/usr/local/lib/python3.7/dist-packages/tensorflow/python/keras/optimizer_v2/optimizer_v2.py:375: UserWarning: The `lr` argument is deprecated, use `learning_rate` instead.\n",
            "  \"The `lr` argument is deprecated, use `learning_rate` instead.\")\n"
          ],
          "name": "stderr"
        },
        {
          "output_type": "stream",
          "text": [
            "Epoch 1/40\n",
            "390/390 [==============================] - 381s 849ms/step - loss: 1.7915 - accuracy: 0.3153 - val_loss: 2.3804 - val_accuracy: 0.3204\n",
            "Epoch 2/40\n",
            "390/390 [==============================] - 308s 790ms/step - loss: 1.3634 - accuracy: 0.5044 - val_loss: 1.2614 - val_accuracy: 0.5602\n",
            "Epoch 3/40\n",
            "390/390 [==============================] - 307s 788ms/step - loss: 1.1357 - accuracy: 0.6045 - val_loss: 1.0606 - val_accuracy: 0.6359\n",
            "Epoch 4/40\n",
            "390/390 [==============================] - 306s 785ms/step - loss: 0.9684 - accuracy: 0.6682 - val_loss: 0.8531 - val_accuracy: 0.6994\n",
            "Epoch 5/40\n",
            "390/390 [==============================] - 305s 781ms/step - loss: 0.8731 - accuracy: 0.7087 - val_loss: 0.8768 - val_accuracy: 0.7074\n",
            "Epoch 6/40\n",
            "390/390 [==============================] - 304s 780ms/step - loss: 0.8024 - accuracy: 0.7361 - val_loss: 0.7520 - val_accuracy: 0.7462\n",
            "Epoch 7/40\n",
            "390/390 [==============================] - 303s 778ms/step - loss: 0.7355 - accuracy: 0.7606 - val_loss: 0.7854 - val_accuracy: 0.7517\n",
            "Epoch 8/40\n",
            "390/390 [==============================] - 303s 776ms/step - loss: 0.6828 - accuracy: 0.7812 - val_loss: 0.6581 - val_accuracy: 0.7895\n",
            "Epoch 9/40\n",
            "390/390 [==============================] - 303s 776ms/step - loss: 0.6491 - accuracy: 0.7912 - val_loss: 0.6394 - val_accuracy: 0.7907\n",
            "Epoch 10/40\n",
            "390/390 [==============================] - 302s 774ms/step - loss: 0.6088 - accuracy: 0.8059 - val_loss: 0.6010 - val_accuracy: 0.8129\n",
            "Epoch 11/40\n",
            "390/390 [==============================] - 302s 774ms/step - loss: 0.5790 - accuracy: 0.8161 - val_loss: 0.7498 - val_accuracy: 0.7670\n",
            "Epoch 12/40\n",
            "390/390 [==============================] - 301s 771ms/step - loss: 0.5557 - accuracy: 0.8241 - val_loss: 0.5740 - val_accuracy: 0.8165\n",
            "Epoch 13/40\n",
            "390/390 [==============================] - 301s 772ms/step - loss: 0.5234 - accuracy: 0.8323 - val_loss: 0.5569 - val_accuracy: 0.8216\n",
            "Epoch 14/40\n",
            "390/390 [==============================] - 301s 771ms/step - loss: 0.5012 - accuracy: 0.8420 - val_loss: 0.5338 - val_accuracy: 0.8310\n",
            "Epoch 15/40\n",
            "390/390 [==============================] - 301s 771ms/step - loss: 0.4770 - accuracy: 0.8476 - val_loss: 0.5222 - val_accuracy: 0.8344\n",
            "Epoch 16/40\n",
            "390/390 [==============================] - 299s 768ms/step - loss: 0.4612 - accuracy: 0.8522 - val_loss: 0.4885 - val_accuracy: 0.8414\n",
            "Epoch 17/40\n",
            "390/390 [==============================] - 300s 768ms/step - loss: 0.4374 - accuracy: 0.8612 - val_loss: 0.5235 - val_accuracy: 0.8312\n",
            "Epoch 18/40\n",
            "390/390 [==============================] - 299s 767ms/step - loss: 0.4320 - accuracy: 0.8638 - val_loss: 0.4763 - val_accuracy: 0.8494\n",
            "Epoch 19/40\n",
            "390/390 [==============================] - 299s 768ms/step - loss: 0.4187 - accuracy: 0.8679 - val_loss: 0.4567 - val_accuracy: 0.8584\n",
            "Epoch 20/40\n",
            "390/390 [==============================] - 298s 765ms/step - loss: 0.3977 - accuracy: 0.8738 - val_loss: 0.4285 - val_accuracy: 0.8633\n",
            "Epoch 21/40\n",
            "390/390 [==============================] - 299s 766ms/step - loss: 0.3857 - accuracy: 0.8786 - val_loss: 0.4324 - val_accuracy: 0.8643\n",
            "Epoch 22/40\n",
            "390/390 [==============================] - 298s 764ms/step - loss: 0.3752 - accuracy: 0.8797 - val_loss: 0.4483 - val_accuracy: 0.8567\n",
            "Epoch 23/40\n",
            "390/390 [==============================] - 298s 765ms/step - loss: 0.3615 - accuracy: 0.8849 - val_loss: 0.4194 - val_accuracy: 0.8698\n",
            "Epoch 24/40\n",
            "390/390 [==============================] - 298s 764ms/step - loss: 0.3468 - accuracy: 0.8889 - val_loss: 0.4259 - val_accuracy: 0.8674\n",
            "Epoch 25/40\n",
            "390/390 [==============================] - 298s 764ms/step - loss: 0.3452 - accuracy: 0.8903 - val_loss: 0.4421 - val_accuracy: 0.8619\n",
            "Epoch 26/40\n",
            "390/390 [==============================] - 298s 764ms/step - loss: 0.3340 - accuracy: 0.8938 - val_loss: 0.3983 - val_accuracy: 0.8782\n",
            "Epoch 27/40\n",
            "390/390 [==============================] - 298s 763ms/step - loss: 0.3232 - accuracy: 0.8959 - val_loss: 0.4054 - val_accuracy: 0.8746\n",
            "Epoch 28/40\n",
            "390/390 [==============================] - 298s 763ms/step - loss: 0.3133 - accuracy: 0.8995 - val_loss: 0.4078 - val_accuracy: 0.8738\n",
            "Epoch 29/40\n",
            "390/390 [==============================] - 297s 761ms/step - loss: 0.3083 - accuracy: 0.9024 - val_loss: 0.4310 - val_accuracy: 0.8691\n",
            "Epoch 30/40\n",
            "390/390 [==============================] - 297s 763ms/step - loss: 0.2959 - accuracy: 0.9060 - val_loss: 0.3936 - val_accuracy: 0.8790\n",
            "Epoch 31/40\n",
            "390/390 [==============================] - 297s 762ms/step - loss: 0.2911 - accuracy: 0.9060 - val_loss: 0.3793 - val_accuracy: 0.8809\n",
            "Epoch 32/40\n",
            "390/390 [==============================] - 297s 762ms/step - loss: 0.2838 - accuracy: 0.9102 - val_loss: 0.3681 - val_accuracy: 0.8853\n",
            "Epoch 33/40\n",
            "390/390 [==============================] - 297s 762ms/step - loss: 0.2816 - accuracy: 0.9109 - val_loss: 0.3870 - val_accuracy: 0.8802\n",
            "Epoch 34/40\n",
            "390/390 [==============================] - 297s 761ms/step - loss: 0.2728 - accuracy: 0.9131 - val_loss: 0.3978 - val_accuracy: 0.8752\n",
            "Epoch 35/40\n",
            "390/390 [==============================] - 297s 762ms/step - loss: 0.2638 - accuracy: 0.9154 - val_loss: 0.3966 - val_accuracy: 0.8800\n",
            "Epoch 36/40\n",
            "390/390 [==============================] - 296s 760ms/step - loss: 0.2654 - accuracy: 0.9159 - val_loss: 0.4206 - val_accuracy: 0.8750\n",
            "Epoch 37/40\n",
            "390/390 [==============================] - 297s 760ms/step - loss: 0.2534 - accuracy: 0.9194 - val_loss: 0.3762 - val_accuracy: 0.8849\n",
            "Epoch 38/40\n",
            "390/390 [==============================] - 297s 761ms/step - loss: 0.2509 - accuracy: 0.9210 - val_loss: 0.3564 - val_accuracy: 0.8909\n",
            "Epoch 39/40\n",
            "390/390 [==============================] - 296s 759ms/step - loss: 0.2477 - accuracy: 0.9210 - val_loss: 0.3895 - val_accuracy: 0.8879\n",
            "Epoch 40/40\n",
            "390/390 [==============================] - 296s 759ms/step - loss: 0.2419 - accuracy: 0.9217 - val_loss: 0.4111 - val_accuracy: 0.8825\n"
          ],
          "name": "stdout"
        },
        {
          "output_type": "display_data",
          "data": {
            "image/png": "[encoded data removed]",
            "text/plain": [
              "<Figure size 432x288 with 1 Axes>"
            ]
          },
          "metadata": {
            "tags": [],
            "needs_background": "light"
          }
        }
      ]
    },
    {
      "cell_type": "markdown",
      "metadata": {
        "id": "7Th2caU1DfF8"
      },
      "source": [
        "### расчеты занимают достаточно много времени. Точность увеличивается постепенно и после 30й эпохи начинает превышать 90% - т.е. решает поставленную в задании задачу. Общее время обучения = 3 ч. 28 мин."
      ]
    },
    {
      "cell_type": "code",
      "metadata": {
        "id": "D-nGH0-5FCv_",
        "colab": {
          "base_uri": "https://localhost:8080/",
          "height": 1000
        },
        "outputId": "801e129b-e374-4e13-a05c-75cc8341adf8"
      },
      "source": [
        "batch_size = 128 # Размер батча\n",
        "steps_per_epoch = len(x_train10) // batch_size # Общее количество шагов (партий образцов)\n",
        "\n",
        "# Компилируем сеть\n",
        "model.compile(loss='categorical_crossentropy', optimizer=Adam(lr=0.0001), metrics=['accuracy'])\n",
        "# Обучаем сеть\n",
        "history = model.fit(datagen_train.flow(x_train10, y_train10, batch_size=batch_size),  # В последних версиях можно указывать fit при работе с генератором\n",
        "                    steps_per_epoch=steps_per_epoch, \n",
        "                    epochs=20, \n",
        "                    validation_data=datagen_train.flow(x_test10, y_test10, batch_size=batch_size))\n",
        "\n",
        "\n",
        "# Отображаем график точности обучения\n",
        "plt.plot(history.history['accuracy'], label='Доля верных ответов на обучающем наборе')\n",
        "plt.plot(history.history['val_accuracy'], label='Доля верных ответов на проверочном наборе')\n",
        "plt.xlabel('Эпоха обучения')\n",
        "plt.ylabel('Доля верных ответов')\n",
        "plt.legend()\n",
        "plt.show()"
      ],
      "execution_count": null,
      "outputs": [
        {
          "output_type": "stream",
          "text": [
            "/usr/local/lib/python3.7/dist-packages/tensorflow/python/keras/optimizer_v2/optimizer_v2.py:375: UserWarning: The `lr` argument is deprecated, use `learning_rate` instead.\n",
            "  \"The `lr` argument is deprecated, use `learning_rate` instead.\")\n"
          ],
          "name": "stderr"
        },
        {
          "output_type": "stream",
          "text": [
            "Epoch 1/20\n",
            "390/390 [==============================] - 299s 763ms/step - loss: 0.1923 - accuracy: 0.9389 - val_loss: 0.3188 - val_accuracy: 0.9038\n",
            "Epoch 2/20\n",
            "390/390 [==============================] - 297s 762ms/step - loss: 0.1763 - accuracy: 0.9442 - val_loss: 0.3203 - val_accuracy: 0.9023\n",
            "Epoch 3/20\n",
            "390/390 [==============================] - 296s 760ms/step - loss: 0.1666 - accuracy: 0.9470 - val_loss: 0.3161 - val_accuracy: 0.9038\n",
            "Epoch 4/20\n",
            "390/390 [==============================] - 297s 761ms/step - loss: 0.1612 - accuracy: 0.9468 - val_loss: 0.3062 - val_accuracy: 0.9054\n",
            "Epoch 5/20\n",
            "390/390 [==============================] - 297s 761ms/step - loss: 0.1557 - accuracy: 0.9494 - val_loss: 0.3129 - val_accuracy: 0.9061\n",
            "Epoch 6/20\n",
            "390/390 [==============================] - 297s 762ms/step - loss: 0.1519 - accuracy: 0.9506 - val_loss: 0.3007 - val_accuracy: 0.9077\n",
            "Epoch 7/20\n",
            "390/390 [==============================] - 296s 760ms/step - loss: 0.1503 - accuracy: 0.9508 - val_loss: 0.2982 - val_accuracy: 0.9081\n",
            "Epoch 8/20\n",
            "390/390 [==============================] - 297s 762ms/step - loss: 0.1436 - accuracy: 0.9542 - val_loss: 0.3061 - val_accuracy: 0.9092\n",
            "Epoch 9/20\n",
            "390/390 [==============================] - 297s 761ms/step - loss: 0.1414 - accuracy: 0.9535 - val_loss: 0.3112 - val_accuracy: 0.9058\n",
            "Epoch 10/20\n",
            "390/390 [==============================] - 297s 761ms/step - loss: 0.1399 - accuracy: 0.9545 - val_loss: 0.3177 - val_accuracy: 0.9077\n",
            "Epoch 11/20\n",
            "390/390 [==============================] - 297s 762ms/step - loss: 0.1339 - accuracy: 0.9560 - val_loss: 0.3143 - val_accuracy: 0.9074\n",
            "Epoch 12/20\n",
            "390/390 [==============================] - 297s 762ms/step - loss: 0.1329 - accuracy: 0.9554 - val_loss: 0.3141 - val_accuracy: 0.9100\n",
            "Epoch 13/20\n",
            "390/390 [==============================] - 297s 762ms/step - loss: 0.1334 - accuracy: 0.9567 - val_loss: 0.3021 - val_accuracy: 0.9119\n",
            "Epoch 14/20\n",
            "390/390 [==============================] - 296s 760ms/step - loss: 0.1295 - accuracy: 0.9589 - val_loss: 0.3053 - val_accuracy: 0.9103\n",
            "Epoch 15/20\n",
            "390/390 [==============================] - 297s 761ms/step - loss: 0.1276 - accuracy: 0.9581 - val_loss: 0.3027 - val_accuracy: 0.9116\n",
            "Epoch 16/20\n",
            "390/390 [==============================] - 297s 761ms/step - loss: 0.1313 - accuracy: 0.9566 - val_loss: 0.3022 - val_accuracy: 0.9088\n",
            "Epoch 17/20\n",
            "390/390 [==============================] - 298s 763ms/step - loss: 0.1238 - accuracy: 0.9598 - val_loss: 0.3081 - val_accuracy: 0.9103\n",
            "Epoch 18/20\n",
            "390/390 [==============================] - 297s 761ms/step - loss: 0.1235 - accuracy: 0.9594 - val_loss: 0.2968 - val_accuracy: 0.9145\n",
            "Epoch 19/20\n",
            "390/390 [==============================] - 297s 761ms/step - loss: 0.1204 - accuracy: 0.9610 - val_loss: 0.3066 - val_accuracy: 0.9117\n",
            "Epoch 20/20\n",
            "390/390 [==============================] - 297s 763ms/step - loss: 0.1179 - accuracy: 0.9611 - val_loss: 0.3059 - val_accuracy: 0.9111\n"
          ],
          "name": "stdout"
        },
        {
          "output_type": "display_data",
          "data": {
            "image/png": "[encoded data removed]",
            "text/plain": [
              "<Figure size 432x288 with 1 Axes>"
            ]
          },
          "metadata": {
            "tags": [],
            "needs_background": "light"
          }
        }
      ]
    },
    {
      "cell_type": "code",
      "metadata": {
        "colab": {
          "base_uri": "https://localhost:8080/"
        },
        "id": "zs4KXSWhqkB_",
        "outputId": "dad8b634-e5c6-4112-9520-8454320a6516"
      },
      "source": [
        "model.summary()"
      ],
      "execution_count": null,
      "outputs": [
        {
          "output_type": "stream",
          "text": [
            "Model: \"sequential\"\n",
            "_________________________________________________________________\n",
            "Layer (type)                 Output Shape              Param #   \n",
            "=================================================================\n",
            "batch_normalization (BatchNo (None, 32, 32, 3)         12        \n",
            "_________________________________________________________________\n",
            "conv2d (Conv2D)              (None, 32, 32, 1024)      28672     \n",
            "_________________________________________________________________\n",
            "conv2d_1 (Conv2D)            (None, 32, 32, 1024)      9438208   \n",
            "_________________________________________________________________\n",
            "max_pooling2d (MaxPooling2D) (None, 16, 16, 1024)      0         \n",
            "_________________________________________________________________\n",
            "dropout (Dropout)            (None, 16, 16, 1024)      0         \n",
            "_________________________________________________________________\n",
            "batch_normalization_1 (Batch (None, 16, 16, 1024)      4096      \n",
            "_________________________________________________________________\n",
            "conv2d_2 (Conv2D)            (None, 16, 16, 512)       4719104   \n",
            "_________________________________________________________________\n",
            "conv2d_3 (Conv2D)            (None, 16, 16, 512)       2359808   \n",
            "_________________________________________________________________\n",
            "max_pooling2d_1 (MaxPooling2 (None, 8, 8, 512)         0         \n",
            "_________________________________________________________________\n",
            "dropout_1 (Dropout)          (None, 8, 8, 512)         0         \n",
            "_________________________________________________________________\n",
            "batch_normalization_2 (Batch (None, 8, 8, 512)         2048      \n",
            "_________________________________________________________________\n",
            "conv2d_4 (Conv2D)            (None, 8, 8, 256)         1179904   \n",
            "_________________________________________________________________\n",
            "conv2d_5 (Conv2D)            (None, 8, 8, 256)         590080    \n",
            "_________________________________________________________________\n",
            "max_pooling2d_2 (MaxPooling2 (None, 4, 4, 256)         0         \n",
            "_________________________________________________________________\n",
            "dropout_2 (Dropout)          (None, 4, 4, 256)         0         \n",
            "_________________________________________________________________\n",
            "batch_normalization_3 (Batch (None, 4, 4, 256)         1024      \n",
            "_________________________________________________________________\n",
            "conv2d_6 (Conv2D)            (None, 4, 4, 128)         295040    \n",
            "_________________________________________________________________\n",
            "conv2d_7 (Conv2D)            (None, 4, 4, 128)         147584    \n",
            "_________________________________________________________________\n",
            "max_pooling2d_3 (MaxPooling2 (None, 2, 2, 128)         0         \n",
            "_________________________________________________________________\n",
            "dropout_3 (Dropout)          (None, 2, 2, 128)         0         \n",
            "_________________________________________________________________\n",
            "batch_normalization_4 (Batch (None, 2, 2, 128)         512       \n",
            "_________________________________________________________________\n",
            "conv2d_8 (Conv2D)            (None, 2, 2, 64)          73792     \n",
            "_________________________________________________________________\n",
            "conv2d_9 (Conv2D)            (None, 2, 2, 64)          36928     \n",
            "_________________________________________________________________\n",
            "dropout_4 (Dropout)          (None, 2, 2, 64)          0         \n",
            "_________________________________________________________________\n",
            "batch_normalization_5 (Batch (None, 2, 2, 64)          256       \n",
            "_________________________________________________________________\n",
            "conv2d_10 (Conv2D)           (None, 2, 2, 32)          18464     \n",
            "_________________________________________________________________\n",
            "conv2d_11 (Conv2D)           (None, 2, 2, 32)          9248      \n",
            "_________________________________________________________________\n",
            "dropout_5 (Dropout)          (None, 2, 2, 32)          0         \n",
            "_________________________________________________________________\n",
            "flatten (Flatten)            (None, 128)               0         \n",
            "_________________________________________________________________\n",
            "dense (Dense)                (None, 1024)              132096    \n",
            "_________________________________________________________________\n",
            "dropout_6 (Dropout)          (None, 1024)              0         \n",
            "_________________________________________________________________\n",
            "dense_1 (Dense)              (None, 512)               524800    \n",
            "_________________________________________________________________\n",
            "dense_2 (Dense)              (None, 10)                5130      \n",
            "=================================================================\n",
            "Total params: 19,566,806\n",
            "Trainable params: 19,562,832\n",
            "Non-trainable params: 3,974\n",
            "_________________________________________________________________\n"
          ],
          "name": "stdout"
        }
      ]
    },
    {
      "cell_type": "markdown",
      "metadata": {
        "id": "xGL2r5GHGIMH"
      },
      "source": [
        "### уменьшение параметра lr в оптимайзере adam в 10 раз по сравнению с предыдущим экспериментом позволяет уменьшить количество эпох обучения в 2 раза, что значительно сокращает время обучения с 3,5 часов до 1,5 часов"
      ]
    },
    {
      "cell_type": "markdown",
      "metadata": {
        "id": "SmlsuE_vpSpP"
      },
      "source": [
        "# Pro Вариант 3\n",
        "\n",
        "Добейтесь точности не менее 90% на проверочной выборке на базе трех иномарок. Размер проверочной выборки - 20%."
      ]
    },
    {
      "cell_type": "markdown",
      "metadata": {
        "id": "QPzAnt4MvARf"
      },
      "source": [
        "данное задание прийдется выполнить в новом аккаунте из-за ограничений коллаба"
      ]
    },
    {
      "cell_type": "code",
      "metadata": {
        "id": "FgDv21Bxsy0v"
      },
      "source": [
        ""
      ],
      "execution_count": null,
      "outputs": []
    }
  ]
}